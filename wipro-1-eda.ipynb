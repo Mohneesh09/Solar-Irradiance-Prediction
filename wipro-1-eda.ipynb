{
 "cells": [
  {
   "cell_type": "code",
   "execution_count": 1,
   "id": "3e2a42a9",
   "metadata": {
    "_cell_guid": "b1076dfc-b9ad-4769-8c92-a6c4dae69d19",
    "_uuid": "8f2839f25d086af736a60e9eeb907d3b93b6e0e5",
    "execution": {
     "iopub.execute_input": "2023-04-12T17:07:44.316667Z",
     "iopub.status.busy": "2023-04-12T17:07:44.316004Z",
     "iopub.status.idle": "2023-04-12T17:07:46.406447Z",
     "shell.execute_reply": "2023-04-12T17:07:46.405018Z"
    },
    "papermill": {
     "duration": 2.102595,
     "end_time": "2023-04-12T17:07:46.409053",
     "exception": false,
     "start_time": "2023-04-12T17:07:44.306458",
     "status": "completed"
    },
    "tags": []
   },
   "outputs": [],
   "source": [
    "import numpy as np\n",
    "import pandas as pd\n",
    "from sklearn.model_selection import train_test_split, cross_validate, KFold\n",
    "from sklearn.preprocessing import StandardScaler\n",
    "from sklearn.metrics import mean_squared_error, SCORERS\n",
    "from xgboost import XGBRegressor,XGBClassifier\n",
    "import optuna\n",
    "import matplotlib.pyplot as plt\n",
    "import seaborn as sns\n",
    "from catboost import CatBoostClassifier\n",
    "%matplotlib inline"
   ]
  },
  {
   "cell_type": "code",
   "execution_count": 2,
   "id": "54a8066e",
   "metadata": {
    "execution": {
     "iopub.execute_input": "2023-04-12T17:07:46.422348Z",
     "iopub.status.busy": "2023-04-12T17:07:46.421962Z",
     "iopub.status.idle": "2023-04-12T17:07:46.810789Z",
     "shell.execute_reply": "2023-04-12T17:07:46.809124Z"
    },
    "papermill": {
     "duration": 0.39874,
     "end_time": "2023-04-12T17:07:46.813690",
     "exception": false,
     "start_time": "2023-04-12T17:07:46.414950",
     "status": "completed"
    },
    "tags": []
   },
   "outputs": [],
   "source": [
    "#data prep\n",
    "trainset = pd.read_csv(\"/kaggle/input/mh-wipro-sustainable-ml-challenge/train.csv\")\n",
    "testset = pd.read_csv(\"/kaggle/input/mh-wipro-sustainable-ml-challenge/test.csv\")"
   ]
  },
  {
   "cell_type": "code",
   "execution_count": 3,
   "id": "e2631647",
   "metadata": {
    "execution": {
     "iopub.execute_input": "2023-04-12T17:07:46.826542Z",
     "iopub.status.busy": "2023-04-12T17:07:46.826116Z",
     "iopub.status.idle": "2023-04-12T17:07:46.857437Z",
     "shell.execute_reply": "2023-04-12T17:07:46.856187Z"
    },
    "papermill": {
     "duration": 0.04079,
     "end_time": "2023-04-12T17:07:46.860086",
     "exception": false,
     "start_time": "2023-04-12T17:07:46.819296",
     "status": "completed"
    },
    "tags": []
   },
   "outputs": [
    {
     "data": {
      "text/html": [
       "<div>\n",
       "<style scoped>\n",
       "    .dataframe tbody tr th:only-of-type {\n",
       "        vertical-align: middle;\n",
       "    }\n",
       "\n",
       "    .dataframe tbody tr th {\n",
       "        vertical-align: top;\n",
       "    }\n",
       "\n",
       "    .dataframe thead th {\n",
       "        text-align: right;\n",
       "    }\n",
       "</style>\n",
       "<table border=\"1\" class=\"dataframe\">\n",
       "  <thead>\n",
       "    <tr style=\"text-align: right;\">\n",
       "      <th></th>\n",
       "      <th>Year</th>\n",
       "      <th>Month</th>\n",
       "      <th>Day</th>\n",
       "      <th>Hour</th>\n",
       "      <th>Minute</th>\n",
       "      <th>Clearsky DHI</th>\n",
       "      <th>Clearsky DNI</th>\n",
       "      <th>Clearsky GHI</th>\n",
       "      <th>Cloud Type</th>\n",
       "      <th>Dew Point</th>\n",
       "      <th>Temperature</th>\n",
       "      <th>Pressure</th>\n",
       "      <th>Relative Humidity</th>\n",
       "      <th>Solar Zenith Angle</th>\n",
       "      <th>Precipitable Water</th>\n",
       "      <th>Wind Direction</th>\n",
       "      <th>Wind Speed</th>\n",
       "      <th>Fill Flag</th>\n",
       "    </tr>\n",
       "  </thead>\n",
       "  <tbody>\n",
       "    <tr>\n",
       "      <th>0</th>\n",
       "      <td>2009</td>\n",
       "      <td>1</td>\n",
       "      <td>1</td>\n",
       "      <td>0</td>\n",
       "      <td>0</td>\n",
       "      <td>0</td>\n",
       "      <td>0</td>\n",
       "      <td>0</td>\n",
       "      <td>0</td>\n",
       "      <td>0.0</td>\n",
       "      <td>5.0</td>\n",
       "      <td>1010</td>\n",
       "      <td>75.34</td>\n",
       "      <td>106.15</td>\n",
       "      <td>0.499</td>\n",
       "      <td>346.1</td>\n",
       "      <td>3.1</td>\n",
       "      <td>0</td>\n",
       "    </tr>\n",
       "    <tr>\n",
       "      <th>1</th>\n",
       "      <td>2009</td>\n",
       "      <td>1</td>\n",
       "      <td>1</td>\n",
       "      <td>0</td>\n",
       "      <td>30</td>\n",
       "      <td>0</td>\n",
       "      <td>0</td>\n",
       "      <td>0</td>\n",
       "      <td>0</td>\n",
       "      <td>1.0</td>\n",
       "      <td>5.0</td>\n",
       "      <td>1010</td>\n",
       "      <td>80.81</td>\n",
       "      <td>112.28</td>\n",
       "      <td>0.490</td>\n",
       "      <td>346.1</td>\n",
       "      <td>3.1</td>\n",
       "      <td>0</td>\n",
       "    </tr>\n",
       "    <tr>\n",
       "      <th>2</th>\n",
       "      <td>2009</td>\n",
       "      <td>1</td>\n",
       "      <td>1</td>\n",
       "      <td>1</td>\n",
       "      <td>0</td>\n",
       "      <td>0</td>\n",
       "      <td>0</td>\n",
       "      <td>0</td>\n",
       "      <td>4</td>\n",
       "      <td>0.0</td>\n",
       "      <td>5.0</td>\n",
       "      <td>1010</td>\n",
       "      <td>78.27</td>\n",
       "      <td>118.50</td>\n",
       "      <td>0.482</td>\n",
       "      <td>347.9</td>\n",
       "      <td>3.2</td>\n",
       "      <td>0</td>\n",
       "    </tr>\n",
       "    <tr>\n",
       "      <th>3</th>\n",
       "      <td>2009</td>\n",
       "      <td>1</td>\n",
       "      <td>1</td>\n",
       "      <td>1</td>\n",
       "      <td>30</td>\n",
       "      <td>0</td>\n",
       "      <td>0</td>\n",
       "      <td>0</td>\n",
       "      <td>4</td>\n",
       "      <td>0.0</td>\n",
       "      <td>4.0</td>\n",
       "      <td>1010</td>\n",
       "      <td>78.27</td>\n",
       "      <td>124.78</td>\n",
       "      <td>0.478</td>\n",
       "      <td>347.9</td>\n",
       "      <td>3.1</td>\n",
       "      <td>0</td>\n",
       "    </tr>\n",
       "    <tr>\n",
       "      <th>4</th>\n",
       "      <td>2009</td>\n",
       "      <td>1</td>\n",
       "      <td>1</td>\n",
       "      <td>2</td>\n",
       "      <td>0</td>\n",
       "      <td>0</td>\n",
       "      <td>0</td>\n",
       "      <td>0</td>\n",
       "      <td>4</td>\n",
       "      <td>0.0</td>\n",
       "      <td>4.0</td>\n",
       "      <td>1010</td>\n",
       "      <td>76.45</td>\n",
       "      <td>131.12</td>\n",
       "      <td>0.475</td>\n",
       "      <td>350.0</td>\n",
       "      <td>3.0</td>\n",
       "      <td>0</td>\n",
       "    </tr>\n",
       "  </tbody>\n",
       "</table>\n",
       "</div>"
      ],
      "text/plain": [
       "   Year  Month  Day  Hour  Minute  Clearsky DHI  Clearsky DNI  Clearsky GHI  \\\n",
       "0  2009      1    1     0       0             0             0             0   \n",
       "1  2009      1    1     0      30             0             0             0   \n",
       "2  2009      1    1     1       0             0             0             0   \n",
       "3  2009      1    1     1      30             0             0             0   \n",
       "4  2009      1    1     2       0             0             0             0   \n",
       "\n",
       "   Cloud Type  Dew Point  Temperature  Pressure  Relative Humidity  \\\n",
       "0           0        0.0          5.0      1010              75.34   \n",
       "1           0        1.0          5.0      1010              80.81   \n",
       "2           4        0.0          5.0      1010              78.27   \n",
       "3           4        0.0          4.0      1010              78.27   \n",
       "4           4        0.0          4.0      1010              76.45   \n",
       "\n",
       "   Solar Zenith Angle  Precipitable Water  Wind Direction  Wind Speed  \\\n",
       "0              106.15               0.499           346.1         3.1   \n",
       "1              112.28               0.490           346.1         3.1   \n",
       "2              118.50               0.482           347.9         3.2   \n",
       "3              124.78               0.478           347.9         3.1   \n",
       "4              131.12               0.475           350.0         3.0   \n",
       "\n",
       "   Fill Flag  \n",
       "0          0  \n",
       "1          0  \n",
       "2          0  \n",
       "3          0  \n",
       "4          0  "
      ]
     },
     "execution_count": 3,
     "metadata": {},
     "output_type": "execute_result"
    }
   ],
   "source": [
    "trainset.head()"
   ]
  },
  {
   "cell_type": "code",
   "execution_count": 4,
   "id": "9eb821df",
   "metadata": {
    "execution": {
     "iopub.execute_input": "2023-04-12T17:07:46.873245Z",
     "iopub.status.busy": "2023-04-12T17:07:46.872896Z",
     "iopub.status.idle": "2023-04-12T17:07:46.900786Z",
     "shell.execute_reply": "2023-04-12T17:07:46.899445Z"
    },
    "papermill": {
     "duration": 0.037408,
     "end_time": "2023-04-12T17:07:46.903505",
     "exception": false,
     "start_time": "2023-04-12T17:07:46.866097",
     "status": "completed"
    },
    "tags": []
   },
   "outputs": [
    {
     "name": "stdout",
     "output_type": "stream",
     "text": [
      "<class 'pandas.core.frame.DataFrame'>\n",
      "RangeIndex: 175296 entries, 0 to 175295\n",
      "Data columns (total 18 columns):\n",
      " #   Column              Non-Null Count   Dtype  \n",
      "---  ------              --------------   -----  \n",
      " 0   Year                175296 non-null  int64  \n",
      " 1   Month               175296 non-null  int64  \n",
      " 2   Day                 175296 non-null  int64  \n",
      " 3   Hour                175296 non-null  int64  \n",
      " 4   Minute              175296 non-null  int64  \n",
      " 5   Clearsky DHI        175296 non-null  int64  \n",
      " 6   Clearsky DNI        175296 non-null  int64  \n",
      " 7   Clearsky GHI        175296 non-null  int64  \n",
      " 8   Cloud Type          175296 non-null  int64  \n",
      " 9   Dew Point           175296 non-null  float64\n",
      " 10  Temperature         175296 non-null  float64\n",
      " 11  Pressure            175296 non-null  int64  \n",
      " 12  Relative Humidity   175296 non-null  float64\n",
      " 13  Solar Zenith Angle  175296 non-null  float64\n",
      " 14  Precipitable Water  175296 non-null  float64\n",
      " 15  Wind Direction      175296 non-null  float64\n",
      " 16  Wind Speed          175296 non-null  float64\n",
      " 17  Fill Flag           175296 non-null  int64  \n",
      "dtypes: float64(7), int64(11)\n",
      "memory usage: 24.1 MB\n"
     ]
    }
   ],
   "source": [
    "trainset.info()"
   ]
  },
  {
   "cell_type": "code",
   "execution_count": 5,
   "id": "76d7ada1",
   "metadata": {
    "execution": {
     "iopub.execute_input": "2023-04-12T17:07:46.916717Z",
     "iopub.status.busy": "2023-04-12T17:07:46.916351Z",
     "iopub.status.idle": "2023-04-12T17:07:46.936678Z",
     "shell.execute_reply": "2023-04-12T17:07:46.935427Z"
    },
    "papermill": {
     "duration": 0.029512,
     "end_time": "2023-04-12T17:07:46.938866",
     "exception": false,
     "start_time": "2023-04-12T17:07:46.909354",
     "status": "completed"
    },
    "tags": []
   },
   "outputs": [
    {
     "data": {
      "text/html": [
       "<div>\n",
       "<style scoped>\n",
       "    .dataframe tbody tr th:only-of-type {\n",
       "        vertical-align: middle;\n",
       "    }\n",
       "\n",
       "    .dataframe tbody tr th {\n",
       "        vertical-align: top;\n",
       "    }\n",
       "\n",
       "    .dataframe thead th {\n",
       "        text-align: right;\n",
       "    }\n",
       "</style>\n",
       "<table border=\"1\" class=\"dataframe\">\n",
       "  <thead>\n",
       "    <tr style=\"text-align: right;\">\n",
       "      <th></th>\n",
       "      <th>Year</th>\n",
       "      <th>Month</th>\n",
       "      <th>Day</th>\n",
       "      <th>Hour</th>\n",
       "      <th>Minute</th>\n",
       "      <th>Cloud Type</th>\n",
       "      <th>Dew Point</th>\n",
       "      <th>Temperature</th>\n",
       "      <th>Pressure</th>\n",
       "      <th>Relative Humidity</th>\n",
       "      <th>Solar Zenith Angle</th>\n",
       "      <th>Precipitable Water</th>\n",
       "      <th>Wind Direction</th>\n",
       "      <th>Wind Speed</th>\n",
       "      <th>Fill Flag</th>\n",
       "      <th>Clearsky DHI</th>\n",
       "      <th>Clearsky DNI</th>\n",
       "      <th>Clearsky GHI</th>\n",
       "    </tr>\n",
       "  </thead>\n",
       "  <tbody>\n",
       "    <tr>\n",
       "      <th>0</th>\n",
       "      <td>2019</td>\n",
       "      <td>1</td>\n",
       "      <td>1</td>\n",
       "      <td>0</td>\n",
       "      <td>0</td>\n",
       "      <td>7</td>\n",
       "      <td>18.4</td>\n",
       "      <td>18.8</td>\n",
       "      <td>1008</td>\n",
       "      <td>97.70</td>\n",
       "      <td>106.23</td>\n",
       "      <td>3.5</td>\n",
       "      <td>190</td>\n",
       "      <td>2.3</td>\n",
       "      <td>0</td>\n",
       "      <td>NaN</td>\n",
       "      <td>NaN</td>\n",
       "      <td>NaN</td>\n",
       "    </tr>\n",
       "    <tr>\n",
       "      <th>1</th>\n",
       "      <td>2019</td>\n",
       "      <td>1</td>\n",
       "      <td>1</td>\n",
       "      <td>0</td>\n",
       "      <td>30</td>\n",
       "      <td>3</td>\n",
       "      <td>18.4</td>\n",
       "      <td>18.6</td>\n",
       "      <td>1008</td>\n",
       "      <td>98.92</td>\n",
       "      <td>112.36</td>\n",
       "      <td>3.5</td>\n",
       "      <td>187</td>\n",
       "      <td>2.5</td>\n",
       "      <td>0</td>\n",
       "      <td>NaN</td>\n",
       "      <td>NaN</td>\n",
       "      <td>NaN</td>\n",
       "    </tr>\n",
       "    <tr>\n",
       "      <th>2</th>\n",
       "      <td>2019</td>\n",
       "      <td>1</td>\n",
       "      <td>1</td>\n",
       "      <td>1</td>\n",
       "      <td>0</td>\n",
       "      <td>3</td>\n",
       "      <td>18.2</td>\n",
       "      <td>18.5</td>\n",
       "      <td>1008</td>\n",
       "      <td>98.35</td>\n",
       "      <td>118.58</td>\n",
       "      <td>3.5</td>\n",
       "      <td>184</td>\n",
       "      <td>2.8</td>\n",
       "      <td>0</td>\n",
       "      <td>NaN</td>\n",
       "      <td>NaN</td>\n",
       "      <td>NaN</td>\n",
       "    </tr>\n",
       "    <tr>\n",
       "      <th>3</th>\n",
       "      <td>2019</td>\n",
       "      <td>1</td>\n",
       "      <td>1</td>\n",
       "      <td>1</td>\n",
       "      <td>30</td>\n",
       "      <td>3</td>\n",
       "      <td>18.2</td>\n",
       "      <td>18.3</td>\n",
       "      <td>1008</td>\n",
       "      <td>99.58</td>\n",
       "      <td>124.86</td>\n",
       "      <td>3.5</td>\n",
       "      <td>185</td>\n",
       "      <td>3.0</td>\n",
       "      <td>0</td>\n",
       "      <td>NaN</td>\n",
       "      <td>NaN</td>\n",
       "      <td>NaN</td>\n",
       "    </tr>\n",
       "    <tr>\n",
       "      <th>4</th>\n",
       "      <td>2019</td>\n",
       "      <td>1</td>\n",
       "      <td>1</td>\n",
       "      <td>2</td>\n",
       "      <td>0</td>\n",
       "      <td>0</td>\n",
       "      <td>18.0</td>\n",
       "      <td>18.0</td>\n",
       "      <td>1008</td>\n",
       "      <td>99.71</td>\n",
       "      <td>131.20</td>\n",
       "      <td>3.6</td>\n",
       "      <td>186</td>\n",
       "      <td>3.1</td>\n",
       "      <td>0</td>\n",
       "      <td>NaN</td>\n",
       "      <td>NaN</td>\n",
       "      <td>NaN</td>\n",
       "    </tr>\n",
       "  </tbody>\n",
       "</table>\n",
       "</div>"
      ],
      "text/plain": [
       "   Year  Month  Day  Hour  Minute  Cloud Type  Dew Point  Temperature  \\\n",
       "0  2019      1    1     0       0           7       18.4         18.8   \n",
       "1  2019      1    1     0      30           3       18.4         18.6   \n",
       "2  2019      1    1     1       0           3       18.2         18.5   \n",
       "3  2019      1    1     1      30           3       18.2         18.3   \n",
       "4  2019      1    1     2       0           0       18.0         18.0   \n",
       "\n",
       "   Pressure  Relative Humidity  Solar Zenith Angle  Precipitable Water  \\\n",
       "0      1008              97.70              106.23                 3.5   \n",
       "1      1008              98.92              112.36                 3.5   \n",
       "2      1008              98.35              118.58                 3.5   \n",
       "3      1008              99.58              124.86                 3.5   \n",
       "4      1008              99.71              131.20                 3.6   \n",
       "\n",
       "   Wind Direction  Wind Speed  Fill Flag  Clearsky DHI  Clearsky DNI  \\\n",
       "0             190         2.3          0           NaN           NaN   \n",
       "1             187         2.5          0           NaN           NaN   \n",
       "2             184         2.8          0           NaN           NaN   \n",
       "3             185         3.0          0           NaN           NaN   \n",
       "4             186         3.1          0           NaN           NaN   \n",
       "\n",
       "   Clearsky GHI  \n",
       "0           NaN  \n",
       "1           NaN  \n",
       "2           NaN  \n",
       "3           NaN  \n",
       "4           NaN  "
      ]
     },
     "execution_count": 5,
     "metadata": {},
     "output_type": "execute_result"
    }
   ],
   "source": [
    "testset.head()"
   ]
  },
  {
   "cell_type": "code",
   "execution_count": 6,
   "id": "7cde329a",
   "metadata": {
    "execution": {
     "iopub.execute_input": "2023-04-12T17:07:46.952427Z",
     "iopub.status.busy": "2023-04-12T17:07:46.952070Z",
     "iopub.status.idle": "2023-04-12T17:07:46.991035Z",
     "shell.execute_reply": "2023-04-12T17:07:46.990032Z"
    },
    "papermill": {
     "duration": 0.048443,
     "end_time": "2023-04-12T17:07:46.993354",
     "exception": false,
     "start_time": "2023-04-12T17:07:46.944911",
     "status": "completed"
    },
    "tags": []
   },
   "outputs": [
    {
     "data": {
      "text/plain": [
       "Year                  -0.000144\n",
       "Month                 -0.009526\n",
       "Day                    0.006912\n",
       "Hour                   0.000000\n",
       "Minute                 0.000000\n",
       "Clearsky DHI           0.925063\n",
       "Clearsky DNI           0.406380\n",
       "Clearsky GHI           0.883322\n",
       "Cloud Type             0.713420\n",
       "Dew Point             -0.678322\n",
       "Temperature           -0.355291\n",
       "Pressure               0.221701\n",
       "Relative Humidity     -0.765209\n",
       "Solar Zenith Angle    -0.001963\n",
       "Precipitable Water     0.111489\n",
       "Wind Direction        -0.119570\n",
       "Wind Speed             1.086645\n",
       "Fill Flag             12.829921\n",
       "dtype: float64"
      ]
     },
     "execution_count": 6,
     "metadata": {},
     "output_type": "execute_result"
    }
   ],
   "source": [
    "trainset.skew()"
   ]
  },
  {
   "cell_type": "markdown",
   "id": "06767c68",
   "metadata": {
    "papermill": {
     "duration": 0.005871,
     "end_time": "2023-04-12T17:07:47.005708",
     "exception": false,
     "start_time": "2023-04-12T17:07:46.999837",
     "status": "completed"
    },
    "tags": []
   },
   "source": [
    "We observe that target variables and one of the most relevant feature `Cloud Type` is highly postively skewed.\n",
    "\n",
    "This also gives intution of correlation between these four features.\n",
    "\n",
    "We will later visualize these using boxplot and histograms."
   ]
  },
  {
   "cell_type": "code",
   "execution_count": 7,
   "id": "3df4500b",
   "metadata": {
    "execution": {
     "iopub.execute_input": "2023-04-12T17:07:47.020190Z",
     "iopub.status.busy": "2023-04-12T17:07:47.019705Z",
     "iopub.status.idle": "2023-04-12T17:07:47.127614Z",
     "shell.execute_reply": "2023-04-12T17:07:47.126677Z"
    },
    "papermill": {
     "duration": 0.117473,
     "end_time": "2023-04-12T17:07:47.129344",
     "exception": false,
     "start_time": "2023-04-12T17:07:47.011871",
     "status": "completed"
    },
    "tags": []
   },
   "outputs": [
    {
     "data": {
      "text/html": [
       "<div>\n",
       "<style scoped>\n",
       "    .dataframe tbody tr th:only-of-type {\n",
       "        vertical-align: middle;\n",
       "    }\n",
       "\n",
       "    .dataframe tbody tr th {\n",
       "        vertical-align: top;\n",
       "    }\n",
       "\n",
       "    .dataframe thead th {\n",
       "        text-align: right;\n",
       "    }\n",
       "</style>\n",
       "<table border=\"1\" class=\"dataframe\">\n",
       "  <thead>\n",
       "    <tr style=\"text-align: right;\">\n",
       "      <th></th>\n",
       "      <th>Year</th>\n",
       "      <th>Month</th>\n",
       "      <th>Day</th>\n",
       "      <th>Hour</th>\n",
       "      <th>Minute</th>\n",
       "      <th>Clearsky DHI</th>\n",
       "      <th>Clearsky DNI</th>\n",
       "      <th>Clearsky GHI</th>\n",
       "      <th>Cloud Type</th>\n",
       "      <th>Dew Point</th>\n",
       "      <th>Temperature</th>\n",
       "      <th>Pressure</th>\n",
       "      <th>Relative Humidity</th>\n",
       "      <th>Solar Zenith Angle</th>\n",
       "      <th>Precipitable Water</th>\n",
       "      <th>Wind Direction</th>\n",
       "      <th>Wind Speed</th>\n",
       "      <th>Fill Flag</th>\n",
       "    </tr>\n",
       "  </thead>\n",
       "  <tbody>\n",
       "    <tr>\n",
       "      <th>count</th>\n",
       "      <td>175296.000000</td>\n",
       "      <td>175296.000000</td>\n",
       "      <td>175296.000000</td>\n",
       "      <td>175296.000000</td>\n",
       "      <td>175296.000000</td>\n",
       "      <td>175296.000000</td>\n",
       "      <td>175296.000000</td>\n",
       "      <td>175296.000000</td>\n",
       "      <td>175296.000000</td>\n",
       "      <td>175296.000000</td>\n",
       "      <td>175296.000000</td>\n",
       "      <td>175296.000000</td>\n",
       "      <td>175296.000000</td>\n",
       "      <td>175296.000000</td>\n",
       "      <td>175296.000000</td>\n",
       "      <td>175296.000000</td>\n",
       "      <td>175296.000000</td>\n",
       "      <td>175296.000000</td>\n",
       "    </tr>\n",
       "    <tr>\n",
       "      <th>mean</th>\n",
       "      <td>2013.500274</td>\n",
       "      <td>6.523549</td>\n",
       "      <td>15.727820</td>\n",
       "      <td>11.500000</td>\n",
       "      <td>15.000000</td>\n",
       "      <td>53.065426</td>\n",
       "      <td>330.065295</td>\n",
       "      <td>254.365490</td>\n",
       "      <td>2.540474</td>\n",
       "      <td>13.564431</td>\n",
       "      <td>18.266769</td>\n",
       "      <td>1003.185230</td>\n",
       "      <td>79.376366</td>\n",
       "      <td>89.729463</td>\n",
       "      <td>2.903732</td>\n",
       "      <td>188.877796</td>\n",
       "      <td>2.262871</td>\n",
       "      <td>0.740433</td>\n",
       "    </tr>\n",
       "    <tr>\n",
       "      <th>std</th>\n",
       "      <td>2.871908</td>\n",
       "      <td>3.448543</td>\n",
       "      <td>8.799349</td>\n",
       "      <td>6.922206</td>\n",
       "      <td>15.000043</td>\n",
       "      <td>64.201407</td>\n",
       "      <td>370.030821</td>\n",
       "      <td>327.705006</td>\n",
       "      <td>3.021879</td>\n",
       "      <td>8.196787</td>\n",
       "      <td>8.943096</td>\n",
       "      <td>5.935749</td>\n",
       "      <td>19.678235</td>\n",
       "      <td>40.085451</td>\n",
       "      <td>1.546979</td>\n",
       "      <td>99.014733</td>\n",
       "      <td>1.281902</td>\n",
       "      <td>6.575655</td>\n",
       "    </tr>\n",
       "    <tr>\n",
       "      <th>min</th>\n",
       "      <td>2009.000000</td>\n",
       "      <td>1.000000</td>\n",
       "      <td>1.000000</td>\n",
       "      <td>0.000000</td>\n",
       "      <td>0.000000</td>\n",
       "      <td>0.000000</td>\n",
       "      <td>0.000000</td>\n",
       "      <td>0.000000</td>\n",
       "      <td>0.000000</td>\n",
       "      <td>-17.000000</td>\n",
       "      <td>-9.000000</td>\n",
       "      <td>970.000000</td>\n",
       "      <td>7.190000</td>\n",
       "      <td>8.550000</td>\n",
       "      <td>0.122000</td>\n",
       "      <td>0.000000</td>\n",
       "      <td>0.000000</td>\n",
       "      <td>0.000000</td>\n",
       "    </tr>\n",
       "    <tr>\n",
       "      <th>25%</th>\n",
       "      <td>2011.000000</td>\n",
       "      <td>4.000000</td>\n",
       "      <td>8.000000</td>\n",
       "      <td>5.750000</td>\n",
       "      <td>0.000000</td>\n",
       "      <td>0.000000</td>\n",
       "      <td>0.000000</td>\n",
       "      <td>0.000000</td>\n",
       "      <td>0.000000</td>\n",
       "      <td>8.000000</td>\n",
       "      <td>12.000000</td>\n",
       "      <td>1000.000000</td>\n",
       "      <td>65.590000</td>\n",
       "      <td>56.450000</td>\n",
       "      <td>1.534000</td>\n",
       "      <td>97.400000</td>\n",
       "      <td>1.300000</td>\n",
       "      <td>0.000000</td>\n",
       "    </tr>\n",
       "    <tr>\n",
       "      <th>50%</th>\n",
       "      <td>2013.500000</td>\n",
       "      <td>7.000000</td>\n",
       "      <td>16.000000</td>\n",
       "      <td>11.500000</td>\n",
       "      <td>15.000000</td>\n",
       "      <td>0.000000</td>\n",
       "      <td>0.000000</td>\n",
       "      <td>0.000000</td>\n",
       "      <td>1.000000</td>\n",
       "      <td>15.000000</td>\n",
       "      <td>20.000000</td>\n",
       "      <td>1000.000000</td>\n",
       "      <td>84.230000</td>\n",
       "      <td>89.860000</td>\n",
       "      <td>2.866000</td>\n",
       "      <td>200.000000</td>\n",
       "      <td>2.000000</td>\n",
       "      <td>0.000000</td>\n",
       "    </tr>\n",
       "    <tr>\n",
       "      <th>75%</th>\n",
       "      <td>2016.000000</td>\n",
       "      <td>10.000000</td>\n",
       "      <td>23.000000</td>\n",
       "      <td>17.250000</td>\n",
       "      <td>30.000000</td>\n",
       "      <td>103.000000</td>\n",
       "      <td>736.000000</td>\n",
       "      <td>535.000000</td>\n",
       "      <td>6.000000</td>\n",
       "      <td>21.000000</td>\n",
       "      <td>25.000000</td>\n",
       "      <td>1010.000000</td>\n",
       "      <td>97.950000</td>\n",
       "      <td>123.060000</td>\n",
       "      <td>4.223000</td>\n",
       "      <td>272.000000</td>\n",
       "      <td>3.000000</td>\n",
       "      <td>0.000000</td>\n",
       "    </tr>\n",
       "    <tr>\n",
       "      <th>max</th>\n",
       "      <td>2018.000000</td>\n",
       "      <td>12.000000</td>\n",
       "      <td>31.000000</td>\n",
       "      <td>23.000000</td>\n",
       "      <td>30.000000</td>\n",
       "      <td>565.000000</td>\n",
       "      <td>1040.000000</td>\n",
       "      <td>1063.000000</td>\n",
       "      <td>10.000000</td>\n",
       "      <td>26.900000</td>\n",
       "      <td>40.000000</td>\n",
       "      <td>1024.000000</td>\n",
       "      <td>100.000000</td>\n",
       "      <td>171.550000</td>\n",
       "      <td>7.700000</td>\n",
       "      <td>360.000000</td>\n",
       "      <td>12.900000</td>\n",
       "      <td>100.000000</td>\n",
       "    </tr>\n",
       "  </tbody>\n",
       "</table>\n",
       "</div>"
      ],
      "text/plain": [
       "                Year          Month            Day           Hour  \\\n",
       "count  175296.000000  175296.000000  175296.000000  175296.000000   \n",
       "mean     2013.500274       6.523549      15.727820      11.500000   \n",
       "std         2.871908       3.448543       8.799349       6.922206   \n",
       "min      2009.000000       1.000000       1.000000       0.000000   \n",
       "25%      2011.000000       4.000000       8.000000       5.750000   \n",
       "50%      2013.500000       7.000000      16.000000      11.500000   \n",
       "75%      2016.000000      10.000000      23.000000      17.250000   \n",
       "max      2018.000000      12.000000      31.000000      23.000000   \n",
       "\n",
       "              Minute   Clearsky DHI   Clearsky DNI   Clearsky GHI  \\\n",
       "count  175296.000000  175296.000000  175296.000000  175296.000000   \n",
       "mean       15.000000      53.065426     330.065295     254.365490   \n",
       "std        15.000043      64.201407     370.030821     327.705006   \n",
       "min         0.000000       0.000000       0.000000       0.000000   \n",
       "25%         0.000000       0.000000       0.000000       0.000000   \n",
       "50%        15.000000       0.000000       0.000000       0.000000   \n",
       "75%        30.000000     103.000000     736.000000     535.000000   \n",
       "max        30.000000     565.000000    1040.000000    1063.000000   \n",
       "\n",
       "          Cloud Type      Dew Point    Temperature       Pressure  \\\n",
       "count  175296.000000  175296.000000  175296.000000  175296.000000   \n",
       "mean        2.540474      13.564431      18.266769    1003.185230   \n",
       "std         3.021879       8.196787       8.943096       5.935749   \n",
       "min         0.000000     -17.000000      -9.000000     970.000000   \n",
       "25%         0.000000       8.000000      12.000000    1000.000000   \n",
       "50%         1.000000      15.000000      20.000000    1000.000000   \n",
       "75%         6.000000      21.000000      25.000000    1010.000000   \n",
       "max        10.000000      26.900000      40.000000    1024.000000   \n",
       "\n",
       "       Relative Humidity  Solar Zenith Angle  Precipitable Water  \\\n",
       "count      175296.000000       175296.000000       175296.000000   \n",
       "mean           79.376366           89.729463            2.903732   \n",
       "std            19.678235           40.085451            1.546979   \n",
       "min             7.190000            8.550000            0.122000   \n",
       "25%            65.590000           56.450000            1.534000   \n",
       "50%            84.230000           89.860000            2.866000   \n",
       "75%            97.950000          123.060000            4.223000   \n",
       "max           100.000000          171.550000            7.700000   \n",
       "\n",
       "       Wind Direction     Wind Speed      Fill Flag  \n",
       "count   175296.000000  175296.000000  175296.000000  \n",
       "mean       188.877796       2.262871       0.740433  \n",
       "std         99.014733       1.281902       6.575655  \n",
       "min          0.000000       0.000000       0.000000  \n",
       "25%         97.400000       1.300000       0.000000  \n",
       "50%        200.000000       2.000000       0.000000  \n",
       "75%        272.000000       3.000000       0.000000  \n",
       "max        360.000000      12.900000     100.000000  "
      ]
     },
     "execution_count": 7,
     "metadata": {},
     "output_type": "execute_result"
    }
   ],
   "source": [
    "trainset.describe()"
   ]
  },
  {
   "cell_type": "markdown",
   "id": "1be38b20",
   "metadata": {
    "papermill": {
     "duration": 0.006094,
     "end_time": "2023-04-12T17:07:47.141829",
     "exception": false,
     "start_time": "2023-04-12T17:07:47.135735",
     "status": "completed"
    },
    "tags": []
   },
   "source": [
    "Here we get some statistics of data.Few obvious observations are:\n",
    "* Clearsky DHI, Clearsky DNI , Clearsky GHI are all zero valued till it's median.\n",
    "* Cloud Type also has similar tendency but till median it does increase a little."
   ]
  },
  {
   "cell_type": "code",
   "execution_count": 8,
   "id": "eed8dd1c",
   "metadata": {
    "execution": {
     "iopub.execute_input": "2023-04-12T17:07:47.156439Z",
     "iopub.status.busy": "2023-04-12T17:07:47.156017Z",
     "iopub.status.idle": "2023-04-12T17:07:47.694069Z",
     "shell.execute_reply": "2023-04-12T17:07:47.692928Z"
    },
    "papermill": {
     "duration": 0.547712,
     "end_time": "2023-04-12T17:07:47.695913",
     "exception": false,
     "start_time": "2023-04-12T17:07:47.148201",
     "status": "completed"
    },
    "tags": []
   },
   "outputs": [
    {
     "data": {
      "text/plain": [
       "<AxesSubplot:>"
      ]
     },
     "execution_count": 8,
     "metadata": {},
     "output_type": "execute_result"
    },
    {
     "data": {
      "image/png": "[encoded data removed]",
      "text/plain": [
       "<Figure size 640x480 with 2 Axes>"
      ]
     },
     "metadata": {},
     "output_type": "display_data"
    }
   ],
   "source": [
    "corr_mat = trainset.corr()\n",
    "sns.heatmap(corr_mat)"
   ]
  },
  {
   "cell_type": "markdown",
   "id": "2e12624c",
   "metadata": {
    "papermill": {
     "duration": 0.006838,
     "end_time": "2023-04-12T17:07:47.710287",
     "exception": false,
     "start_time": "2023-04-12T17:07:47.703449",
     "status": "completed"
    },
    "tags": []
   },
   "source": [
    "* We see DHI, GHI, DNI are highly correlated.\n",
    "* DHI,GHI,DNI are greatly correlated to solar Zenith angle\n",
    "* Solar zenith angle has good correlation with hour, which is obvious and it lifts our burden to make use of time data as other features like solar zenith angle goves us the better picture.\n",
    "* Realtive humidity highly correlated to DHI,GHI,DNI.\n",
    "* Dew point and precipitable water have good correlation ."
   ]
  },
  {
   "cell_type": "markdown",
   "id": "7a2a92e4",
   "metadata": {
    "papermill": {
     "duration": 0.007112,
     "end_time": "2023-04-12T17:07:47.724830",
     "exception": false,
     "start_time": "2023-04-12T17:07:47.717718",
     "status": "completed"
    },
    "tags": []
   },
   "source": [
    "## Visual Analysis"
   ]
  },
  {
   "cell_type": "markdown",
   "id": "dece18c0",
   "metadata": {
    "papermill": {
     "duration": 0.007067,
     "end_time": "2023-04-12T17:07:47.739276",
     "exception": false,
     "start_time": "2023-04-12T17:07:47.732209",
     "status": "completed"
    },
    "tags": []
   },
   "source": [
    "We will mostly focus on targets and important feature like solar zenith angle, relative humidity etc."
   ]
  },
  {
   "cell_type": "markdown",
   "id": "05f57e9d",
   "metadata": {
    "papermill": {
     "duration": 0.006972,
     "end_time": "2023-04-12T17:07:47.753693",
     "exception": false,
     "start_time": "2023-04-12T17:07:47.746721",
     "status": "completed"
    },
    "tags": []
   },
   "source": [
    "### Histograms"
   ]
  },
  {
   "cell_type": "code",
   "execution_count": 9,
   "id": "21821861",
   "metadata": {
    "execution": {
     "iopub.execute_input": "2023-04-12T17:07:47.770564Z",
     "iopub.status.busy": "2023-04-12T17:07:47.769508Z",
     "iopub.status.idle": "2023-04-12T17:07:48.007314Z",
     "shell.execute_reply": "2023-04-12T17:07:48.006365Z"
    },
    "papermill": {
     "duration": 0.248973,
     "end_time": "2023-04-12T17:07:48.009797",
     "exception": false,
     "start_time": "2023-04-12T17:07:47.760824",
     "status": "completed"
    },
    "tags": []
   },
   "outputs": [
    {
     "data": {
      "text/plain": [
       "<AxesSubplot:>"
      ]
     },
     "execution_count": 9,
     "metadata": {},
     "output_type": "execute_result"
    },
    {
     "data": {
      "image/png": "[encoded data removed]",
      "text/plain": [
       "<Figure size 640x480 with 1 Axes>"
      ]
     },
     "metadata": {},
     "output_type": "display_data"
    }
   ],
   "source": [
    "trainset['Clearsky GHI'].hist(bins=25)"
   ]
  },
  {
   "cell_type": "code",
   "execution_count": 10,
   "id": "3ee12dd8",
   "metadata": {
    "execution": {
     "iopub.execute_input": "2023-04-12T17:07:48.028930Z",
     "iopub.status.busy": "2023-04-12T17:07:48.027732Z",
     "iopub.status.idle": "2023-04-12T17:07:48.221888Z",
     "shell.execute_reply": "2023-04-12T17:07:48.220577Z"
    },
    "papermill": {
     "duration": 0.206545,
     "end_time": "2023-04-12T17:07:48.225048",
     "exception": false,
     "start_time": "2023-04-12T17:07:48.018503",
     "status": "completed"
    },
    "tags": []
   },
   "outputs": [
    {
     "data": {
      "text/plain": [
       "<AxesSubplot:>"
      ]
     },
     "execution_count": 10,
     "metadata": {},
     "output_type": "execute_result"
    },
    {
     "data": {
      "image/png": "[encoded data removed]",
      "text/plain": [
       "<Figure size 640x480 with 1 Axes>"
      ]
     },
     "metadata": {},
     "output_type": "display_data"
    }
   ],
   "source": [
    "trainset['Clearsky DHI'].hist(bins=25)"
   ]
  },
  {
   "cell_type": "code",
   "execution_count": 11,
   "id": "5fb363b1",
   "metadata": {
    "execution": {
     "iopub.execute_input": "2023-04-12T17:07:48.243998Z",
     "iopub.status.busy": "2023-04-12T17:07:48.243580Z",
     "iopub.status.idle": "2023-04-12T17:07:48.439925Z",
     "shell.execute_reply": "2023-04-12T17:07:48.438790Z"
    },
    "papermill": {
     "duration": 0.208467,
     "end_time": "2023-04-12T17:07:48.442170",
     "exception": false,
     "start_time": "2023-04-12T17:07:48.233703",
     "status": "completed"
    },
    "tags": []
   },
   "outputs": [
    {
     "data": {
      "text/plain": [
       "<AxesSubplot:>"
      ]
     },
     "execution_count": 11,
     "metadata": {},
     "output_type": "execute_result"
    },
    {
     "data": {
      "image/png": "[encoded data removed]",
      "text/plain": [
       "<Figure size 640x480 with 1 Axes>"
      ]
     },
     "metadata": {},
     "output_type": "display_data"
    }
   ],
   "source": [
    "trainset['Clearsky DNI'].hist(bins=25)"
   ]
  },
  {
   "cell_type": "code",
   "execution_count": 12,
   "id": "e2a58d2e",
   "metadata": {
    "execution": {
     "iopub.execute_input": "2023-04-12T17:07:48.461445Z",
     "iopub.status.busy": "2023-04-12T17:07:48.461018Z",
     "iopub.status.idle": "2023-04-12T17:07:48.795140Z",
     "shell.execute_reply": "2023-04-12T17:07:48.794038Z"
    },
    "papermill": {
     "duration": 0.346382,
     "end_time": "2023-04-12T17:07:48.797292",
     "exception": false,
     "start_time": "2023-04-12T17:07:48.450910",
     "status": "completed"
    },
    "tags": []
   },
   "outputs": [
    {
     "data": {
      "text/plain": [
       "<AxesSubplot:>"
      ]
     },
     "execution_count": 12,
     "metadata": {},
     "output_type": "execute_result"
    },
    {
     "data": {
      "image/png": "[encoded data removed]",
      "text/plain": [
       "<Figure size 640x480 with 1 Axes>"
      ]
     },
     "metadata": {},
     "output_type": "display_data"
    }
   ],
   "source": [
    "trainset['Solar Zenith Angle'].hist(bins=25)"
   ]
  },
  {
   "cell_type": "code",
   "execution_count": 13,
   "id": "56c6c71b",
   "metadata": {
    "execution": {
     "iopub.execute_input": "2023-04-12T17:07:48.816578Z",
     "iopub.status.busy": "2023-04-12T17:07:48.816203Z",
     "iopub.status.idle": "2023-04-12T17:07:49.008195Z",
     "shell.execute_reply": "2023-04-12T17:07:49.007421Z"
    },
    "papermill": {
     "duration": 0.203858,
     "end_time": "2023-04-12T17:07:49.010027",
     "exception": false,
     "start_time": "2023-04-12T17:07:48.806169",
     "status": "completed"
    },
    "tags": []
   },
   "outputs": [
    {
     "data": {
      "text/plain": [
       "<AxesSubplot:>"
      ]
     },
     "execution_count": 13,
     "metadata": {},
     "output_type": "execute_result"
    },
    {
     "data": {
      "image/png": "[encoded data removed]",
      "text/plain": [
       "<Figure size 640x480 with 1 Axes>"
      ]
     },
     "metadata": {},
     "output_type": "display_data"
    }
   ],
   "source": [
    "trainset['Relative Humidity'].hist(bins=25)"
   ]
  },
  {
   "cell_type": "code",
   "execution_count": 14,
   "id": "5393924e",
   "metadata": {
    "execution": {
     "iopub.execute_input": "2023-04-12T17:07:49.030021Z",
     "iopub.status.busy": "2023-04-12T17:07:49.029431Z",
     "iopub.status.idle": "2023-04-12T17:07:49.229238Z",
     "shell.execute_reply": "2023-04-12T17:07:49.228145Z"
    },
    "papermill": {
     "duration": 0.212502,
     "end_time": "2023-04-12T17:07:49.231498",
     "exception": false,
     "start_time": "2023-04-12T17:07:49.018996",
     "status": "completed"
    },
    "tags": []
   },
   "outputs": [
    {
     "data": {
      "text/plain": [
       "<AxesSubplot:>"
      ]
     },
     "execution_count": 14,
     "metadata": {},
     "output_type": "execute_result"
    },
    {
     "data": {
      "image/png": "[encoded data removed]",
      "text/plain": [
       "<Figure size 640x480 with 1 Axes>"
      ]
     },
     "metadata": {},
     "output_type": "display_data"
    }
   ],
   "source": [
    "trainset['Pressure'].hist(bins=25)"
   ]
  },
  {
   "cell_type": "markdown",
   "id": "c23460bb",
   "metadata": {
    "papermill": {
     "duration": 0.009261,
     "end_time": "2023-04-12T17:07:49.250470",
     "exception": false,
     "start_time": "2023-04-12T17:07:49.241209",
     "status": "completed"
    },
    "tags": []
   },
   "source": [
    "Nothing new in histograms , we see skewnees of DHI ,GHI, DNI and that solar zenith angle is not skewed."
   ]
  },
  {
   "cell_type": "markdown",
   "id": "30cfd8e6",
   "metadata": {
    "papermill": {
     "duration": 0.009295,
     "end_time": "2023-04-12T17:07:49.269233",
     "exception": false,
     "start_time": "2023-04-12T17:07:49.259938",
     "status": "completed"
    },
    "tags": []
   },
   "source": [
    "### Kernel Distribution"
   ]
  },
  {
   "cell_type": "code",
   "execution_count": 15,
   "id": "4089e2f6",
   "metadata": {
    "execution": {
     "iopub.execute_input": "2023-04-12T17:07:49.290514Z",
     "iopub.status.busy": "2023-04-12T17:07:49.289597Z",
     "iopub.status.idle": "2023-04-12T17:07:51.906166Z",
     "shell.execute_reply": "2023-04-12T17:07:51.904674Z"
    },
    "papermill": {
     "duration": 2.629918,
     "end_time": "2023-04-12T17:07:51.908720",
     "exception": false,
     "start_time": "2023-04-12T17:07:49.278802",
     "status": "completed"
    },
    "tags": []
   },
   "outputs": [
    {
     "data": {
      "text/plain": [
       "<AxesSubplot:xlabel='Clearsky GHI', ylabel='Density'>"
      ]
     },
     "execution_count": 15,
     "metadata": {},
     "output_type": "execute_result"
    },
    {
     "data": {
      "image/png": "[encoded data removed]",
      "text/plain": [
       "<Figure size 640x480 with 1 Axes>"
      ]
     },
     "metadata": {},
     "output_type": "display_data"
    }
   ],
   "source": [
    "sns.kdeplot(data = trainset['Clearsky GHI'], fill = True, label=\"GHI\")\n",
    "sns.kdeplot(data = trainset['Clearsky DHI'], fill = True, label=\"GHI\")\n",
    "sns.kdeplot(data = trainset['Clearsky DNI'], fill = True, label=\"DNI\")\n",
    "sns.kdeplot(data = trainset['Solar Zenith Angle'], fill = True, label=\"GHI\")"
   ]
  },
  {
   "cell_type": "code",
   "execution_count": 16,
   "id": "897cadb7",
   "metadata": {
    "execution": {
     "iopub.execute_input": "2023-04-12T17:07:51.930689Z",
     "iopub.status.busy": "2023-04-12T17:07:51.930295Z",
     "iopub.status.idle": "2023-04-12T17:07:52.749361Z",
     "shell.execute_reply": "2023-04-12T17:07:52.748411Z"
    },
    "papermill": {
     "duration": 0.832347,
     "end_time": "2023-04-12T17:07:52.751478",
     "exception": false,
     "start_time": "2023-04-12T17:07:51.919131",
     "status": "completed"
    },
    "tags": []
   },
   "outputs": [
    {
     "data": {
      "text/plain": [
       "<AxesSubplot:xlabel='Relative Humidity', ylabel='Density'>"
      ]
     },
     "execution_count": 16,
     "metadata": {},
     "output_type": "execute_result"
    },
    {
     "data": {
      "image/png": "[encoded data removed]",
      "text/plain": [
       "<Figure size 640x480 with 1 Axes>"
      ]
     },
     "metadata": {},
     "output_type": "display_data"
    }
   ],
   "source": [
    "sns.kdeplot(data = trainset['Relative Humidity'], fill = True, label=\"GHI\")"
   ]
  },
  {
   "cell_type": "code",
   "execution_count": 17,
   "id": "66353636",
   "metadata": {
    "execution": {
     "iopub.execute_input": "2023-04-12T17:07:52.774299Z",
     "iopub.status.busy": "2023-04-12T17:07:52.773886Z",
     "iopub.status.idle": "2023-04-12T17:07:53.226943Z",
     "shell.execute_reply": "2023-04-12T17:07:53.225566Z"
    },
    "papermill": {
     "duration": 0.46817,
     "end_time": "2023-04-12T17:07:53.230192",
     "exception": false,
     "start_time": "2023-04-12T17:07:52.762022",
     "status": "completed"
    },
    "tags": []
   },
   "outputs": [
    {
     "data": {
      "text/plain": [
       "<AxesSubplot:>"
      ]
     },
     "execution_count": 17,
     "metadata": {},
     "output_type": "execute_result"
    },
    {
     "data": {
      "image/png": "[encoded data removed]",
      "text/plain": [
       "<Figure size 640x480 with 1 Axes>"
      ]
     },
     "metadata": {},
     "output_type": "display_data"
    }
   ],
   "source": [
    "trainset.boxplot(column = ['Clearsky GHI','Clearsky DHI','Clearsky DNI',])"
   ]
  },
  {
   "cell_type": "code",
   "execution_count": 18,
   "id": "aecb7a8e",
   "metadata": {
    "execution": {
     "iopub.execute_input": "2023-04-12T17:07:53.254577Z",
     "iopub.status.busy": "2023-04-12T17:07:53.253952Z",
     "iopub.status.idle": "2023-04-12T17:07:53.490310Z",
     "shell.execute_reply": "2023-04-12T17:07:53.489083Z"
    },
    "papermill": {
     "duration": 0.250613,
     "end_time": "2023-04-12T17:07:53.492518",
     "exception": false,
     "start_time": "2023-04-12T17:07:53.241905",
     "status": "completed"
    },
    "tags": []
   },
   "outputs": [
    {
     "data": {
      "text/plain": [
       "<AxesSubplot:>"
      ]
     },
     "execution_count": 18,
     "metadata": {},
     "output_type": "execute_result"
    },
    {
     "data": {
      "image/png": "[encoded data removed]",
      "text/plain": [
       "<Figure size 640x480 with 1 Axes>"
      ]
     },
     "metadata": {},
     "output_type": "display_data"
    }
   ],
   "source": [
    "trainset.boxplot(column = ['Solar Zenith Angle'])"
   ]
  },
  {
   "cell_type": "code",
   "execution_count": null,
   "id": "d94e9cb7",
   "metadata": {
    "papermill": {
     "duration": 0.010519,
     "end_time": "2023-04-12T17:07:53.514136",
     "exception": false,
     "start_time": "2023-04-12T17:07:53.503617",
     "status": "completed"
    },
    "tags": []
   },
   "outputs": [],
   "source": []
  }
 ],
 "metadata": {
  "kernelspec": {
   "display_name": "Python 3",
   "language": "python",
   "name": "python3"
  },
  "language_info": {
   "codemirror_mode": {
    "name": "ipython",
    "version": 3
   },
   "file_extension": ".py",
   "mimetype": "text/x-python",
   "name": "python",
   "nbconvert_exporter": "python",
   "pygments_lexer": "ipython3",
   "version": "3.7.12"
  },
  "papermill": {
   "default_parameters": {},
   "duration": 19.666147,
   "end_time": "2023-04-12T17:07:54.446022",
   "environment_variables": {},
   "exception": null,
   "input_path": "__notebook__.ipynb",
   "output_path": "__notebook__.ipynb",
   "parameters": {},
   "start_time": "2023-04-12T17:07:34.779875",
   "version": "2.4.0"
  }
 },
 "nbformat": 4,
 "nbformat_minor": 5
}
