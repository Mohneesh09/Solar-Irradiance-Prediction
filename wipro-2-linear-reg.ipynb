{
 "cells": [
  {
   "cell_type": "code",
   "execution_count": 1,
   "id": "872093cc",
   "metadata": {
    "_cell_guid": "b1076dfc-b9ad-4769-8c92-a6c4dae69d19",
    "_uuid": "8f2839f25d086af736a60e9eeb907d3b93b6e0e5",
    "execution": {
     "iopub.execute_input": "2023-04-12T14:40:49.763524Z",
     "iopub.status.busy": "2023-04-12T14:40:49.762712Z",
     "iopub.status.idle": "2023-04-12T14:40:53.251923Z",
     "shell.execute_reply": "2023-04-12T14:40:53.250811Z"
    },
    "papermill": {
     "duration": 3.499303,
     "end_time": "2023-04-12T14:40:53.254854",
     "exception": false,
     "start_time": "2023-04-12T14:40:49.755551",
     "status": "completed"
    },
    "tags": []
   },
   "outputs": [
    {
     "data": {
      "text/html": [
       "<style type='text/css'>\n",
       ".datatable table.frame { margin-bottom: 0; }\n",
       ".datatable table.frame thead { border-bottom: none; }\n",
       ".datatable table.frame tr.coltypes td {  color: #FFFFFF;  line-height: 6px;  padding: 0 0.5em;}\n",
       ".datatable .bool    { background: #DDDD99; }\n",
       ".datatable .object  { background: #565656; }\n",
       ".datatable .int     { background: #5D9E5D; }\n",
       ".datatable .float   { background: #4040CC; }\n",
       ".datatable .str     { background: #CC4040; }\n",
       ".datatable .time    { background: #40CC40; }\n",
       ".datatable .row_index {  background: var(--jp-border-color3);  border-right: 1px solid var(--jp-border-color0);  color: var(--jp-ui-font-color3);  font-size: 9px;}\n",
       ".datatable .frame tbody td { text-align: left; }\n",
       ".datatable .frame tr.coltypes .row_index {  background: var(--jp-border-color0);}\n",
       ".datatable th:nth-child(2) { padding-left: 12px; }\n",
       ".datatable .hellipsis {  color: var(--jp-cell-editor-border-color);}\n",
       ".datatable .vellipsis {  background: var(--jp-layout-color0);  color: var(--jp-cell-editor-border-color);}\n",
       ".datatable .na {  color: var(--jp-cell-editor-border-color);  font-size: 80%;}\n",
       ".datatable .sp {  opacity: 0.25;}\n",
       ".datatable .footer { font-size: 9px; }\n",
       ".datatable .frame_dimensions {  background: var(--jp-border-color3);  border-top: 1px solid var(--jp-border-color0);  color: var(--jp-ui-font-color3);  display: inline-block;  opacity: 0.6;  padding: 1px 10px 1px 5px;}\n",
       "</style>\n"
      ],
      "text/plain": [
       "<IPython.core.display.HTML object>"
      ]
     },
     "metadata": {},
     "output_type": "display_data"
    }
   ],
   "source": [
    "import numpy as np\n",
    "import pandas as pd\n",
    "from sklearn.model_selection import train_test_split, cross_validate, KFold\n",
    "from sklearn.linear_model import LinearRegression\n",
    "from sklearn.preprocessing import StandardScaler\n",
    "from sklearn.metrics import mean_squared_error, SCORERS\n",
    "from xgboost import XGBRegressor,XGBClassifier\n",
    "import optuna\n",
    "import matplotlib.pyplot as plt\n",
    "import seaborn as sns\n",
    "import lightgbm as lgb\n",
    "from catboost import CatBoostRegressor\n",
    "import pickle\n",
    "import warnings\n",
    "warnings.filterwarnings('ignore')\n",
    "%matplotlib inline"
   ]
  },
  {
   "cell_type": "code",
   "execution_count": 2,
   "id": "6f4456ab",
   "metadata": {
    "execution": {
     "iopub.execute_input": "2023-04-12T14:40:53.266005Z",
     "iopub.status.busy": "2023-04-12T14:40:53.265392Z",
     "iopub.status.idle": "2023-04-12T14:40:53.715638Z",
     "shell.execute_reply": "2023-04-12T14:40:53.714494Z"
    },
    "papermill": {
     "duration": 0.458771,
     "end_time": "2023-04-12T14:40:53.718486",
     "exception": false,
     "start_time": "2023-04-12T14:40:53.259715",
     "status": "completed"
    },
    "tags": []
   },
   "outputs": [],
   "source": [
    "#data prep\n",
    "trainset = pd.read_csv(\"/kaggle/input/mh-wipro-sustainable-ml-challenge/train.csv\")\n",
    "testset = pd.read_csv(\"/kaggle/input/mh-wipro-sustainable-ml-challenge/test.csv\")\n",
    "\n",
    "test = testset.drop(['Clearsky DHI', 'Clearsky DNI', 'Clearsky GHI'],axis = 1)\n",
    "\n",
    "Y_cols = trainset.loc[:, ['Clearsky DHI', 'Clearsky DNI', 'Clearsky GHI']]\n",
    "trainset = trainset.drop(['Clearsky DHI', 'Clearsky DNI', 'Clearsky GHI'], axis = 1)\n",
    "\n",
    "train_dhi = Y_cols['Clearsky DHI']\n",
    "train_dni = Y_cols['Clearsky DNI']\n",
    "train_ghi = Y_cols['Clearsky GHI']"
   ]
  },
  {
   "cell_type": "code",
   "execution_count": 3,
   "id": "04a1bbbb",
   "metadata": {
    "execution": {
     "iopub.execute_input": "2023-04-12T14:40:53.729750Z",
     "iopub.status.busy": "2023-04-12T14:40:53.729422Z",
     "iopub.status.idle": "2023-04-12T14:40:53.738466Z",
     "shell.execute_reply": "2023-04-12T14:40:53.737339Z"
    },
    "papermill": {
     "duration": 0.017499,
     "end_time": "2023-04-12T14:40:53.741022",
     "exception": false,
     "start_time": "2023-04-12T14:40:53.723523",
     "status": "completed"
    },
    "tags": []
   },
   "outputs": [
    {
     "data": {
      "text/plain": [
       "Year                    int64\n",
       "Month                   int64\n",
       "Day                     int64\n",
       "Hour                    int64\n",
       "Minute                  int64\n",
       "Cloud Type              int64\n",
       "Dew Point             float64\n",
       "Temperature           float64\n",
       "Pressure                int64\n",
       "Relative Humidity     float64\n",
       "Solar Zenith Angle    float64\n",
       "Precipitable Water    float64\n",
       "Wind Direction        float64\n",
       "Wind Speed            float64\n",
       "Fill Flag               int64\n",
       "dtype: object"
      ]
     },
     "execution_count": 3,
     "metadata": {},
     "output_type": "execute_result"
    }
   ],
   "source": [
    "trainset.dtypes"
   ]
  },
  {
   "cell_type": "code",
   "execution_count": 4,
   "id": "3c4cc8ce",
   "metadata": {
    "execution": {
     "iopub.execute_input": "2023-04-12T14:40:53.752156Z",
     "iopub.status.busy": "2023-04-12T14:40:53.751873Z",
     "iopub.status.idle": "2023-04-12T14:40:53.758060Z",
     "shell.execute_reply": "2023-04-12T14:40:53.756971Z"
    },
    "papermill": {
     "duration": 0.014463,
     "end_time": "2023-04-12T14:40:53.760378",
     "exception": false,
     "start_time": "2023-04-12T14:40:53.745915",
     "status": "completed"
    },
    "tags": []
   },
   "outputs": [
    {
     "data": {
      "text/plain": [
       "dtype('int64')"
      ]
     },
     "execution_count": 4,
     "metadata": {},
     "output_type": "execute_result"
    }
   ],
   "source": [
    "train_dhi.dtypes"
   ]
  },
  {
   "cell_type": "code",
   "execution_count": 5,
   "id": "8d706f97",
   "metadata": {
    "execution": {
     "iopub.execute_input": "2023-04-12T14:40:53.772542Z",
     "iopub.status.busy": "2023-04-12T14:40:53.771121Z",
     "iopub.status.idle": "2023-04-12T14:40:53.781552Z",
     "shell.execute_reply": "2023-04-12T14:40:53.780524Z"
    },
    "papermill": {
     "duration": 0.018483,
     "end_time": "2023-04-12T14:40:53.783835",
     "exception": false,
     "start_time": "2023-04-12T14:40:53.765352",
     "status": "completed"
    },
    "tags": []
   },
   "outputs": [],
   "source": [
    "class Train:\n",
    "    def __init__(self, data, target, save_name):\n",
    "        super().__init__()\n",
    "        self.data = data\n",
    "        self.target = target\n",
    "        self.save_name = save_name\n",
    "\n",
    "    def train_loop(self):\n",
    "        kf = KFold(shuffle = True, random_state = 42)\n",
    "        best_loss = 1e18\n",
    "        oof_preds = pd.DataFrame(columns = ['tar'], index = trainset.index)\n",
    "\n",
    "        model = LinearRegression()\n",
    "        print(\"Training starts...\")\n",
    "        for fold, (train_idx, test_idx) in enumerate(kf.split(self.data, self.target)):\n",
    "            print(\"fold_\",fold,\" done !\")\n",
    "            xt = trainset.iloc[train_idx, :]\n",
    "            yt = train_dhi.iloc[train_idx]\n",
    "            xv = trainset.iloc[test_idx, :]\n",
    "            yv = train_dhi.iloc[test_idx]\n",
    "            model.fit(xt, yt)\n",
    "            pred = model.predict(xv)\n",
    "            loss = mean_squared_error(yv, pred)\n",
    "\n",
    "            oof_preds.loc[test_idx,'tar'] = pred #properly keeping oof preditcions according to test idx\n",
    "            \n",
    "            filename = self.save_name+\".json\"\n",
    "            if(loss<best_loss):\n",
    "#                 model.save_model(self.save_name+\".json\")\n",
    "                pickle.dump(model, open(filename, \"wb\"))\n",
    "                best_loss = loss\n",
    "                \n",
    "        \n",
    "        return oof_preds"
   ]
  },
  {
   "cell_type": "code",
   "execution_count": 6,
   "id": "b6d05b46",
   "metadata": {
    "execution": {
     "iopub.execute_input": "2023-04-12T14:40:53.794790Z",
     "iopub.status.busy": "2023-04-12T14:40:53.794492Z",
     "iopub.status.idle": "2023-04-12T14:40:55.048612Z",
     "shell.execute_reply": "2023-04-12T14:40:55.047518Z"
    },
    "papermill": {
     "duration": 1.263101,
     "end_time": "2023-04-12T14:40:55.051625",
     "exception": false,
     "start_time": "2023-04-12T14:40:53.788524",
     "status": "completed"
    },
    "tags": []
   },
   "outputs": [
    {
     "name": "stdout",
     "output_type": "stream",
     "text": [
      "Training starts...\n",
      "fold_ 0  done !\n",
      "fold_ 1  done !\n",
      "fold_ 2  done !\n",
      "fold_ 3  done !\n",
      "fold_ 4  done !\n"
     ]
    }
   ],
   "source": [
    "train = Train(trainset, train_dhi, 'model_DHI_1')\n",
    "pred_df = train.train_loop()\n",
    "\n",
    "trainset['Clearsky DHI']  = pred_df['tar']\n",
    "convert_dict = {\"Clearsky DHI\":float}\n",
    "trainset = trainset.astype(convert_dict)\n",
    "\n",
    "pred_df.to_csv(\"oof_pred_DHI_1.csv\",index=False)"
   ]
  },
  {
   "cell_type": "code",
   "execution_count": 7,
   "id": "0a649a44",
   "metadata": {
    "execution": {
     "iopub.execute_input": "2023-04-12T14:40:55.067583Z",
     "iopub.status.busy": "2023-04-12T14:40:55.066964Z",
     "iopub.status.idle": "2023-04-12T14:40:55.096647Z",
     "shell.execute_reply": "2023-04-12T14:40:55.095642Z"
    },
    "papermill": {
     "duration": 0.040472,
     "end_time": "2023-04-12T14:40:55.099366",
     "exception": false,
     "start_time": "2023-04-12T14:40:55.058894",
     "status": "completed"
    },
    "tags": []
   },
   "outputs": [
    {
     "data": {
      "text/html": [
       "<div>\n",
       "<style scoped>\n",
       "    .dataframe tbody tr th:only-of-type {\n",
       "        vertical-align: middle;\n",
       "    }\n",
       "\n",
       "    .dataframe tbody tr th {\n",
       "        vertical-align: top;\n",
       "    }\n",
       "\n",
       "    .dataframe thead th {\n",
       "        text-align: right;\n",
       "    }\n",
       "</style>\n",
       "<table border=\"1\" class=\"dataframe\">\n",
       "  <thead>\n",
       "    <tr style=\"text-align: right;\">\n",
       "      <th></th>\n",
       "      <th>Year</th>\n",
       "      <th>Month</th>\n",
       "      <th>Day</th>\n",
       "      <th>Hour</th>\n",
       "      <th>Minute</th>\n",
       "      <th>Cloud Type</th>\n",
       "      <th>Dew Point</th>\n",
       "      <th>Temperature</th>\n",
       "      <th>Pressure</th>\n",
       "      <th>Relative Humidity</th>\n",
       "      <th>Solar Zenith Angle</th>\n",
       "      <th>Precipitable Water</th>\n",
       "      <th>Wind Direction</th>\n",
       "      <th>Wind Speed</th>\n",
       "      <th>Fill Flag</th>\n",
       "      <th>Clearsky DHI</th>\n",
       "    </tr>\n",
       "  </thead>\n",
       "  <tbody>\n",
       "    <tr>\n",
       "      <th>0</th>\n",
       "      <td>2009</td>\n",
       "      <td>1</td>\n",
       "      <td>1</td>\n",
       "      <td>0</td>\n",
       "      <td>0</td>\n",
       "      <td>0</td>\n",
       "      <td>0.0</td>\n",
       "      <td>5.0</td>\n",
       "      <td>1010</td>\n",
       "      <td>75.34</td>\n",
       "      <td>106.15</td>\n",
       "      <td>0.499</td>\n",
       "      <td>346.1</td>\n",
       "      <td>3.1</td>\n",
       "      <td>0</td>\n",
       "      <td>23.506550</td>\n",
       "    </tr>\n",
       "    <tr>\n",
       "      <th>1</th>\n",
       "      <td>2009</td>\n",
       "      <td>1</td>\n",
       "      <td>1</td>\n",
       "      <td>0</td>\n",
       "      <td>30</td>\n",
       "      <td>0</td>\n",
       "      <td>1.0</td>\n",
       "      <td>5.0</td>\n",
       "      <td>1010</td>\n",
       "      <td>80.81</td>\n",
       "      <td>112.28</td>\n",
       "      <td>0.490</td>\n",
       "      <td>346.1</td>\n",
       "      <td>3.1</td>\n",
       "      <td>0</td>\n",
       "      <td>15.291682</td>\n",
       "    </tr>\n",
       "    <tr>\n",
       "      <th>2</th>\n",
       "      <td>2009</td>\n",
       "      <td>1</td>\n",
       "      <td>1</td>\n",
       "      <td>1</td>\n",
       "      <td>0</td>\n",
       "      <td>4</td>\n",
       "      <td>0.0</td>\n",
       "      <td>5.0</td>\n",
       "      <td>1010</td>\n",
       "      <td>78.27</td>\n",
       "      <td>118.50</td>\n",
       "      <td>0.482</td>\n",
       "      <td>347.9</td>\n",
       "      <td>3.2</td>\n",
       "      <td>0</td>\n",
       "      <td>13.819152</td>\n",
       "    </tr>\n",
       "    <tr>\n",
       "      <th>3</th>\n",
       "      <td>2009</td>\n",
       "      <td>1</td>\n",
       "      <td>1</td>\n",
       "      <td>1</td>\n",
       "      <td>30</td>\n",
       "      <td>4</td>\n",
       "      <td>0.0</td>\n",
       "      <td>4.0</td>\n",
       "      <td>1010</td>\n",
       "      <td>78.27</td>\n",
       "      <td>124.78</td>\n",
       "      <td>0.478</td>\n",
       "      <td>347.9</td>\n",
       "      <td>3.1</td>\n",
       "      <td>0</td>\n",
       "      <td>6.928181</td>\n",
       "    </tr>\n",
       "    <tr>\n",
       "      <th>4</th>\n",
       "      <td>2009</td>\n",
       "      <td>1</td>\n",
       "      <td>1</td>\n",
       "      <td>2</td>\n",
       "      <td>0</td>\n",
       "      <td>4</td>\n",
       "      <td>0.0</td>\n",
       "      <td>4.0</td>\n",
       "      <td>1010</td>\n",
       "      <td>76.45</td>\n",
       "      <td>131.12</td>\n",
       "      <td>0.475</td>\n",
       "      <td>350.0</td>\n",
       "      <td>3.0</td>\n",
       "      <td>0</td>\n",
       "      <td>1.305088</td>\n",
       "    </tr>\n",
       "  </tbody>\n",
       "</table>\n",
       "</div>"
      ],
      "text/plain": [
       "   Year  Month  Day  Hour  Minute  Cloud Type  Dew Point  Temperature  \\\n",
       "0  2009      1    1     0       0           0        0.0          5.0   \n",
       "1  2009      1    1     0      30           0        1.0          5.0   \n",
       "2  2009      1    1     1       0           4        0.0          5.0   \n",
       "3  2009      1    1     1      30           4        0.0          4.0   \n",
       "4  2009      1    1     2       0           4        0.0          4.0   \n",
       "\n",
       "   Pressure  Relative Humidity  Solar Zenith Angle  Precipitable Water  \\\n",
       "0      1010              75.34              106.15               0.499   \n",
       "1      1010              80.81              112.28               0.490   \n",
       "2      1010              78.27              118.50               0.482   \n",
       "3      1010              78.27              124.78               0.478   \n",
       "4      1010              76.45              131.12               0.475   \n",
       "\n",
       "   Wind Direction  Wind Speed  Fill Flag  Clearsky DHI  \n",
       "0           346.1         3.1          0     23.506550  \n",
       "1           346.1         3.1          0     15.291682  \n",
       "2           347.9         3.2          0     13.819152  \n",
       "3           347.9         3.1          0      6.928181  \n",
       "4           350.0         3.0          0      1.305088  "
      ]
     },
     "execution_count": 7,
     "metadata": {},
     "output_type": "execute_result"
    }
   ],
   "source": [
    "trainset.head()"
   ]
  },
  {
   "cell_type": "code",
   "execution_count": 8,
   "id": "22b9ba9d",
   "metadata": {
    "execution": {
     "iopub.execute_input": "2023-04-12T14:40:55.116822Z",
     "iopub.status.busy": "2023-04-12T14:40:55.116461Z",
     "iopub.status.idle": "2023-04-12T14:40:55.149114Z",
     "shell.execute_reply": "2023-04-12T14:40:55.148167Z"
    },
    "papermill": {
     "duration": 0.044278,
     "end_time": "2023-04-12T14:40:55.151972",
     "exception": false,
     "start_time": "2023-04-12T14:40:55.107694",
     "status": "completed"
    },
    "tags": []
   },
   "outputs": [
    {
     "name": "stdout",
     "output_type": "stream",
     "text": [
      "<class 'pandas.core.frame.DataFrame'>\n",
      "RangeIndex: 175296 entries, 0 to 175295\n",
      "Data columns (total 16 columns):\n",
      " #   Column              Non-Null Count   Dtype  \n",
      "---  ------              --------------   -----  \n",
      " 0   Year                175296 non-null  int64  \n",
      " 1   Month               175296 non-null  int64  \n",
      " 2   Day                 175296 non-null  int64  \n",
      " 3   Hour                175296 non-null  int64  \n",
      " 4   Minute              175296 non-null  int64  \n",
      " 5   Cloud Type          175296 non-null  int64  \n",
      " 6   Dew Point           175296 non-null  float64\n",
      " 7   Temperature         175296 non-null  float64\n",
      " 8   Pressure            175296 non-null  int64  \n",
      " 9   Relative Humidity   175296 non-null  float64\n",
      " 10  Solar Zenith Angle  175296 non-null  float64\n",
      " 11  Precipitable Water  175296 non-null  float64\n",
      " 12  Wind Direction      175296 non-null  float64\n",
      " 13  Wind Speed          175296 non-null  float64\n",
      " 14  Fill Flag           175296 non-null  int64  \n",
      " 15  Clearsky DHI        175296 non-null  float64\n",
      "dtypes: float64(8), int64(8)\n",
      "memory usage: 21.4 MB\n"
     ]
    }
   ],
   "source": [
    "trainset.info()"
   ]
  },
  {
   "cell_type": "code",
   "execution_count": 9,
   "id": "c848861b",
   "metadata": {
    "execution": {
     "iopub.execute_input": "2023-04-12T14:40:55.170738Z",
     "iopub.status.busy": "2023-04-12T14:40:55.170377Z",
     "iopub.status.idle": "2023-04-12T14:40:56.380318Z",
     "shell.execute_reply": "2023-04-12T14:40:56.379282Z"
    },
    "papermill": {
     "duration": 1.222085,
     "end_time": "2023-04-12T14:40:56.382945",
     "exception": false,
     "start_time": "2023-04-12T14:40:55.160860",
     "status": "completed"
    },
    "tags": []
   },
   "outputs": [
    {
     "name": "stdout",
     "output_type": "stream",
     "text": [
      "Training starts...\n",
      "fold_ 0  done !\n",
      "fold_ 1  done !\n",
      "fold_ 2  done !\n",
      "fold_ 3  done !\n",
      "fold_ 4  done !\n"
     ]
    }
   ],
   "source": [
    "### trainset -> R+DHI\n",
    "train = Train(trainset, train_ghi, 'model_GHI_1')\n",
    "pred_df = train.train_loop()\n",
    "\n",
    "trainset['Clearsky GHI']  = pred_df['tar']\n",
    "convert_dict = {\"Clearsky GHI\":float}\n",
    "trainset = trainset.astype(convert_dict)\n",
    "\n",
    "pred_df.to_csv(\"oof_pred_GHI_1.csv\",index=False)"
   ]
  },
  {
   "cell_type": "code",
   "execution_count": 10,
   "id": "4d862d24",
   "metadata": {
    "execution": {
     "iopub.execute_input": "2023-04-12T14:40:56.396361Z",
     "iopub.status.busy": "2023-04-12T14:40:56.394809Z",
     "iopub.status.idle": "2023-04-12T14:40:56.415829Z",
     "shell.execute_reply": "2023-04-12T14:40:56.414794Z"
    },
    "papermill": {
     "duration": 0.029517,
     "end_time": "2023-04-12T14:40:56.418063",
     "exception": false,
     "start_time": "2023-04-12T14:40:56.388546",
     "status": "completed"
    },
    "tags": []
   },
   "outputs": [
    {
     "data": {
      "text/html": [
       "<div>\n",
       "<style scoped>\n",
       "    .dataframe tbody tr th:only-of-type {\n",
       "        vertical-align: middle;\n",
       "    }\n",
       "\n",
       "    .dataframe tbody tr th {\n",
       "        vertical-align: top;\n",
       "    }\n",
       "\n",
       "    .dataframe thead th {\n",
       "        text-align: right;\n",
       "    }\n",
       "</style>\n",
       "<table border=\"1\" class=\"dataframe\">\n",
       "  <thead>\n",
       "    <tr style=\"text-align: right;\">\n",
       "      <th></th>\n",
       "      <th>Year</th>\n",
       "      <th>Month</th>\n",
       "      <th>Day</th>\n",
       "      <th>Hour</th>\n",
       "      <th>Minute</th>\n",
       "      <th>Cloud Type</th>\n",
       "      <th>Dew Point</th>\n",
       "      <th>Temperature</th>\n",
       "      <th>Pressure</th>\n",
       "      <th>Relative Humidity</th>\n",
       "      <th>Solar Zenith Angle</th>\n",
       "      <th>Precipitable Water</th>\n",
       "      <th>Wind Direction</th>\n",
       "      <th>Wind Speed</th>\n",
       "      <th>Fill Flag</th>\n",
       "      <th>Clearsky DHI</th>\n",
       "      <th>Clearsky GHI</th>\n",
       "    </tr>\n",
       "  </thead>\n",
       "  <tbody>\n",
       "    <tr>\n",
       "      <th>0</th>\n",
       "      <td>2009</td>\n",
       "      <td>1</td>\n",
       "      <td>1</td>\n",
       "      <td>0</td>\n",
       "      <td>0</td>\n",
       "      <td>0</td>\n",
       "      <td>0.0</td>\n",
       "      <td>5.0</td>\n",
       "      <td>1010</td>\n",
       "      <td>75.34</td>\n",
       "      <td>106.15</td>\n",
       "      <td>0.499</td>\n",
       "      <td>346.1</td>\n",
       "      <td>3.1</td>\n",
       "      <td>0</td>\n",
       "      <td>23.506550</td>\n",
       "      <td>23.267277</td>\n",
       "    </tr>\n",
       "    <tr>\n",
       "      <th>1</th>\n",
       "      <td>2009</td>\n",
       "      <td>1</td>\n",
       "      <td>1</td>\n",
       "      <td>0</td>\n",
       "      <td>30</td>\n",
       "      <td>0</td>\n",
       "      <td>1.0</td>\n",
       "      <td>5.0</td>\n",
       "      <td>1010</td>\n",
       "      <td>80.81</td>\n",
       "      <td>112.28</td>\n",
       "      <td>0.490</td>\n",
       "      <td>346.1</td>\n",
       "      <td>3.1</td>\n",
       "      <td>0</td>\n",
       "      <td>15.291682</td>\n",
       "      <td>15.875487</td>\n",
       "    </tr>\n",
       "    <tr>\n",
       "      <th>2</th>\n",
       "      <td>2009</td>\n",
       "      <td>1</td>\n",
       "      <td>1</td>\n",
       "      <td>1</td>\n",
       "      <td>0</td>\n",
       "      <td>4</td>\n",
       "      <td>0.0</td>\n",
       "      <td>5.0</td>\n",
       "      <td>1010</td>\n",
       "      <td>78.27</td>\n",
       "      <td>118.50</td>\n",
       "      <td>0.482</td>\n",
       "      <td>347.9</td>\n",
       "      <td>3.2</td>\n",
       "      <td>0</td>\n",
       "      <td>13.819152</td>\n",
       "      <td>14.030578</td>\n",
       "    </tr>\n",
       "    <tr>\n",
       "      <th>3</th>\n",
       "      <td>2009</td>\n",
       "      <td>1</td>\n",
       "      <td>1</td>\n",
       "      <td>1</td>\n",
       "      <td>30</td>\n",
       "      <td>4</td>\n",
       "      <td>0.0</td>\n",
       "      <td>4.0</td>\n",
       "      <td>1010</td>\n",
       "      <td>78.27</td>\n",
       "      <td>124.78</td>\n",
       "      <td>0.478</td>\n",
       "      <td>347.9</td>\n",
       "      <td>3.1</td>\n",
       "      <td>0</td>\n",
       "      <td>6.928181</td>\n",
       "      <td>6.712169</td>\n",
       "    </tr>\n",
       "    <tr>\n",
       "      <th>4</th>\n",
       "      <td>2009</td>\n",
       "      <td>1</td>\n",
       "      <td>1</td>\n",
       "      <td>2</td>\n",
       "      <td>0</td>\n",
       "      <td>4</td>\n",
       "      <td>0.0</td>\n",
       "      <td>4.0</td>\n",
       "      <td>1010</td>\n",
       "      <td>76.45</td>\n",
       "      <td>131.12</td>\n",
       "      <td>0.475</td>\n",
       "      <td>350.0</td>\n",
       "      <td>3.0</td>\n",
       "      <td>0</td>\n",
       "      <td>1.305088</td>\n",
       "      <td>1.766179</td>\n",
       "    </tr>\n",
       "  </tbody>\n",
       "</table>\n",
       "</div>"
      ],
      "text/plain": [
       "   Year  Month  Day  Hour  Minute  Cloud Type  Dew Point  Temperature  \\\n",
       "0  2009      1    1     0       0           0        0.0          5.0   \n",
       "1  2009      1    1     0      30           0        1.0          5.0   \n",
       "2  2009      1    1     1       0           4        0.0          5.0   \n",
       "3  2009      1    1     1      30           4        0.0          4.0   \n",
       "4  2009      1    1     2       0           4        0.0          4.0   \n",
       "\n",
       "   Pressure  Relative Humidity  Solar Zenith Angle  Precipitable Water  \\\n",
       "0      1010              75.34              106.15               0.499   \n",
       "1      1010              80.81              112.28               0.490   \n",
       "2      1010              78.27              118.50               0.482   \n",
       "3      1010              78.27              124.78               0.478   \n",
       "4      1010              76.45              131.12               0.475   \n",
       "\n",
       "   Wind Direction  Wind Speed  Fill Flag  Clearsky DHI  Clearsky GHI  \n",
       "0           346.1         3.1          0     23.506550     23.267277  \n",
       "1           346.1         3.1          0     15.291682     15.875487  \n",
       "2           347.9         3.2          0     13.819152     14.030578  \n",
       "3           347.9         3.1          0      6.928181      6.712169  \n",
       "4           350.0         3.0          0      1.305088      1.766179  "
      ]
     },
     "execution_count": 10,
     "metadata": {},
     "output_type": "execute_result"
    }
   ],
   "source": [
    "trainset.head()"
   ]
  },
  {
   "cell_type": "code",
   "execution_count": 11,
   "id": "83c583fb",
   "metadata": {
    "execution": {
     "iopub.execute_input": "2023-04-12T14:40:56.432325Z",
     "iopub.status.busy": "2023-04-12T14:40:56.432016Z",
     "iopub.status.idle": "2023-04-12T14:40:57.486421Z",
     "shell.execute_reply": "2023-04-12T14:40:57.485325Z"
    },
    "papermill": {
     "duration": 1.064999,
     "end_time": "2023-04-12T14:40:57.489210",
     "exception": false,
     "start_time": "2023-04-12T14:40:56.424211",
     "status": "completed"
    },
    "tags": []
   },
   "outputs": [
    {
     "name": "stdout",
     "output_type": "stream",
     "text": [
      "Training starts...\n",
      "fold_ 0  done !\n",
      "fold_ 1  done !\n",
      "fold_ 2  done !\n",
      "fold_ 3  done !\n",
      "fold_ 4  done !\n"
     ]
    }
   ],
   "source": [
    "### trainset -> R+DHI+GHI\n",
    "train = Train(trainset, train_dni, 'model_DNI_1')\n",
    "pred_df = train.train_loop()\n",
    "\n",
    "trainset['Clearsky DNI']  = pred_df['tar']\n",
    "convert_dict = {\"Clearsky DNI\":float}\n",
    "trainset = trainset.astype(convert_dict)\n",
    "\n",
    "pred_df.to_csv(\"oof_pred_DNI_1.csv\",index=False)"
   ]
  },
  {
   "cell_type": "code",
   "execution_count": 12,
   "id": "361c2063",
   "metadata": {
    "execution": {
     "iopub.execute_input": "2023-04-12T14:40:57.502291Z",
     "iopub.status.busy": "2023-04-12T14:40:57.501948Z",
     "iopub.status.idle": "2023-04-12T14:40:58.577340Z",
     "shell.execute_reply": "2023-04-12T14:40:58.576299Z"
    },
    "papermill": {
     "duration": 1.08462,
     "end_time": "2023-04-12T14:40:58.579813",
     "exception": false,
     "start_time": "2023-04-12T14:40:57.495193",
     "status": "completed"
    },
    "tags": []
   },
   "outputs": [
    {
     "name": "stdout",
     "output_type": "stream",
     "text": [
      "Training starts...\n",
      "fold_ 0  done !\n",
      "fold_ 1  done !\n",
      "fold_ 2  done !\n",
      "fold_ 3  done !\n",
      "fold_ 4  done !\n"
     ]
    }
   ],
   "source": [
    "trainset = trainset.drop(['Clearsky DHI'], axis = 1)\n",
    "### trainset -> R+GHI+DNI\n",
    "train = Train(trainset, train_dhi, 'model_DHI_2')\n",
    "pred_df = train.train_loop()\n",
    "\n",
    "trainset['Clearsky DHI']  = pred_df['tar']\n",
    "convert_dict = {\"Clearsky DHI\":float}\n",
    "trainset = trainset.astype(convert_dict)\n",
    "\n",
    "pred_df.to_csv(\"oof_pred_DHI_2.csv\",index=False)"
   ]
  },
  {
   "cell_type": "code",
   "execution_count": 13,
   "id": "7048019f",
   "metadata": {
    "execution": {
     "iopub.execute_input": "2023-04-12T14:40:58.592971Z",
     "iopub.status.busy": "2023-04-12T14:40:58.592653Z",
     "iopub.status.idle": "2023-04-12T14:40:59.644045Z",
     "shell.execute_reply": "2023-04-12T14:40:59.642977Z"
    },
    "papermill": {
     "duration": 1.060739,
     "end_time": "2023-04-12T14:40:59.646522",
     "exception": false,
     "start_time": "2023-04-12T14:40:58.585783",
     "status": "completed"
    },
    "tags": []
   },
   "outputs": [
    {
     "name": "stdout",
     "output_type": "stream",
     "text": [
      "Training starts...\n",
      "fold_ 0  done !\n",
      "fold_ 1  done !\n",
      "fold_ 2  done !\n",
      "fold_ 3  done !\n",
      "fold_ 4  done !\n"
     ]
    }
   ],
   "source": [
    "trainset = trainset.drop(['Clearsky GHI'], axis = 1)\n",
    "### trainset -> R+DHI+DNI\n",
    "train = Train(trainset, train_ghi, 'model_GHI_2')\n",
    "pred_df = train.train_loop()\n",
    "\n",
    "trainset['Clearsky GHI']  = pred_df['tar']\n",
    "convert_dict = {\"Clearsky GHI\":float}\n",
    "trainset = trainset.astype(convert_dict)\n",
    "\n",
    "pred_df.to_csv(\"oof_pred_GHI_2.csv\",index=False)"
   ]
  },
  {
   "cell_type": "code",
   "execution_count": 14,
   "id": "31bc3745",
   "metadata": {
    "execution": {
     "iopub.execute_input": "2023-04-12T14:40:59.661004Z",
     "iopub.status.busy": "2023-04-12T14:40:59.660015Z",
     "iopub.status.idle": "2023-04-12T14:41:00.707586Z",
     "shell.execute_reply": "2023-04-12T14:41:00.706324Z"
    },
    "papermill": {
     "duration": 1.057709,
     "end_time": "2023-04-12T14:41:00.710569",
     "exception": false,
     "start_time": "2023-04-12T14:40:59.652860",
     "status": "completed"
    },
    "tags": []
   },
   "outputs": [
    {
     "name": "stdout",
     "output_type": "stream",
     "text": [
      "Training starts...\n",
      "fold_ 0  done !\n",
      "fold_ 1  done !\n",
      "fold_ 2  done !\n",
      "fold_ 3  done !\n",
      "fold_ 4  done !\n"
     ]
    }
   ],
   "source": [
    "trainset = trainset.drop(['Clearsky DNI'], axis = 1)\n",
    "### trainset -> R+DHI+GHI\n",
    "train = Train(trainset, train_dni, 'model_DNI_2')\n",
    "pred_df = train.train_loop()\n",
    "\n",
    "trainset['Clearsky DNI']  = pred_df['tar']\n",
    "convert_dict = {\"Clearsky DNI\":float}\n",
    "trainset = trainset.astype(convert_dict)\n",
    "\n",
    "pred_df.to_csv(\"oof_pred_DNI_2.csv\",index=False)"
   ]
  },
  {
   "cell_type": "code",
   "execution_count": 15,
   "id": "82111e5f",
   "metadata": {
    "execution": {
     "iopub.execute_input": "2023-04-12T14:41:00.724318Z",
     "iopub.status.busy": "2023-04-12T14:41:00.723984Z",
     "iopub.status.idle": "2023-04-12T14:41:01.780324Z",
     "shell.execute_reply": "2023-04-12T14:41:01.779295Z"
    },
    "papermill": {
     "duration": 1.066267,
     "end_time": "2023-04-12T14:41:01.783148",
     "exception": false,
     "start_time": "2023-04-12T14:41:00.716881",
     "status": "completed"
    },
    "tags": []
   },
   "outputs": [
    {
     "name": "stdout",
     "output_type": "stream",
     "text": [
      "Training starts...\n",
      "fold_ 0  done !\n",
      "fold_ 1  done !\n",
      "fold_ 2  done !\n",
      "fold_ 3  done !\n",
      "fold_ 4  done !\n"
     ]
    }
   ],
   "source": [
    "trainset = trainset.drop(['Clearsky DHI'], axis = 1)\n",
    "### trainset -> R+GHI+DNI\n",
    "train = Train(trainset, train_dhi, 'model_DHI_3')\n",
    "pred_df = train.train_loop()\n",
    "\n",
    "trainset['Clearsky DHI']  = pred_df['tar']\n",
    "convert_dict = {\"Clearsky DHI\":float}\n",
    "trainset = trainset.astype(convert_dict)\n",
    "\n",
    "pred_df.to_csv(\"oof_pred_DHI_3.csv\",index=False)"
   ]
  },
  {
   "cell_type": "code",
   "execution_count": 16,
   "id": "8975f58a",
   "metadata": {
    "execution": {
     "iopub.execute_input": "2023-04-12T14:41:01.798104Z",
     "iopub.status.busy": "2023-04-12T14:41:01.797693Z",
     "iopub.status.idle": "2023-04-12T14:41:02.992166Z",
     "shell.execute_reply": "2023-04-12T14:41:02.991138Z"
    },
    "papermill": {
     "duration": 1.204979,
     "end_time": "2023-04-12T14:41:02.994763",
     "exception": false,
     "start_time": "2023-04-12T14:41:01.789784",
     "status": "completed"
    },
    "tags": []
   },
   "outputs": [
    {
     "name": "stdout",
     "output_type": "stream",
     "text": [
      "Training starts...\n",
      "fold_ 0  done !\n",
      "fold_ 1  done !\n",
      "fold_ 2  done !\n",
      "fold_ 3  done !\n",
      "fold_ 4  done !\n"
     ]
    }
   ],
   "source": [
    "trainset = trainset.drop(['Clearsky GHI'], axis = 1)\n",
    "### trainset -> R+DHI+DNI\n",
    "train = Train(trainset, train_ghi, 'model_GHI_3')\n",
    "pred_df = train.train_loop()\n",
    "\n",
    "trainset['Clearsky GHI']  = pred_df['tar']\n",
    "convert_dict = {\"Clearsky GHI\":float}\n",
    "trainset = trainset.astype(convert_dict)\n",
    "\n",
    "pred_df.to_csv(\"oof_pred_GHI_3.csv\",index=False)"
   ]
  },
  {
   "cell_type": "code",
   "execution_count": 17,
   "id": "7b799013",
   "metadata": {
    "execution": {
     "iopub.execute_input": "2023-04-12T14:41:03.010475Z",
     "iopub.status.busy": "2023-04-12T14:41:03.009473Z",
     "iopub.status.idle": "2023-04-12T14:41:04.071334Z",
     "shell.execute_reply": "2023-04-12T14:41:04.070323Z"
    },
    "papermill": {
     "duration": 1.072395,
     "end_time": "2023-04-12T14:41:04.073882",
     "exception": false,
     "start_time": "2023-04-12T14:41:03.001487",
     "status": "completed"
    },
    "tags": []
   },
   "outputs": [
    {
     "name": "stdout",
     "output_type": "stream",
     "text": [
      "Training starts...\n",
      "fold_ 0  done !\n",
      "fold_ 1  done !\n",
      "fold_ 2  done !\n",
      "fold_ 3  done !\n",
      "fold_ 4  done !\n"
     ]
    }
   ],
   "source": [
    "trainset = trainset.drop(['Clearsky DNI'], axis = 1)\n",
    "### trainset -> R+DHI+GHI\n",
    "train = Train(trainset, train_dni, 'model_DNI_3')\n",
    "pred_df = train.train_loop()\n",
    "\n",
    "trainset['Clearsky DNI']  = pred_df['tar']\n",
    "convert_dict = {\"Clearsky DNI\":float}\n",
    "trainset = trainset.astype(convert_dict)\n",
    "\n",
    "pred_df.to_csv(\"oof_pred_DNI_3.csv\",index=False)"
   ]
  },
  {
   "cell_type": "code",
   "execution_count": null,
   "id": "90af2454",
   "metadata": {
    "papermill": {
     "duration": 0.006482,
     "end_time": "2023-04-12T14:41:04.087085",
     "exception": false,
     "start_time": "2023-04-12T14:41:04.080603",
     "status": "completed"
    },
    "tags": []
   },
   "outputs": [],
   "source": []
  },
  {
   "cell_type": "code",
   "execution_count": null,
   "id": "3c0dfd3b",
   "metadata": {
    "papermill": {
     "duration": 0.006252,
     "end_time": "2023-04-12T14:41:04.099727",
     "exception": false,
     "start_time": "2023-04-12T14:41:04.093475",
     "status": "completed"
    },
    "tags": []
   },
   "outputs": [],
   "source": []
  },
  {
   "cell_type": "code",
   "execution_count": null,
   "id": "776b6296",
   "metadata": {
    "papermill": {
     "duration": 0.006697,
     "end_time": "2023-04-12T14:41:04.112784",
     "exception": false,
     "start_time": "2023-04-12T14:41:04.106087",
     "status": "completed"
    },
    "tags": []
   },
   "outputs": [],
   "source": []
  }
 ],
 "metadata": {
  "kernelspec": {
   "display_name": "Python 3",
   "language": "python",
   "name": "python3"
  },
  "language_info": {
   "codemirror_mode": {
    "name": "ipython",
    "version": 3
   },
   "file_extension": ".py",
   "mimetype": "text/x-python",
   "name": "python",
   "nbconvert_exporter": "python",
   "pygments_lexer": "ipython3",
   "version": "3.7.12"
  },
  "papermill": {
   "default_parameters": {},
   "duration": 24.141317,
   "end_time": "2023-04-12T14:41:05.141404",
   "environment_variables": {},
   "exception": null,
   "input_path": "__notebook__.ipynb",
   "output_path": "__notebook__.ipynb",
   "parameters": {},
   "start_time": "2023-04-12T14:40:41.000087",
   "version": "2.4.0"
  }
 },
 "nbformat": 4,
 "nbformat_minor": 5
}
