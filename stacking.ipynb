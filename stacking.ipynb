{
 "cells": [
  {
   "cell_type": "code",
   "execution_count": 1,
   "id": "1892f96a",
   "metadata": {
    "_cell_guid": "b1076dfc-b9ad-4769-8c92-a6c4dae69d19",
    "_uuid": "8f2839f25d086af736a60e9eeb907d3b93b6e0e5",
    "execution": {
     "iopub.execute_input": "2023-04-12T16:56:16.821691Z",
     "iopub.status.busy": "2023-04-12T16:56:16.821215Z",
     "iopub.status.idle": "2023-04-12T16:56:20.319454Z",
     "shell.execute_reply": "2023-04-12T16:56:20.318419Z"
    },
    "papermill": {
     "duration": 3.509524,
     "end_time": "2023-04-12T16:56:20.322053",
     "exception": false,
     "start_time": "2023-04-12T16:56:16.812529",
     "status": "completed"
    },
    "tags": []
   },
   "outputs": [
    {
     "data": {
      "text/html": [
       "<style type='text/css'>\n",
       ".datatable table.frame { margin-bottom: 0; }\n",
       ".datatable table.frame thead { border-bottom: none; }\n",
       ".datatable table.frame tr.coltypes td {  color: #FFFFFF;  line-height: 6px;  padding: 0 0.5em;}\n",
       ".datatable .bool    { background: #DDDD99; }\n",
       ".datatable .object  { background: #565656; }\n",
       ".datatable .int     { background: #5D9E5D; }\n",
       ".datatable .float   { background: #4040CC; }\n",
       ".datatable .str     { background: #CC4040; }\n",
       ".datatable .time    { background: #40CC40; }\n",
       ".datatable .row_index {  background: var(--jp-border-color3);  border-right: 1px solid var(--jp-border-color0);  color: var(--jp-ui-font-color3);  font-size: 9px;}\n",
       ".datatable .frame tbody td { text-align: left; }\n",
       ".datatable .frame tr.coltypes .row_index {  background: var(--jp-border-color0);}\n",
       ".datatable th:nth-child(2) { padding-left: 12px; }\n",
       ".datatable .hellipsis {  color: var(--jp-cell-editor-border-color);}\n",
       ".datatable .vellipsis {  background: var(--jp-layout-color0);  color: var(--jp-cell-editor-border-color);}\n",
       ".datatable .na {  color: var(--jp-cell-editor-border-color);  font-size: 80%;}\n",
       ".datatable .sp {  opacity: 0.25;}\n",
       ".datatable .footer { font-size: 9px; }\n",
       ".datatable .frame_dimensions {  background: var(--jp-border-color3);  border-top: 1px solid var(--jp-border-color0);  color: var(--jp-ui-font-color3);  display: inline-block;  opacity: 0.6;  padding: 1px 10px 1px 5px;}\n",
       "</style>\n"
      ],
      "text/plain": [
       "<IPython.core.display.HTML object>"
      ]
     },
     "metadata": {},
     "output_type": "display_data"
    }
   ],
   "source": [
    "import numpy as np\n",
    "import pandas as pd\n",
    "from sklearn.model_selection import train_test_split, cross_validate, KFold\n",
    "from sklearn.linear_model import LinearRegression\n",
    "from sklearn.preprocessing import StandardScaler\n",
    "from sklearn.metrics import mean_squared_error, SCORERS\n",
    "from xgboost import XGBRegressor,XGBClassifier\n",
    "import optuna\n",
    "import matplotlib.pyplot as plt\n",
    "import seaborn as sns\n",
    "import lightgbm as lgb\n",
    "from catboost import CatBoostRegressor\n",
    "import warnings\n",
    "import pickle\n",
    "from glob import glob\n",
    "warnings.filterwarnings('ignore')\n",
    "%matplotlib inline"
   ]
  },
  {
   "cell_type": "code",
   "execution_count": 2,
   "id": "ff54eec2",
   "metadata": {
    "execution": {
     "iopub.execute_input": "2023-04-12T16:56:20.337490Z",
     "iopub.status.busy": "2023-04-12T16:56:20.337179Z",
     "iopub.status.idle": "2023-04-12T16:56:20.724584Z",
     "shell.execute_reply": "2023-04-12T16:56:20.723439Z"
    },
    "papermill": {
     "duration": 0.396856,
     "end_time": "2023-04-12T16:56:20.727195",
     "exception": false,
     "start_time": "2023-04-12T16:56:20.330339",
     "status": "completed"
    },
    "tags": []
   },
   "outputs": [],
   "source": [
    "#data prep\n",
    "trainset = pd.read_csv(\"/kaggle/input/mh-wipro-sustainable-ml-challenge/train.csv\")\n",
    "testset = pd.read_csv(\"/kaggle/input/mh-wipro-sustainable-ml-challenge/test.csv\")\n",
    "\n",
    "testset = testset.drop(['Clearsky DHI', 'Clearsky DNI', 'Clearsky GHI'],axis = 1)\n",
    "\n",
    "Y_cols = trainset.loc[:, ['Clearsky DHI', 'Clearsky DNI', 'Clearsky GHI']]\n",
    "trainset = trainset.drop(['Clearsky DHI', 'Clearsky DNI', 'Clearsky GHI'], axis = 1)\n",
    "\n",
    "train_dhi = Y_cols['Clearsky DHI']\n",
    "train_dni = Y_cols['Clearsky DNI']\n",
    "train_ghi = Y_cols['Clearsky GHI']"
   ]
  },
  {
   "cell_type": "markdown",
   "id": "387988d5",
   "metadata": {
    "papermill": {
     "duration": 0.005714,
     "end_time": "2023-04-12T16:56:20.739115",
     "exception": false,
     "start_time": "2023-04-12T16:56:20.733401",
     "status": "completed"
    },
    "tags": []
   },
   "source": [
    "# Preparing Data for metamodel"
   ]
  },
  {
   "cell_type": "code",
   "execution_count": 3,
   "id": "7572aa29",
   "metadata": {
    "execution": {
     "iopub.execute_input": "2023-04-12T16:56:20.752473Z",
     "iopub.status.busy": "2023-04-12T16:56:20.751663Z",
     "iopub.status.idle": "2023-04-12T16:56:20.756617Z",
     "shell.execute_reply": "2023-04-12T16:56:20.755675Z"
    },
    "papermill": {
     "duration": 0.01373,
     "end_time": "2023-04-12T16:56:20.758643",
     "exception": false,
     "start_time": "2023-04-12T16:56:20.744913",
     "status": "completed"
    },
    "tags": []
   },
   "outputs": [],
   "source": [
    "# model = pickle.load(open(\"/kaggle/input/wipro-2-linear-reg/model_DHI_1.json\",'rb'))"
   ]
  },
  {
   "cell_type": "code",
   "execution_count": 4,
   "id": "e4d4bda9",
   "metadata": {
    "execution": {
     "iopub.execute_input": "2023-04-12T16:56:20.771260Z",
     "iopub.status.busy": "2023-04-12T16:56:20.770954Z",
     "iopub.status.idle": "2023-04-12T16:56:20.774788Z",
     "shell.execute_reply": "2023-04-12T16:56:20.773826Z"
    },
    "papermill": {
     "duration": 0.012482,
     "end_time": "2023-04-12T16:56:20.776865",
     "exception": false,
     "start_time": "2023-04-12T16:56:20.764383",
     "status": "completed"
    },
    "tags": []
   },
   "outputs": [],
   "source": [
    "# model.predict(testset)"
   ]
  },
  {
   "cell_type": "code",
   "execution_count": 5,
   "id": "25730a2b",
   "metadata": {
    "execution": {
     "iopub.execute_input": "2023-04-12T16:56:20.789518Z",
     "iopub.status.busy": "2023-04-12T16:56:20.789254Z",
     "iopub.status.idle": "2023-04-12T16:56:20.796841Z",
     "shell.execute_reply": "2023-04-12T16:56:20.795801Z"
    },
    "papermill": {
     "duration": 0.016575,
     "end_time": "2023-04-12T16:56:20.799187",
     "exception": false,
     "start_time": "2023-04-12T16:56:20.782612",
     "status": "completed"
    },
    "tags": []
   },
   "outputs": [],
   "source": [
    "def prepare_stack_data(dirc, model_ID , lab, itr, stack_train, stack_test, testset):\n",
    "    model_path = dirc+f\"model_{lab}_{itr}.json\"\n",
    "    model = pickle.load(open(model_path, \"rb\"))\n",
    "    preds = model.predict(testset)\n",
    "    stack_test[(model_ID+\"_\"+lab+str(itr))]=preds\n",
    "    convert_dict = {(model_ID+\"_\"+lab+str(itr)):float}\n",
    "    stack_test = stack_test.astype(convert_dict)\n",
    "    \n",
    "    oof_path = dirc+f\"oof_pred_{lab}_{itr}\"\n",
    "    try:\n",
    "        oof_df=pd.read_csv(oof_path)\n",
    "    except:\n",
    "        oof_df=pd.read_csv(oof_path+\".csv\")\n",
    "    stack_train[(model_ID+\"_\"+lab+str(itr))] = oof_df[\"tar\"]\n",
    "    convert_dict = {(model_ID+\"_\"+lab+str(itr)):float}\n",
    "    stack_train = stack_train.astype(convert_dict)\n",
    "    \n",
    "    testset[f\"Clearsky {lab}\"] = preds\n",
    "    convert_dict = {f\"Clearsky {lab}\":float}\n",
    "    testset = testset.astype(convert_dict)\n",
    "    \n",
    "    return stack_train, stack_test, testset"
   ]
  },
  {
   "cell_type": "code",
   "execution_count": 6,
   "id": "29909bdf",
   "metadata": {
    "execution": {
     "iopub.execute_input": "2023-04-12T16:56:20.811792Z",
     "iopub.status.busy": "2023-04-12T16:56:20.811531Z",
     "iopub.status.idle": "2023-04-12T16:56:20.817384Z",
     "shell.execute_reply": "2023-04-12T16:56:20.816315Z"
    },
    "papermill": {
     "duration": 0.01484,
     "end_time": "2023-04-12T16:56:20.819806",
     "exception": false,
     "start_time": "2023-04-12T16:56:20.804966",
     "status": "completed"
    },
    "tags": []
   },
   "outputs": [],
   "source": [
    "stack_train_DHI = pd.DataFrame()\n",
    "stack_test_DHI = pd.DataFrame()\n",
    "stack_train_GHI = pd.DataFrame()\n",
    "stack_test_GHI = pd.DataFrame()\n",
    "stack_train_DNI = pd.DataFrame()\n",
    "stack_test_DNI = pd.DataFrame()"
   ]
  },
  {
   "cell_type": "code",
   "execution_count": 7,
   "id": "495546bd",
   "metadata": {
    "execution": {
     "iopub.execute_input": "2023-04-12T16:56:20.833611Z",
     "iopub.status.busy": "2023-04-12T16:56:20.832892Z",
     "iopub.status.idle": "2023-04-12T16:56:24.268853Z",
     "shell.execute_reply": "2023-04-12T16:56:24.267518Z"
    },
    "papermill": {
     "duration": 3.445298,
     "end_time": "2023-04-12T16:56:24.271638",
     "exception": false,
     "start_time": "2023-04-12T16:56:20.826340",
     "status": "completed"
    },
    "tags": []
   },
   "outputs": [],
   "source": [
    "dirc = \"/kaggle/input/wipro-2-xgboost/\"\n",
    "model_ID = \"XGB\"\n",
    "stack_train_DHI,stack_test_DHI,testset = prepare_stack_data(dirc ,model_ID, \"DHI\", 1, stack_train_DHI, stack_test_DHI, testset)\n",
    "\n",
    "stack_train_GHI,stack_test_GHI,testset = prepare_stack_data(dirc,model_ID , \"GHI\", 1, stack_train_GHI, stack_test_GHI,testset)\n",
    "\n",
    "stack_train_DNI,stack_test_DNI,testset = prepare_stack_data(dirc,model_ID , \"DNI\", 1, stack_train_DNI, stack_test_DNI,testset)\n",
    "\n",
    "testset = testset.drop([\"Clearsky DHI\"],axis =1)\n",
    "stack_train_DHI,stack_test_DHI,testset = prepare_stack_data(dirc,model_ID , \"DHI\", 2, stack_train_DHI, stack_test_DHI,testset)\n",
    "\n",
    "testset = testset.drop([\"Clearsky GHI\"],axis =1)\n",
    "stack_train_GHI,stack_test_GHI,testset = prepare_stack_data(dirc,model_ID , \"GHI\", 2, stack_train_GHI, stack_test_GHI,testset)\n",
    "\n",
    "testset = testset.drop([\"Clearsky DNI\"],axis =1)\n",
    "stack_train_DNI,stack_test_DNI,testset = prepare_stack_data(dirc,model_ID , \"DNI\", 2, stack_train_DNI, stack_test_DNI,testset)\n",
    "\n",
    "testset = testset.drop([\"Clearsky DHI\"],axis =1)\n",
    "stack_train_DHI,stack_test_DHI,testset = prepare_stack_data(dirc,model_ID , \"DHI\", 3, stack_train_DHI, stack_test_DHI,testset)\n",
    "\n",
    "testset = testset.drop([\"Clearsky GHI\"],axis =1)\n",
    "stack_train_GHI,stack_test_GHI,testset = prepare_stack_data(dirc,model_ID , \"GHI\", 3, stack_train_GHI, stack_test_GHI,testset)\n",
    "\n",
    "testset = testset.drop([\"Clearsky DNI\"],axis =1)\n",
    "stack_train_DNI,stack_test_DNI,testset = prepare_stack_data(dirc,model_ID , \"DNI\", 3, stack_train_DNI, stack_test_DNI,testset)"
   ]
  },
  {
   "cell_type": "code",
   "execution_count": 8,
   "id": "eaf327e8",
   "metadata": {
    "execution": {
     "iopub.execute_input": "2023-04-12T16:56:24.286573Z",
     "iopub.status.busy": "2023-04-12T16:56:24.285509Z",
     "iopub.status.idle": "2023-04-12T16:56:24.295402Z",
     "shell.execute_reply": "2023-04-12T16:56:24.294476Z"
    },
    "papermill": {
     "duration": 0.019336,
     "end_time": "2023-04-12T16:56:24.297651",
     "exception": false,
     "start_time": "2023-04-12T16:56:24.278315",
     "status": "completed"
    },
    "tags": []
   },
   "outputs": [],
   "source": [
    "testset = testset.drop([\"Clearsky DHI\"],axis =1)\n",
    "testset = testset.drop([\"Clearsky GHI\"],axis =1)\n",
    "testset = testset.drop([\"Clearsky DNI\"],axis =1)"
   ]
  },
  {
   "cell_type": "code",
   "execution_count": 9,
   "id": "dbe72e25",
   "metadata": {
    "execution": {
     "iopub.execute_input": "2023-04-12T16:56:24.310650Z",
     "iopub.status.busy": "2023-04-12T16:56:24.310361Z",
     "iopub.status.idle": "2023-04-12T16:56:25.615583Z",
     "shell.execute_reply": "2023-04-12T16:56:25.614562Z"
    },
    "papermill": {
     "duration": 1.314968,
     "end_time": "2023-04-12T16:56:25.618385",
     "exception": false,
     "start_time": "2023-04-12T16:56:24.303417",
     "status": "completed"
    },
    "tags": []
   },
   "outputs": [],
   "source": [
    "dirc = \"/kaggle/input/wipro-2-linear-reg/\"\n",
    "model_ID = \"LinReg\"\n",
    "stack_train_DHI,stack_test_DHI,testset = prepare_stack_data(dirc ,model_ID, \"DHI\", 1, stack_train_DHI, stack_test_DHI, testset)\n",
    "\n",
    "stack_train_GHI,stack_test_GHI,testset = prepare_stack_data(dirc,model_ID , \"GHI\", 1, stack_train_GHI, stack_test_GHI,testset)\n",
    "\n",
    "stack_train_DNI,stack_test_DNI,testset = prepare_stack_data(dirc,model_ID , \"DNI\", 1, stack_train_DNI, stack_test_DNI,testset)\n",
    "\n",
    "testset = testset.drop([\"Clearsky DHI\"],axis =1)\n",
    "stack_train_DHI,stack_test_DHI,testset = prepare_stack_data(dirc,model_ID , \"DHI\", 2, stack_train_DHI, stack_test_DHI,testset)\n",
    "\n",
    "testset = testset.drop([\"Clearsky GHI\"],axis =1)\n",
    "stack_train_GHI,stack_test_GHI,testset = prepare_stack_data(dirc,model_ID , \"GHI\", 2, stack_train_GHI, stack_test_GHI,testset)\n",
    "\n",
    "testset = testset.drop([\"Clearsky DNI\"],axis =1)\n",
    "stack_train_DNI,stack_test_DNI,testset = prepare_stack_data(dirc,model_ID , \"DNI\", 2, stack_train_DNI, stack_test_DNI,testset)\n",
    "\n",
    "testset = testset.drop([\"Clearsky DHI\"],axis =1)\n",
    "stack_train_DHI,stack_test_DHI,testset = prepare_stack_data(dirc,model_ID , \"DHI\", 3, stack_train_DHI, stack_test_DHI,testset)\n",
    "\n",
    "testset = testset.drop([\"Clearsky GHI\"],axis =1)\n",
    "stack_train_GHI,stack_test_GHI,testset = prepare_stack_data(dirc,model_ID , \"GHI\", 3, stack_train_GHI, stack_test_GHI,testset)\n",
    "\n",
    "testset = testset.drop([\"Clearsky DNI\"],axis =1)\n",
    "stack_train_DNI,stack_test_DNI,testset = prepare_stack_data(dirc,model_ID , \"DNI\", 3, stack_train_DNI, stack_test_DNI,testset)"
   ]
  },
  {
   "cell_type": "code",
   "execution_count": 10,
   "id": "1be6115c",
   "metadata": {
    "execution": {
     "iopub.execute_input": "2023-04-12T16:56:25.632840Z",
     "iopub.status.busy": "2023-04-12T16:56:25.632531Z",
     "iopub.status.idle": "2023-04-12T16:56:25.641645Z",
     "shell.execute_reply": "2023-04-12T16:56:25.640750Z"
    },
    "papermill": {
     "duration": 0.017917,
     "end_time": "2023-04-12T16:56:25.643642",
     "exception": false,
     "start_time": "2023-04-12T16:56:25.625725",
     "status": "completed"
    },
    "tags": []
   },
   "outputs": [],
   "source": [
    "testset = testset.drop([\"Clearsky DHI\"],axis =1)\n",
    "testset = testset.drop([\"Clearsky GHI\"],axis =1)\n",
    "testset = testset.drop([\"Clearsky DNI\"],axis =1)"
   ]
  },
  {
   "cell_type": "code",
   "execution_count": 11,
   "id": "061e48ee",
   "metadata": {
    "execution": {
     "iopub.execute_input": "2023-04-12T16:56:25.656355Z",
     "iopub.status.busy": "2023-04-12T16:56:25.656073Z",
     "iopub.status.idle": "2023-04-12T16:56:53.131872Z",
     "shell.execute_reply": "2023-04-12T16:56:53.130793Z"
    },
    "papermill": {
     "duration": 27.485414,
     "end_time": "2023-04-12T16:56:53.134770",
     "exception": false,
     "start_time": "2023-04-12T16:56:25.649356",
     "status": "completed"
    },
    "tags": []
   },
   "outputs": [],
   "source": [
    "dirc = \"/kaggle/input/wipro-2-random-forest/\"\n",
    "model_ID = \"RF\"\n",
    "stack_train_DHI,stack_test_DHI,testset = prepare_stack_data(dirc ,model_ID, \"DHI\", 1, stack_train_DHI, stack_test_DHI, testset)\n",
    "\n",
    "stack_train_GHI,stack_test_GHI,testset = prepare_stack_data(dirc,model_ID , \"GHI\", 1, stack_train_GHI, stack_test_GHI,testset)\n",
    "\n",
    "stack_train_DNI,stack_test_DNI,testset = prepare_stack_data(dirc,model_ID , \"DNI\", 1, stack_train_DNI, stack_test_DNI,testset)\n",
    "\n",
    "testset = testset.drop([\"Clearsky DHI\"],axis =1)\n",
    "stack_train_DHI,stack_test_DHI,testset = prepare_stack_data(dirc,model_ID , \"DHI\", 2, stack_train_DHI, stack_test_DHI,testset)\n",
    "\n",
    "testset = testset.drop([\"Clearsky GHI\"],axis =1)\n",
    "stack_train_GHI,stack_test_GHI,testset = prepare_stack_data(dirc,model_ID , \"GHI\", 2, stack_train_GHI, stack_test_GHI,testset)\n",
    "\n",
    "testset = testset.drop([\"Clearsky DNI\"],axis =1)\n",
    "stack_train_DNI,stack_test_DNI,testset = prepare_stack_data(dirc,model_ID , \"DNI\", 2, stack_train_DNI, stack_test_DNI,testset)\n",
    "\n",
    "testset = testset.drop([\"Clearsky DHI\"],axis =1)\n",
    "stack_train_DHI,stack_test_DHI,testset = prepare_stack_data(dirc,model_ID , \"DHI\", 3, stack_train_DHI, stack_test_DHI,testset)\n",
    "\n",
    "testset = testset.drop([\"Clearsky GHI\"],axis =1)\n",
    "stack_train_GHI,stack_test_GHI,testset = prepare_stack_data(dirc,model_ID , \"GHI\", 3, stack_train_GHI, stack_test_GHI,testset)\n",
    "\n",
    "testset = testset.drop([\"Clearsky DNI\"],axis =1)\n",
    "stack_train_DNI,stack_test_DNI,testset = prepare_stack_data(dirc,model_ID , \"DNI\", 3, stack_train_DNI, stack_test_DNI,testset)"
   ]
  },
  {
   "cell_type": "code",
   "execution_count": 12,
   "id": "3c2e4665",
   "metadata": {
    "execution": {
     "iopub.execute_input": "2023-04-12T16:56:53.148568Z",
     "iopub.status.busy": "2023-04-12T16:56:53.148261Z",
     "iopub.status.idle": "2023-04-12T16:56:53.153881Z",
     "shell.execute_reply": "2023-04-12T16:56:53.152690Z"
    },
    "papermill": {
     "duration": 0.014784,
     "end_time": "2023-04-12T16:56:53.156147",
     "exception": false,
     "start_time": "2023-04-12T16:56:53.141363",
     "status": "completed"
    },
    "tags": []
   },
   "outputs": [],
   "source": [
    "# dirc = \"/kaggle/input/wipro-2/\"\n",
    "# model_ID = \"Lin_Reg\"\n",
    "# model = XGBRegressor(tree_method = 'gpu_hist', gpu_id = 0, predictor = \"gpu_predictor\")\n",
    "# stack_train_DHI,stack_test_DHI,testset = prepare_stack_data(dirc,model ,model_ID, \"DHI\", 1, stack_train_DHI, stack_test_DHI, testset)\n",
    "\n",
    "# model = XGBRegressor(tree_method = 'gpu_hist', gpu_id = 0, predictor = \"gpu_predictor\")\n",
    "# stack_train_GHI,stack_test_GHI,testset = prepare_stack_data(dirc,model,model_ID , \"GHI\", 1, stack_train_GHI, stack_test_GHI,testset)\n",
    "\n",
    "# model = XGBRegressor(tree_method = 'gpu_hist', gpu_id = 0, predictor = \"gpu_predictor\")\n",
    "# stack_train_DNI,stack_test_DNI,testset = prepare_stack_data(dirc,model,model_ID , \"DNI\", 1, stack_train_DNI, stack_test_DNI,testset)\n",
    "\n",
    "# testset = testset.drop([\"Clearsky DHI\"],axis =1)\n",
    "# model = XGBRegressor(tree_method = 'gpu_hist', gpu_id = 0, predictor = \"gpu_predictor\")\n",
    "# stack_train_DHI,stack_test_DHI,testset = prepare_stack_data(dirc,model,model_ID , \"DHI\", 2, stack_train_DHI, stack_test_DHI,testset)\n",
    "\n",
    "# testset = testset.drop([\"Clearsky GHI\"],axis =1)\n",
    "# model = XGBRegressor(tree_method = 'gpu_hist', gpu_id = 0, predictor = \"gpu_predictor\")\n",
    "# stack_train_GHI,stack_test_GHI,testset = prepare_stack_data(dirc,model,model_ID , \"GHI\", 2, stack_train_GHI, stack_test_GHI,testset)\n",
    "\n",
    "# testset = testset.drop([\"Clearsky DNI\"],axis =1)\n",
    "# model = XGBRegressor(tree_method = 'gpu_hist', gpu_id = 0, predictor = \"gpu_predictor\")\n",
    "# stack_train_DNI,stack_test_DNI,testset = prepare_stack_data(dirc,model,model_ID , \"DNI\", 2, stack_train_DNI, stack_test_DNI,testset)\n",
    "\n",
    "# testset = testset.drop([\"Clearsky DHI\"],axis =1)\n",
    "# model = XGBRegressor(tree_method = 'gpu_hist', gpu_id = 0, predictor = \"gpu_predictor\")\n",
    "# stack_train_DHI,stack_test_DHI,testset = prepare_stack_data(dirc,model,model_ID , \"DHI\", 3, stack_train_DHI, stack_test_DHI,testset)\n",
    "\n",
    "# testset = testset.drop([\"Clearsky GHI\"],axis =1)\n",
    "# model = XGBRegressor(tree_method = 'gpu_hist', gpu_id = 0, predictor = \"gpu_predictor\")\n",
    "# stack_train_GHI,stack_test_GHI,testset = prepare_stack_data(dirc,model,model_ID , \"GHI\", 3, stack_train_GHI, stack_test_GHI,testset)\n",
    "\n",
    "# testset = testset.drop([\"Clearsky DNI\"],axis =1)\n",
    "# model = XGBRegressor(tree_method = 'gpu_hist', gpu_id = 0, predictor = \"gpu_predictor\")\n",
    "# stack_train_DNI,stack_test_DNI,testset = prepare_stack_data(dirc,model,model_ID , \"DNI\", 3, stack_train_DNI, stack_test_DNI,testset)"
   ]
  },
  {
   "cell_type": "code",
   "execution_count": 13,
   "id": "a938f9e6",
   "metadata": {
    "execution": {
     "iopub.execute_input": "2023-04-12T16:56:53.169130Z",
     "iopub.status.busy": "2023-04-12T16:56:53.168852Z",
     "iopub.status.idle": "2023-04-12T16:56:53.187397Z",
     "shell.execute_reply": "2023-04-12T16:56:53.186244Z"
    },
    "papermill": {
     "duration": 0.028198,
     "end_time": "2023-04-12T16:56:53.190164",
     "exception": false,
     "start_time": "2023-04-12T16:56:53.161966",
     "status": "completed"
    },
    "tags": []
   },
   "outputs": [
    {
     "data": {
      "text/html": [
       "<div>\n",
       "<style scoped>\n",
       "    .dataframe tbody tr th:only-of-type {\n",
       "        vertical-align: middle;\n",
       "    }\n",
       "\n",
       "    .dataframe tbody tr th {\n",
       "        vertical-align: top;\n",
       "    }\n",
       "\n",
       "    .dataframe thead th {\n",
       "        text-align: right;\n",
       "    }\n",
       "</style>\n",
       "<table border=\"1\" class=\"dataframe\">\n",
       "  <thead>\n",
       "    <tr style=\"text-align: right;\">\n",
       "      <th></th>\n",
       "      <th>XGB_DHI1</th>\n",
       "      <th>XGB_DHI2</th>\n",
       "      <th>XGB_DHI3</th>\n",
       "      <th>LinReg_DHI1</th>\n",
       "      <th>LinReg_DHI2</th>\n",
       "      <th>LinReg_DHI3</th>\n",
       "      <th>RF_DHI1</th>\n",
       "      <th>RF_DHI2</th>\n",
       "      <th>RF_DHI3</th>\n",
       "    </tr>\n",
       "  </thead>\n",
       "  <tbody>\n",
       "    <tr>\n",
       "      <th>0</th>\n",
       "      <td>-0.089561</td>\n",
       "      <td>-3.964400</td>\n",
       "      <td>0.128305</td>\n",
       "      <td>23.506550</td>\n",
       "      <td>23.264028</td>\n",
       "      <td>23.258006</td>\n",
       "      <td>0.0</td>\n",
       "      <td>0.0</td>\n",
       "      <td>0.0</td>\n",
       "    </tr>\n",
       "    <tr>\n",
       "      <th>1</th>\n",
       "      <td>-0.026620</td>\n",
       "      <td>-4.822152</td>\n",
       "      <td>0.010157</td>\n",
       "      <td>15.291682</td>\n",
       "      <td>15.919437</td>\n",
       "      <td>15.880744</td>\n",
       "      <td>0.0</td>\n",
       "      <td>0.0</td>\n",
       "      <td>0.0</td>\n",
       "    </tr>\n",
       "    <tr>\n",
       "      <th>2</th>\n",
       "      <td>0.154262</td>\n",
       "      <td>-4.616228</td>\n",
       "      <td>-0.094219</td>\n",
       "      <td>13.819152</td>\n",
       "      <td>14.041488</td>\n",
       "      <td>14.030194</td>\n",
       "      <td>0.0</td>\n",
       "      <td>0.0</td>\n",
       "      <td>0.0</td>\n",
       "    </tr>\n",
       "    <tr>\n",
       "      <th>3</th>\n",
       "      <td>2.839067</td>\n",
       "      <td>-5.868361</td>\n",
       "      <td>-0.084351</td>\n",
       "      <td>6.928181</td>\n",
       "      <td>6.717554</td>\n",
       "      <td>6.726092</td>\n",
       "      <td>0.0</td>\n",
       "      <td>0.0</td>\n",
       "      <td>0.0</td>\n",
       "    </tr>\n",
       "    <tr>\n",
       "      <th>4</th>\n",
       "      <td>0.736160</td>\n",
       "      <td>-6.009462</td>\n",
       "      <td>0.278560</td>\n",
       "      <td>1.305088</td>\n",
       "      <td>1.757409</td>\n",
       "      <td>1.752150</td>\n",
       "      <td>0.0</td>\n",
       "      <td>0.0</td>\n",
       "      <td>0.0</td>\n",
       "    </tr>\n",
       "  </tbody>\n",
       "</table>\n",
       "</div>"
      ],
      "text/plain": [
       "   XGB_DHI1  XGB_DHI2  XGB_DHI3  LinReg_DHI1  LinReg_DHI2  LinReg_DHI3  \\\n",
       "0 -0.089561 -3.964400  0.128305    23.506550    23.264028    23.258006   \n",
       "1 -0.026620 -4.822152  0.010157    15.291682    15.919437    15.880744   \n",
       "2  0.154262 -4.616228 -0.094219    13.819152    14.041488    14.030194   \n",
       "3  2.839067 -5.868361 -0.084351     6.928181     6.717554     6.726092   \n",
       "4  0.736160 -6.009462  0.278560     1.305088     1.757409     1.752150   \n",
       "\n",
       "   RF_DHI1  RF_DHI2  RF_DHI3  \n",
       "0      0.0      0.0      0.0  \n",
       "1      0.0      0.0      0.0  \n",
       "2      0.0      0.0      0.0  \n",
       "3      0.0      0.0      0.0  \n",
       "4      0.0      0.0      0.0  "
      ]
     },
     "execution_count": 13,
     "metadata": {},
     "output_type": "execute_result"
    }
   ],
   "source": [
    "stack_train_DHI.head()"
   ]
  },
  {
   "cell_type": "code",
   "execution_count": 14,
   "id": "6fbef3ef",
   "metadata": {
    "execution": {
     "iopub.execute_input": "2023-04-12T16:56:53.203960Z",
     "iopub.status.busy": "2023-04-12T16:56:53.203686Z",
     "iopub.status.idle": "2023-04-12T16:56:53.219842Z",
     "shell.execute_reply": "2023-04-12T16:56:53.218888Z"
    },
    "papermill": {
     "duration": 0.025561,
     "end_time": "2023-04-12T16:56:53.222110",
     "exception": false,
     "start_time": "2023-04-12T16:56:53.196549",
     "status": "completed"
    },
    "tags": []
   },
   "outputs": [
    {
     "data": {
      "text/html": [
       "<div>\n",
       "<style scoped>\n",
       "    .dataframe tbody tr th:only-of-type {\n",
       "        vertical-align: middle;\n",
       "    }\n",
       "\n",
       "    .dataframe tbody tr th {\n",
       "        vertical-align: top;\n",
       "    }\n",
       "\n",
       "    .dataframe thead th {\n",
       "        text-align: right;\n",
       "    }\n",
       "</style>\n",
       "<table border=\"1\" class=\"dataframe\">\n",
       "  <thead>\n",
       "    <tr style=\"text-align: right;\">\n",
       "      <th></th>\n",
       "      <th>XGB_DHI1</th>\n",
       "      <th>XGB_DHI2</th>\n",
       "      <th>XGB_DHI3</th>\n",
       "      <th>LinReg_DHI1</th>\n",
       "      <th>LinReg_DHI2</th>\n",
       "      <th>LinReg_DHI3</th>\n",
       "      <th>RF_DHI1</th>\n",
       "      <th>RF_DHI2</th>\n",
       "      <th>RF_DHI3</th>\n",
       "    </tr>\n",
       "  </thead>\n",
       "  <tbody>\n",
       "    <tr>\n",
       "      <th>0</th>\n",
       "      <td>-4.045102</td>\n",
       "      <td>1.084949</td>\n",
       "      <td>1.039269</td>\n",
       "      <td>25.418788</td>\n",
       "      <td>24.771560</td>\n",
       "      <td>24.774456</td>\n",
       "      <td>0.0</td>\n",
       "      <td>0.0</td>\n",
       "      <td>0.0</td>\n",
       "    </tr>\n",
       "    <tr>\n",
       "      <th>1</th>\n",
       "      <td>-3.957620</td>\n",
       "      <td>0.672973</td>\n",
       "      <td>0.741555</td>\n",
       "      <td>16.350404</td>\n",
       "      <td>15.582200</td>\n",
       "      <td>15.575658</td>\n",
       "      <td>0.0</td>\n",
       "      <td>0.0</td>\n",
       "      <td>0.0</td>\n",
       "    </tr>\n",
       "    <tr>\n",
       "      <th>2</th>\n",
       "      <td>-3.739697</td>\n",
       "      <td>1.138231</td>\n",
       "      <td>0.598435</td>\n",
       "      <td>11.983752</td>\n",
       "      <td>11.375453</td>\n",
       "      <td>11.372709</td>\n",
       "      <td>0.0</td>\n",
       "      <td>0.0</td>\n",
       "      <td>0.0</td>\n",
       "    </tr>\n",
       "    <tr>\n",
       "      <th>3</th>\n",
       "      <td>-4.605823</td>\n",
       "      <td>0.809444</td>\n",
       "      <td>0.310337</td>\n",
       "      <td>5.848397</td>\n",
       "      <td>5.091357</td>\n",
       "      <td>5.084863</td>\n",
       "      <td>0.0</td>\n",
       "      <td>0.0</td>\n",
       "      <td>0.0</td>\n",
       "    </tr>\n",
       "    <tr>\n",
       "      <th>4</th>\n",
       "      <td>-4.710551</td>\n",
       "      <td>0.888854</td>\n",
       "      <td>0.018738</td>\n",
       "      <td>-1.622222</td>\n",
       "      <td>-2.227255</td>\n",
       "      <td>-2.234341</td>\n",
       "      <td>0.0</td>\n",
       "      <td>0.0</td>\n",
       "      <td>0.0</td>\n",
       "    </tr>\n",
       "  </tbody>\n",
       "</table>\n",
       "</div>"
      ],
      "text/plain": [
       "   XGB_DHI1  XGB_DHI2  XGB_DHI3  LinReg_DHI1  LinReg_DHI2  LinReg_DHI3  \\\n",
       "0 -4.045102  1.084949  1.039269    25.418788    24.771560    24.774456   \n",
       "1 -3.957620  0.672973  0.741555    16.350404    15.582200    15.575658   \n",
       "2 -3.739697  1.138231  0.598435    11.983752    11.375453    11.372709   \n",
       "3 -4.605823  0.809444  0.310337     5.848397     5.091357     5.084863   \n",
       "4 -4.710551  0.888854  0.018738    -1.622222    -2.227255    -2.234341   \n",
       "\n",
       "   RF_DHI1  RF_DHI2  RF_DHI3  \n",
       "0      0.0      0.0      0.0  \n",
       "1      0.0      0.0      0.0  \n",
       "2      0.0      0.0      0.0  \n",
       "3      0.0      0.0      0.0  \n",
       "4      0.0      0.0      0.0  "
      ]
     },
     "execution_count": 14,
     "metadata": {},
     "output_type": "execute_result"
    }
   ],
   "source": [
    "stack_test_DHI.head()"
   ]
  },
  {
   "cell_type": "code",
   "execution_count": 15,
   "id": "57b4cb5f",
   "metadata": {
    "execution": {
     "iopub.execute_input": "2023-04-12T16:56:53.235841Z",
     "iopub.status.busy": "2023-04-12T16:56:53.235583Z",
     "iopub.status.idle": "2023-04-12T16:56:53.250750Z",
     "shell.execute_reply": "2023-04-12T16:56:53.249712Z"
    },
    "papermill": {
     "duration": 0.02445,
     "end_time": "2023-04-12T16:56:53.253052",
     "exception": false,
     "start_time": "2023-04-12T16:56:53.228602",
     "status": "completed"
    },
    "tags": []
   },
   "outputs": [
    {
     "data": {
      "text/html": [
       "<div>\n",
       "<style scoped>\n",
       "    .dataframe tbody tr th:only-of-type {\n",
       "        vertical-align: middle;\n",
       "    }\n",
       "\n",
       "    .dataframe tbody tr th {\n",
       "        vertical-align: top;\n",
       "    }\n",
       "\n",
       "    .dataframe thead th {\n",
       "        text-align: right;\n",
       "    }\n",
       "</style>\n",
       "<table border=\"1\" class=\"dataframe\">\n",
       "  <thead>\n",
       "    <tr style=\"text-align: right;\">\n",
       "      <th></th>\n",
       "      <th>XGB_GHI1</th>\n",
       "      <th>XGB_GHI2</th>\n",
       "      <th>XGB_GHI3</th>\n",
       "      <th>LinReg_GHI1</th>\n",
       "      <th>LinReg_GHI2</th>\n",
       "      <th>LinReg_GHI3</th>\n",
       "      <th>RF_GHI1</th>\n",
       "      <th>RF_GHI2</th>\n",
       "      <th>RF_GHI3</th>\n",
       "    </tr>\n",
       "  </thead>\n",
       "  <tbody>\n",
       "    <tr>\n",
       "      <th>0</th>\n",
       "      <td>0.001780</td>\n",
       "      <td>-0.553557</td>\n",
       "      <td>-0.073791</td>\n",
       "      <td>23.267277</td>\n",
       "      <td>23.257899</td>\n",
       "      <td>23.259674</td>\n",
       "      <td>0.0</td>\n",
       "      <td>0.0</td>\n",
       "      <td>0.0</td>\n",
       "    </tr>\n",
       "    <tr>\n",
       "      <th>1</th>\n",
       "      <td>0.111337</td>\n",
       "      <td>-0.082075</td>\n",
       "      <td>0.088011</td>\n",
       "      <td>15.875487</td>\n",
       "      <td>15.892967</td>\n",
       "      <td>15.868999</td>\n",
       "      <td>0.0</td>\n",
       "      <td>0.0</td>\n",
       "      <td>0.0</td>\n",
       "    </tr>\n",
       "    <tr>\n",
       "      <th>2</th>\n",
       "      <td>-0.002060</td>\n",
       "      <td>0.016008</td>\n",
       "      <td>0.048992</td>\n",
       "      <td>14.030578</td>\n",
       "      <td>14.034217</td>\n",
       "      <td>14.026379</td>\n",
       "      <td>0.0</td>\n",
       "      <td>0.0</td>\n",
       "      <td>0.0</td>\n",
       "    </tr>\n",
       "    <tr>\n",
       "      <th>3</th>\n",
       "      <td>-0.045307</td>\n",
       "      <td>-0.175781</td>\n",
       "      <td>-0.002855</td>\n",
       "      <td>6.712169</td>\n",
       "      <td>6.727105</td>\n",
       "      <td>6.724014</td>\n",
       "      <td>0.0</td>\n",
       "      <td>0.0</td>\n",
       "      <td>0.0</td>\n",
       "    </tr>\n",
       "    <tr>\n",
       "      <th>4</th>\n",
       "      <td>-0.320229</td>\n",
       "      <td>0.188091</td>\n",
       "      <td>0.023539</td>\n",
       "      <td>1.766179</td>\n",
       "      <td>1.750169</td>\n",
       "      <td>1.753924</td>\n",
       "      <td>0.0</td>\n",
       "      <td>0.0</td>\n",
       "      <td>0.0</td>\n",
       "    </tr>\n",
       "  </tbody>\n",
       "</table>\n",
       "</div>"
      ],
      "text/plain": [
       "   XGB_GHI1  XGB_GHI2  XGB_GHI3  LinReg_GHI1  LinReg_GHI2  LinReg_GHI3  \\\n",
       "0  0.001780 -0.553557 -0.073791    23.267277    23.257899    23.259674   \n",
       "1  0.111337 -0.082075  0.088011    15.875487    15.892967    15.868999   \n",
       "2 -0.002060  0.016008  0.048992    14.030578    14.034217    14.026379   \n",
       "3 -0.045307 -0.175781 -0.002855     6.712169     6.727105     6.724014   \n",
       "4 -0.320229  0.188091  0.023539     1.766179     1.750169     1.753924   \n",
       "\n",
       "   RF_GHI1  RF_GHI2  RF_GHI3  \n",
       "0      0.0      0.0      0.0  \n",
       "1      0.0      0.0      0.0  \n",
       "2      0.0      0.0      0.0  \n",
       "3      0.0      0.0      0.0  \n",
       "4      0.0      0.0      0.0  "
      ]
     },
     "execution_count": 15,
     "metadata": {},
     "output_type": "execute_result"
    }
   ],
   "source": [
    "stack_train_GHI.head()"
   ]
  },
  {
   "cell_type": "code",
   "execution_count": 16,
   "id": "085efbe7",
   "metadata": {
    "execution": {
     "iopub.execute_input": "2023-04-12T16:56:53.267462Z",
     "iopub.status.busy": "2023-04-12T16:56:53.266678Z",
     "iopub.status.idle": "2023-04-12T16:56:53.280832Z",
     "shell.execute_reply": "2023-04-12T16:56:53.279857Z"
    },
    "papermill": {
     "duration": 0.023324,
     "end_time": "2023-04-12T16:56:53.282898",
     "exception": false,
     "start_time": "2023-04-12T16:56:53.259574",
     "status": "completed"
    },
    "tags": []
   },
   "outputs": [
    {
     "data": {
      "text/html": [
       "<div>\n",
       "<style scoped>\n",
       "    .dataframe tbody tr th:only-of-type {\n",
       "        vertical-align: middle;\n",
       "    }\n",
       "\n",
       "    .dataframe tbody tr th {\n",
       "        vertical-align: top;\n",
       "    }\n",
       "\n",
       "    .dataframe thead th {\n",
       "        text-align: right;\n",
       "    }\n",
       "</style>\n",
       "<table border=\"1\" class=\"dataframe\">\n",
       "  <thead>\n",
       "    <tr style=\"text-align: right;\">\n",
       "      <th></th>\n",
       "      <th>XGB_GHI1</th>\n",
       "      <th>XGB_GHI2</th>\n",
       "      <th>XGB_GHI3</th>\n",
       "      <th>LinReg_GHI1</th>\n",
       "      <th>LinReg_GHI2</th>\n",
       "      <th>LinReg_GHI3</th>\n",
       "      <th>RF_GHI1</th>\n",
       "      <th>RF_GHI2</th>\n",
       "      <th>RF_GHI3</th>\n",
       "    </tr>\n",
       "  </thead>\n",
       "  <tbody>\n",
       "    <tr>\n",
       "      <th>0</th>\n",
       "      <td>0.355365</td>\n",
       "      <td>0.674272</td>\n",
       "      <td>-0.069084</td>\n",
       "      <td>24.756206</td>\n",
       "      <td>24.778490</td>\n",
       "      <td>24.777716</td>\n",
       "      <td>0.0</td>\n",
       "      <td>0.0</td>\n",
       "      <td>0.0</td>\n",
       "    </tr>\n",
       "    <tr>\n",
       "      <th>1</th>\n",
       "      <td>0.118394</td>\n",
       "      <td>0.603244</td>\n",
       "      <td>-0.045682</td>\n",
       "      <td>15.572785</td>\n",
       "      <td>15.579769</td>\n",
       "      <td>15.579046</td>\n",
       "      <td>0.0</td>\n",
       "      <td>0.0</td>\n",
       "      <td>0.0</td>\n",
       "    </tr>\n",
       "    <tr>\n",
       "      <th>2</th>\n",
       "      <td>-0.312485</td>\n",
       "      <td>0.589465</td>\n",
       "      <td>-0.045682</td>\n",
       "      <td>11.368717</td>\n",
       "      <td>11.375295</td>\n",
       "      <td>11.374966</td>\n",
       "      <td>0.0</td>\n",
       "      <td>0.0</td>\n",
       "      <td>0.0</td>\n",
       "    </tr>\n",
       "    <tr>\n",
       "      <th>3</th>\n",
       "      <td>-0.271834</td>\n",
       "      <td>0.491726</td>\n",
       "      <td>-0.045682</td>\n",
       "      <td>5.082207</td>\n",
       "      <td>5.088722</td>\n",
       "      <td>5.087388</td>\n",
       "      <td>0.0</td>\n",
       "      <td>0.0</td>\n",
       "      <td>0.0</td>\n",
       "    </tr>\n",
       "    <tr>\n",
       "      <th>4</th>\n",
       "      <td>-0.581673</td>\n",
       "      <td>0.302241</td>\n",
       "      <td>0.012626</td>\n",
       "      <td>-2.228793</td>\n",
       "      <td>-2.232464</td>\n",
       "      <td>-2.232713</td>\n",
       "      <td>0.0</td>\n",
       "      <td>0.0</td>\n",
       "      <td>0.0</td>\n",
       "    </tr>\n",
       "  </tbody>\n",
       "</table>\n",
       "</div>"
      ],
      "text/plain": [
       "   XGB_GHI1  XGB_GHI2  XGB_GHI3  LinReg_GHI1  LinReg_GHI2  LinReg_GHI3  \\\n",
       "0  0.355365  0.674272 -0.069084    24.756206    24.778490    24.777716   \n",
       "1  0.118394  0.603244 -0.045682    15.572785    15.579769    15.579046   \n",
       "2 -0.312485  0.589465 -0.045682    11.368717    11.375295    11.374966   \n",
       "3 -0.271834  0.491726 -0.045682     5.082207     5.088722     5.087388   \n",
       "4 -0.581673  0.302241  0.012626    -2.228793    -2.232464    -2.232713   \n",
       "\n",
       "   RF_GHI1  RF_GHI2  RF_GHI3  \n",
       "0      0.0      0.0      0.0  \n",
       "1      0.0      0.0      0.0  \n",
       "2      0.0      0.0      0.0  \n",
       "3      0.0      0.0      0.0  \n",
       "4      0.0      0.0      0.0  "
      ]
     },
     "execution_count": 16,
     "metadata": {},
     "output_type": "execute_result"
    }
   ],
   "source": [
    "stack_test_GHI.head()"
   ]
  },
  {
   "cell_type": "code",
   "execution_count": 17,
   "id": "5a48bab8",
   "metadata": {
    "execution": {
     "iopub.execute_input": "2023-04-12T16:56:53.297090Z",
     "iopub.status.busy": "2023-04-12T16:56:53.296800Z",
     "iopub.status.idle": "2023-04-12T16:56:53.312092Z",
     "shell.execute_reply": "2023-04-12T16:56:53.311048Z"
    },
    "papermill": {
     "duration": 0.024685,
     "end_time": "2023-04-12T16:56:53.314215",
     "exception": false,
     "start_time": "2023-04-12T16:56:53.289530",
     "status": "completed"
    },
    "tags": []
   },
   "outputs": [
    {
     "data": {
      "text/html": [
       "<div>\n",
       "<style scoped>\n",
       "    .dataframe tbody tr th:only-of-type {\n",
       "        vertical-align: middle;\n",
       "    }\n",
       "\n",
       "    .dataframe tbody tr th {\n",
       "        vertical-align: top;\n",
       "    }\n",
       "\n",
       "    .dataframe thead th {\n",
       "        text-align: right;\n",
       "    }\n",
       "</style>\n",
       "<table border=\"1\" class=\"dataframe\">\n",
       "  <thead>\n",
       "    <tr style=\"text-align: right;\">\n",
       "      <th></th>\n",
       "      <th>XGB_DNI1</th>\n",
       "      <th>XGB_DNI2</th>\n",
       "      <th>XGB_DNI3</th>\n",
       "      <th>LinReg_DNI1</th>\n",
       "      <th>LinReg_DNI2</th>\n",
       "      <th>LinReg_DNI3</th>\n",
       "      <th>RF_DNI1</th>\n",
       "      <th>RF_DNI2</th>\n",
       "      <th>RF_DNI3</th>\n",
       "    </tr>\n",
       "  </thead>\n",
       "  <tbody>\n",
       "    <tr>\n",
       "      <th>0</th>\n",
       "      <td>0.070526</td>\n",
       "      <td>0.085932</td>\n",
       "      <td>0.009572</td>\n",
       "      <td>23.260558</td>\n",
       "      <td>23.258859</td>\n",
       "      <td>23.256621</td>\n",
       "      <td>0.0</td>\n",
       "      <td>0.0</td>\n",
       "      <td>0.0</td>\n",
       "    </tr>\n",
       "    <tr>\n",
       "      <th>1</th>\n",
       "      <td>0.036012</td>\n",
       "      <td>-0.043518</td>\n",
       "      <td>0.014392</td>\n",
       "      <td>15.902838</td>\n",
       "      <td>15.901743</td>\n",
       "      <td>15.887320</td>\n",
       "      <td>0.0</td>\n",
       "      <td>0.0</td>\n",
       "      <td>0.0</td>\n",
       "    </tr>\n",
       "    <tr>\n",
       "      <th>2</th>\n",
       "      <td>-0.025074</td>\n",
       "      <td>-0.047549</td>\n",
       "      <td>0.014392</td>\n",
       "      <td>14.036753</td>\n",
       "      <td>14.037210</td>\n",
       "      <td>14.032653</td>\n",
       "      <td>0.0</td>\n",
       "      <td>0.0</td>\n",
       "      <td>0.0</td>\n",
       "    </tr>\n",
       "    <tr>\n",
       "      <th>3</th>\n",
       "      <td>-0.013463</td>\n",
       "      <td>-0.033017</td>\n",
       "      <td>0.017090</td>\n",
       "      <td>6.723039</td>\n",
       "      <td>6.726538</td>\n",
       "      <td>6.728223</td>\n",
       "      <td>0.0</td>\n",
       "      <td>0.0</td>\n",
       "      <td>0.0</td>\n",
       "    </tr>\n",
       "    <tr>\n",
       "      <th>4</th>\n",
       "      <td>0.051376</td>\n",
       "      <td>0.022379</td>\n",
       "      <td>0.020347</td>\n",
       "      <td>1.752698</td>\n",
       "      <td>1.749841</td>\n",
       "      <td>1.749517</td>\n",
       "      <td>0.0</td>\n",
       "      <td>0.0</td>\n",
       "      <td>0.0</td>\n",
       "    </tr>\n",
       "  </tbody>\n",
       "</table>\n",
       "</div>"
      ],
      "text/plain": [
       "   XGB_DNI1  XGB_DNI2  XGB_DNI3  LinReg_DNI1  LinReg_DNI2  LinReg_DNI3  \\\n",
       "0  0.070526  0.085932  0.009572    23.260558    23.258859    23.256621   \n",
       "1  0.036012 -0.043518  0.014392    15.902838    15.901743    15.887320   \n",
       "2 -0.025074 -0.047549  0.014392    14.036753    14.037210    14.032653   \n",
       "3 -0.013463 -0.033017  0.017090     6.723039     6.726538     6.728223   \n",
       "4  0.051376  0.022379  0.020347     1.752698     1.749841     1.749517   \n",
       "\n",
       "   RF_DNI1  RF_DNI2  RF_DNI3  \n",
       "0      0.0      0.0      0.0  \n",
       "1      0.0      0.0      0.0  \n",
       "2      0.0      0.0      0.0  \n",
       "3      0.0      0.0      0.0  \n",
       "4      0.0      0.0      0.0  "
      ]
     },
     "execution_count": 17,
     "metadata": {},
     "output_type": "execute_result"
    }
   ],
   "source": [
    "stack_train_DNI.head()"
   ]
  },
  {
   "cell_type": "code",
   "execution_count": 18,
   "id": "582fd093",
   "metadata": {
    "execution": {
     "iopub.execute_input": "2023-04-12T16:56:53.328622Z",
     "iopub.status.busy": "2023-04-12T16:56:53.328362Z",
     "iopub.status.idle": "2023-04-12T16:56:53.343549Z",
     "shell.execute_reply": "2023-04-12T16:56:53.342655Z"
    },
    "papermill": {
     "duration": 0.024609,
     "end_time": "2023-04-12T16:56:53.345588",
     "exception": false,
     "start_time": "2023-04-12T16:56:53.320979",
     "status": "completed"
    },
    "tags": []
   },
   "outputs": [
    {
     "data": {
      "text/html": [
       "<div>\n",
       "<style scoped>\n",
       "    .dataframe tbody tr th:only-of-type {\n",
       "        vertical-align: middle;\n",
       "    }\n",
       "\n",
       "    .dataframe tbody tr th {\n",
       "        vertical-align: top;\n",
       "    }\n",
       "\n",
       "    .dataframe thead th {\n",
       "        text-align: right;\n",
       "    }\n",
       "</style>\n",
       "<table border=\"1\" class=\"dataframe\">\n",
       "  <thead>\n",
       "    <tr style=\"text-align: right;\">\n",
       "      <th></th>\n",
       "      <th>XGB_DNI1</th>\n",
       "      <th>XGB_DNI2</th>\n",
       "      <th>XGB_DNI3</th>\n",
       "      <th>LinReg_DNI1</th>\n",
       "      <th>LinReg_DNI2</th>\n",
       "      <th>LinReg_DNI3</th>\n",
       "      <th>RF_DNI1</th>\n",
       "      <th>RF_DNI2</th>\n",
       "      <th>RF_DNI3</th>\n",
       "    </tr>\n",
       "  </thead>\n",
       "  <tbody>\n",
       "    <tr>\n",
       "      <th>0</th>\n",
       "      <td>0.011150</td>\n",
       "      <td>0.011308</td>\n",
       "      <td>0.016322</td>\n",
       "      <td>24.775132</td>\n",
       "      <td>24.782453</td>\n",
       "      <td>24.772826</td>\n",
       "      <td>0.0</td>\n",
       "      <td>0.0</td>\n",
       "      <td>0.0</td>\n",
       "    </tr>\n",
       "    <tr>\n",
       "      <th>1</th>\n",
       "      <td>0.011150</td>\n",
       "      <td>0.012839</td>\n",
       "      <td>0.016322</td>\n",
       "      <td>15.580816</td>\n",
       "      <td>15.583942</td>\n",
       "      <td>15.573857</td>\n",
       "      <td>0.0</td>\n",
       "      <td>0.0</td>\n",
       "      <td>0.0</td>\n",
       "    </tr>\n",
       "    <tr>\n",
       "      <th>2</th>\n",
       "      <td>-0.053133</td>\n",
       "      <td>0.003287</td>\n",
       "      <td>0.016322</td>\n",
       "      <td>11.375297</td>\n",
       "      <td>11.377894</td>\n",
       "      <td>11.371334</td>\n",
       "      <td>0.0</td>\n",
       "      <td>0.0</td>\n",
       "      <td>0.0</td>\n",
       "    </tr>\n",
       "    <tr>\n",
       "      <th>3</th>\n",
       "      <td>-0.053133</td>\n",
       "      <td>0.003287</td>\n",
       "      <td>0.016322</td>\n",
       "      <td>5.090155</td>\n",
       "      <td>5.092194</td>\n",
       "      <td>5.083503</td>\n",
       "      <td>0.0</td>\n",
       "      <td>0.0</td>\n",
       "      <td>0.0</td>\n",
       "    </tr>\n",
       "    <tr>\n",
       "      <th>4</th>\n",
       "      <td>-0.053133</td>\n",
       "      <td>0.003301</td>\n",
       "      <td>0.016322</td>\n",
       "      <td>-2.230003</td>\n",
       "      <td>-2.230591</td>\n",
       "      <td>-2.235526</td>\n",
       "      <td>0.0</td>\n",
       "      <td>0.0</td>\n",
       "      <td>0.0</td>\n",
       "    </tr>\n",
       "  </tbody>\n",
       "</table>\n",
       "</div>"
      ],
      "text/plain": [
       "   XGB_DNI1  XGB_DNI2  XGB_DNI3  LinReg_DNI1  LinReg_DNI2  LinReg_DNI3  \\\n",
       "0  0.011150  0.011308  0.016322    24.775132    24.782453    24.772826   \n",
       "1  0.011150  0.012839  0.016322    15.580816    15.583942    15.573857   \n",
       "2 -0.053133  0.003287  0.016322    11.375297    11.377894    11.371334   \n",
       "3 -0.053133  0.003287  0.016322     5.090155     5.092194     5.083503   \n",
       "4 -0.053133  0.003301  0.016322    -2.230003    -2.230591    -2.235526   \n",
       "\n",
       "   RF_DNI1  RF_DNI2  RF_DNI3  \n",
       "0      0.0      0.0      0.0  \n",
       "1      0.0      0.0      0.0  \n",
       "2      0.0      0.0      0.0  \n",
       "3      0.0      0.0      0.0  \n",
       "4      0.0      0.0      0.0  "
      ]
     },
     "execution_count": 18,
     "metadata": {},
     "output_type": "execute_result"
    }
   ],
   "source": [
    "stack_test_DNI.head()"
   ]
  },
  {
   "cell_type": "markdown",
   "id": "04413873",
   "metadata": {
    "papermill": {
     "duration": 0.007059,
     "end_time": "2023-04-12T16:56:53.359393",
     "exception": false,
     "start_time": "2023-04-12T16:56:53.352334",
     "status": "completed"
    },
    "tags": []
   },
   "source": [
    "# Stacking"
   ]
  },
  {
   "cell_type": "code",
   "execution_count": 19,
   "id": "e4ddcbbe",
   "metadata": {
    "execution": {
     "iopub.execute_input": "2023-04-12T16:56:53.373894Z",
     "iopub.status.busy": "2023-04-12T16:56:53.373634Z",
     "iopub.status.idle": "2023-04-12T16:56:53.435014Z",
     "shell.execute_reply": "2023-04-12T16:56:53.433467Z"
    },
    "papermill": {
     "duration": 0.072954,
     "end_time": "2023-04-12T16:56:53.439126",
     "exception": false,
     "start_time": "2023-04-12T16:56:53.366172",
     "status": "completed"
    },
    "tags": []
   },
   "outputs": [],
   "source": [
    "metamodel = LinearRegression()\n",
    "metamodel.fit(stack_train_DHI,train_dhi)\n",
    "dhi_final_pred = metamodel.predict(stack_test_DHI)"
   ]
  },
  {
   "cell_type": "code",
   "execution_count": 20,
   "id": "7bb35fb7",
   "metadata": {
    "execution": {
     "iopub.execute_input": "2023-04-12T16:56:53.477145Z",
     "iopub.status.busy": "2023-04-12T16:56:53.476580Z",
     "iopub.status.idle": "2023-04-12T16:56:53.539063Z",
     "shell.execute_reply": "2023-04-12T16:56:53.537462Z"
    },
    "papermill": {
     "duration": 0.085726,
     "end_time": "2023-04-12T16:56:53.543059",
     "exception": false,
     "start_time": "2023-04-12T16:56:53.457333",
     "status": "completed"
    },
    "tags": []
   },
   "outputs": [],
   "source": [
    "metamodel = LinearRegression()\n",
    "metamodel.fit(stack_train_GHI,train_ghi)\n",
    "ghi_final_pred = metamodel.predict(stack_test_GHI)"
   ]
  },
  {
   "cell_type": "code",
   "execution_count": 21,
   "id": "86c2a550",
   "metadata": {
    "execution": {
     "iopub.execute_input": "2023-04-12T16:56:53.581008Z",
     "iopub.status.busy": "2023-04-12T16:56:53.580267Z",
     "iopub.status.idle": "2023-04-12T16:56:53.647843Z",
     "shell.execute_reply": "2023-04-12T16:56:53.646359Z"
    },
    "papermill": {
     "duration": 0.090423,
     "end_time": "2023-04-12T16:56:53.651751",
     "exception": false,
     "start_time": "2023-04-12T16:56:53.561328",
     "status": "completed"
    },
    "tags": []
   },
   "outputs": [],
   "source": [
    "metamodel = LinearRegression()\n",
    "metamodel.fit(stack_train_DNI,train_dni)\n",
    "dni_final_pred = metamodel.predict(stack_test_DNI)"
   ]
  },
  {
   "cell_type": "code",
   "execution_count": 22,
   "id": "3be5e422",
   "metadata": {
    "execution": {
     "iopub.execute_input": "2023-04-12T16:56:53.689562Z",
     "iopub.status.busy": "2023-04-12T16:56:53.689024Z",
     "iopub.status.idle": "2023-04-12T16:56:53.696548Z",
     "shell.execute_reply": "2023-04-12T16:56:53.695383Z"
    },
    "papermill": {
     "duration": 0.030141,
     "end_time": "2023-04-12T16:56:53.700160",
     "exception": false,
     "start_time": "2023-04-12T16:56:53.670019",
     "status": "completed"
    },
    "tags": []
   },
   "outputs": [],
   "source": [
    "submission = pd.DataFrame({'Clearsky DHI': dhi_final_pred, 'Clearsky DNI': dni_final_pred, 'Clearsky GHI': ghi_final_pred})"
   ]
  },
  {
   "cell_type": "code",
   "execution_count": 23,
   "id": "9df57a0d",
   "metadata": {
    "execution": {
     "iopub.execute_input": "2023-04-12T16:56:53.736604Z",
     "iopub.status.busy": "2023-04-12T16:56:53.736116Z",
     "iopub.status.idle": "2023-04-12T16:56:53.830904Z",
     "shell.execute_reply": "2023-04-12T16:56:53.829936Z"
    },
    "papermill": {
     "duration": 0.115688,
     "end_time": "2023-04-12T16:56:53.833259",
     "exception": false,
     "start_time": "2023-04-12T16:56:53.717571",
     "status": "completed"
    },
    "tags": []
   },
   "outputs": [],
   "source": [
    "submission.to_csv('Stacking submit.csv', index = False)"
   ]
  },
  {
   "cell_type": "code",
   "execution_count": 24,
   "id": "ca3a23ba",
   "metadata": {
    "execution": {
     "iopub.execute_input": "2023-04-12T16:56:53.848554Z",
     "iopub.status.busy": "2023-04-12T16:56:53.848258Z",
     "iopub.status.idle": "2023-04-12T16:56:53.862595Z",
     "shell.execute_reply": "2023-04-12T16:56:53.861604Z"
    },
    "papermill": {
     "duration": 0.024319,
     "end_time": "2023-04-12T16:56:53.864699",
     "exception": false,
     "start_time": "2023-04-12T16:56:53.840380",
     "status": "completed"
    },
    "tags": []
   },
   "outputs": [],
   "source": [
    "sub = pd.read_csv('Stacking submit.csv')"
   ]
  },
  {
   "cell_type": "code",
   "execution_count": 25,
   "id": "dab00e32",
   "metadata": {
    "execution": {
     "iopub.execute_input": "2023-04-12T16:56:53.879434Z",
     "iopub.status.busy": "2023-04-12T16:56:53.878906Z",
     "iopub.status.idle": "2023-04-12T16:56:53.889717Z",
     "shell.execute_reply": "2023-04-12T16:56:53.888679Z"
    },
    "papermill": {
     "duration": 0.020595,
     "end_time": "2023-04-12T16:56:53.891934",
     "exception": false,
     "start_time": "2023-04-12T16:56:53.871339",
     "status": "completed"
    },
    "tags": []
   },
   "outputs": [
    {
     "data": {
      "text/html": [
       "<div>\n",
       "<style scoped>\n",
       "    .dataframe tbody tr th:only-of-type {\n",
       "        vertical-align: middle;\n",
       "    }\n",
       "\n",
       "    .dataframe tbody tr th {\n",
       "        vertical-align: top;\n",
       "    }\n",
       "\n",
       "    .dataframe thead th {\n",
       "        text-align: right;\n",
       "    }\n",
       "</style>\n",
       "<table border=\"1\" class=\"dataframe\">\n",
       "  <thead>\n",
       "    <tr style=\"text-align: right;\">\n",
       "      <th></th>\n",
       "      <th>Clearsky DHI</th>\n",
       "      <th>Clearsky DNI</th>\n",
       "      <th>Clearsky GHI</th>\n",
       "    </tr>\n",
       "  </thead>\n",
       "  <tbody>\n",
       "    <tr>\n",
       "      <th>0</th>\n",
       "      <td>0.818458</td>\n",
       "      <td>104.429824</td>\n",
       "      <td>20.616908</td>\n",
       "    </tr>\n",
       "    <tr>\n",
       "      <th>1</th>\n",
       "      <td>0.697591</td>\n",
       "      <td>73.632291</td>\n",
       "      <td>5.626701</td>\n",
       "    </tr>\n",
       "    <tr>\n",
       "      <th>2</th>\n",
       "      <td>0.659407</td>\n",
       "      <td>59.657841</td>\n",
       "      <td>-2.941436</td>\n",
       "    </tr>\n",
       "    <tr>\n",
       "      <th>3</th>\n",
       "      <td>0.655558</td>\n",
       "      <td>39.698393</td>\n",
       "      <td>-12.488219</td>\n",
       "    </tr>\n",
       "    <tr>\n",
       "      <th>4</th>\n",
       "      <td>0.612758</td>\n",
       "      <td>15.229577</td>\n",
       "      <td>-24.625288</td>\n",
       "    </tr>\n",
       "  </tbody>\n",
       "</table>\n",
       "</div>"
      ],
      "text/plain": [
       "   Clearsky DHI  Clearsky DNI  Clearsky GHI\n",
       "0      0.818458    104.429824     20.616908\n",
       "1      0.697591     73.632291      5.626701\n",
       "2      0.659407     59.657841     -2.941436\n",
       "3      0.655558     39.698393    -12.488219\n",
       "4      0.612758     15.229577    -24.625288"
      ]
     },
     "execution_count": 25,
     "metadata": {},
     "output_type": "execute_result"
    }
   ],
   "source": [
    "sub.head()"
   ]
  },
  {
   "cell_type": "code",
   "execution_count": null,
   "id": "f00c7b58",
   "metadata": {
    "papermill": {
     "duration": 0.006852,
     "end_time": "2023-04-12T16:56:53.906137",
     "exception": false,
     "start_time": "2023-04-12T16:56:53.899285",
     "status": "completed"
    },
    "tags": []
   },
   "outputs": [],
   "source": []
  },
  {
   "cell_type": "code",
   "execution_count": null,
   "id": "222bee6b",
   "metadata": {
    "papermill": {
     "duration": 0.006761,
     "end_time": "2023-04-12T16:56:53.919700",
     "exception": false,
     "start_time": "2023-04-12T16:56:53.912939",
     "status": "completed"
    },
    "tags": []
   },
   "outputs": [],
   "source": []
  }
 ],
 "metadata": {
  "kernelspec": {
   "display_name": "Python 3",
   "language": "python",
   "name": "python3"
  },
  "language_info": {
   "codemirror_mode": {
    "name": "ipython",
    "version": 3
   },
   "file_extension": ".py",
   "mimetype": "text/x-python",
   "name": "python",
   "nbconvert_exporter": "python",
   "pygments_lexer": "ipython3",
   "version": "3.7.12"
  },
  "papermill": {
   "default_parameters": {},
   "duration": 47.701674,
   "end_time": "2023-04-12T16:56:56.104446",
   "environment_variables": {},
   "exception": null,
   "input_path": "__notebook__.ipynb",
   "output_path": "__notebook__.ipynb",
   "parameters": {},
   "start_time": "2023-04-12T16:56:08.402772",
   "version": "2.4.0"
  }
 },
 "nbformat": 4,
 "nbformat_minor": 5
}
