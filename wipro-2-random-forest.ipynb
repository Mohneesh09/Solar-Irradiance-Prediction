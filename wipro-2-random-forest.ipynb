{
 "cells": [
  {
   "cell_type": "code",
   "execution_count": 1,
   "id": "23efb974",
   "metadata": {
    "_cell_guid": "b1076dfc-b9ad-4769-8c92-a6c4dae69d19",
    "_uuid": "8f2839f25d086af736a60e9eeb907d3b93b6e0e5",
    "execution": {
     "iopub.execute_input": "2023-04-12T15:46:11.780599Z",
     "iopub.status.busy": "2023-04-12T15:46:11.780128Z",
     "iopub.status.idle": "2023-04-12T15:46:15.631743Z",
     "shell.execute_reply": "2023-04-12T15:46:15.630684Z"
    },
    "papermill": {
     "duration": 3.861472,
     "end_time": "2023-04-12T15:46:15.634677",
     "exception": false,
     "start_time": "2023-04-12T15:46:11.773205",
     "status": "completed"
    },
    "tags": []
   },
   "outputs": [
    {
     "data": {
      "text/html": [
       "<style type='text/css'>\n",
       ".datatable table.frame { margin-bottom: 0; }\n",
       ".datatable table.frame thead { border-bottom: none; }\n",
       ".datatable table.frame tr.coltypes td {  color: #FFFFFF;  line-height: 6px;  padding: 0 0.5em;}\n",
       ".datatable .bool    { background: #DDDD99; }\n",
       ".datatable .object  { background: #565656; }\n",
       ".datatable .int     { background: #5D9E5D; }\n",
       ".datatable .float   { background: #4040CC; }\n",
       ".datatable .str     { background: #CC4040; }\n",
       ".datatable .time    { background: #40CC40; }\n",
       ".datatable .row_index {  background: var(--jp-border-color3);  border-right: 1px solid var(--jp-border-color0);  color: var(--jp-ui-font-color3);  font-size: 9px;}\n",
       ".datatable .frame tbody td { text-align: left; }\n",
       ".datatable .frame tr.coltypes .row_index {  background: var(--jp-border-color0);}\n",
       ".datatable th:nth-child(2) { padding-left: 12px; }\n",
       ".datatable .hellipsis {  color: var(--jp-cell-editor-border-color);}\n",
       ".datatable .vellipsis {  background: var(--jp-layout-color0);  color: var(--jp-cell-editor-border-color);}\n",
       ".datatable .na {  color: var(--jp-cell-editor-border-color);  font-size: 80%;}\n",
       ".datatable .sp {  opacity: 0.25;}\n",
       ".datatable .footer { font-size: 9px; }\n",
       ".datatable .frame_dimensions {  background: var(--jp-border-color3);  border-top: 1px solid var(--jp-border-color0);  color: var(--jp-ui-font-color3);  display: inline-block;  opacity: 0.6;  padding: 1px 10px 1px 5px;}\n",
       "</style>\n"
      ],
      "text/plain": [
       "<IPython.core.display.HTML object>"
      ]
     },
     "metadata": {},
     "output_type": "display_data"
    }
   ],
   "source": [
    "import numpy as np\n",
    "import pandas as pd\n",
    "from sklearn.model_selection import train_test_split, cross_validate, KFold\n",
    "from sklearn.ensemble import RandomForestRegressor\n",
    "from sklearn.preprocessing import StandardScaler\n",
    "from sklearn.metrics import mean_squared_error, SCORERS\n",
    "from xgboost import XGBRegressor,XGBClassifier\n",
    "import optuna\n",
    "import matplotlib.pyplot as plt\n",
    "import seaborn as sns\n",
    "import lightgbm as lgb\n",
    "from catboost import CatBoostRegressor\n",
    "import pickle\n",
    "import warnings\n",
    "warnings.filterwarnings('ignore')\n",
    "%matplotlib inline"
   ]
  },
  {
   "cell_type": "code",
   "execution_count": 2,
   "id": "de3fbba5",
   "metadata": {
    "execution": {
     "iopub.execute_input": "2023-04-12T15:46:15.645220Z",
     "iopub.status.busy": "2023-04-12T15:46:15.644910Z",
     "iopub.status.idle": "2023-04-12T15:46:16.123308Z",
     "shell.execute_reply": "2023-04-12T15:46:16.122145Z"
    },
    "papermill": {
     "duration": 0.48647,
     "end_time": "2023-04-12T15:46:16.125900",
     "exception": false,
     "start_time": "2023-04-12T15:46:15.639430",
     "status": "completed"
    },
    "tags": []
   },
   "outputs": [],
   "source": [
    "#data prep\n",
    "trainset = pd.read_csv(\"/kaggle/input/mh-wipro-sustainable-ml-challenge/train.csv\")\n",
    "testset = pd.read_csv(\"/kaggle/input/mh-wipro-sustainable-ml-challenge/test.csv\")\n",
    "\n",
    "test = testset.drop(['Clearsky DHI', 'Clearsky DNI', 'Clearsky GHI'],axis = 1)\n",
    "\n",
    "Y_cols = trainset.loc[:, ['Clearsky DHI', 'Clearsky DNI', 'Clearsky GHI']]\n",
    "trainset = trainset.drop(['Clearsky DHI', 'Clearsky DNI', 'Clearsky GHI'], axis = 1)\n",
    "\n",
    "train_dhi = Y_cols['Clearsky DHI']\n",
    "train_dni = Y_cols['Clearsky DNI']\n",
    "train_ghi = Y_cols['Clearsky GHI']"
   ]
  },
  {
   "cell_type": "code",
   "execution_count": 3,
   "id": "3c687119",
   "metadata": {
    "execution": {
     "iopub.execute_input": "2023-04-12T15:46:16.136082Z",
     "iopub.status.busy": "2023-04-12T15:46:16.135775Z",
     "iopub.status.idle": "2023-04-12T15:46:16.143500Z",
     "shell.execute_reply": "2023-04-12T15:46:16.142492Z"
    },
    "papermill": {
     "duration": 0.015179,
     "end_time": "2023-04-12T15:46:16.145650",
     "exception": false,
     "start_time": "2023-04-12T15:46:16.130471",
     "status": "completed"
    },
    "tags": []
   },
   "outputs": [
    {
     "data": {
      "text/plain": [
       "Year                    int64\n",
       "Month                   int64\n",
       "Day                     int64\n",
       "Hour                    int64\n",
       "Minute                  int64\n",
       "Cloud Type              int64\n",
       "Dew Point             float64\n",
       "Temperature           float64\n",
       "Pressure                int64\n",
       "Relative Humidity     float64\n",
       "Solar Zenith Angle    float64\n",
       "Precipitable Water    float64\n",
       "Wind Direction        float64\n",
       "Wind Speed            float64\n",
       "Fill Flag               int64\n",
       "dtype: object"
      ]
     },
     "execution_count": 3,
     "metadata": {},
     "output_type": "execute_result"
    }
   ],
   "source": [
    "trainset.dtypes"
   ]
  },
  {
   "cell_type": "code",
   "execution_count": 4,
   "id": "c0449b40",
   "metadata": {
    "execution": {
     "iopub.execute_input": "2023-04-12T15:46:16.155464Z",
     "iopub.status.busy": "2023-04-12T15:46:16.155193Z",
     "iopub.status.idle": "2023-04-12T15:46:16.160779Z",
     "shell.execute_reply": "2023-04-12T15:46:16.159837Z"
    },
    "papermill": {
     "duration": 0.012852,
     "end_time": "2023-04-12T15:46:16.162818",
     "exception": false,
     "start_time": "2023-04-12T15:46:16.149966",
     "status": "completed"
    },
    "tags": []
   },
   "outputs": [
    {
     "data": {
      "text/plain": [
       "dtype('int64')"
      ]
     },
     "execution_count": 4,
     "metadata": {},
     "output_type": "execute_result"
    }
   ],
   "source": [
    "train_dhi.dtypes"
   ]
  },
  {
   "cell_type": "code",
   "execution_count": 5,
   "id": "f73a3cd8",
   "metadata": {
    "execution": {
     "iopub.execute_input": "2023-04-12T15:46:16.173719Z",
     "iopub.status.busy": "2023-04-12T15:46:16.172294Z",
     "iopub.status.idle": "2023-04-12T15:46:16.181615Z",
     "shell.execute_reply": "2023-04-12T15:46:16.180751Z"
    },
    "papermill": {
     "duration": 0.016513,
     "end_time": "2023-04-12T15:46:16.183645",
     "exception": false,
     "start_time": "2023-04-12T15:46:16.167132",
     "status": "completed"
    },
    "tags": []
   },
   "outputs": [],
   "source": [
    "class Train:\n",
    "    def __init__(self, data, target, save_name):\n",
    "        super().__init__()\n",
    "        self.data = data\n",
    "        self.target = target\n",
    "        self.save_name = save_name\n",
    "\n",
    "    def train_loop(self):\n",
    "        kf = KFold(shuffle = True, random_state = 42)\n",
    "        best_loss = 1e18\n",
    "        oof_preds = pd.DataFrame(columns = ['tar'], index = trainset.index)\n",
    "\n",
    "        model = RandomForestRegressor(n_estimators = 100, random_state = 0)\n",
    "        print(\"Training starts...\")\n",
    "        for fold, (train_idx, test_idx) in enumerate(kf.split(self.data, self.target)):\n",
    "            xt = trainset.iloc[train_idx, :]\n",
    "            yt = train_dhi.iloc[train_idx]\n",
    "            xv = trainset.iloc[test_idx, :]\n",
    "            yv = train_dhi.iloc[test_idx]\n",
    "            model.fit(xt, yt)\n",
    "            pred = model.predict(xv)\n",
    "            loss = mean_squared_error(yv, pred)\n",
    "\n",
    "            oof_preds.loc[test_idx,'tar'] = pred #properly keeping oof preditcions according to test idx\n",
    "            \n",
    "            filename = self.save_name+\".json\"\n",
    "            if(loss<best_loss):\n",
    "#                 model.save_model(self.save_name+\".json\")\n",
    "                pickle.dump(model, open(filename, \"wb\"))\n",
    "                best_loss = loss\n",
    "            print(\"fold_\",fold,\" done !\")\n",
    "        \n",
    "        return oof_preds"
   ]
  },
  {
   "cell_type": "code",
   "execution_count": 6,
   "id": "e7099349",
   "metadata": {
    "execution": {
     "iopub.execute_input": "2023-04-12T15:46:16.193638Z",
     "iopub.status.busy": "2023-04-12T15:46:16.193383Z",
     "iopub.status.idle": "2023-04-12T15:51:46.003058Z",
     "shell.execute_reply": "2023-04-12T15:51:46.001473Z"
    },
    "papermill": {
     "duration": 329.818598,
     "end_time": "2023-04-12T15:51:46.006664",
     "exception": false,
     "start_time": "2023-04-12T15:46:16.188066",
     "status": "completed"
    },
    "tags": []
   },
   "outputs": [
    {
     "name": "stdout",
     "output_type": "stream",
     "text": [
      "Training starts...\n",
      "fold_ 0  done !\n",
      "fold_ 1  done !\n",
      "fold_ 2  done !\n",
      "fold_ 3  done !\n",
      "fold_ 4  done !\n"
     ]
    }
   ],
   "source": [
    "train = Train(trainset, train_dhi, 'model_DHI_1')\n",
    "pred_df = train.train_loop()\n",
    "\n",
    "trainset['Clearsky DHI']  = pred_df['tar']\n",
    "convert_dict = {\"Clearsky DHI\":float}\n",
    "trainset = trainset.astype(convert_dict)\n",
    "\n",
    "pred_df.to_csv(\"oof_pred_DHI_1.csv\",index=False)"
   ]
  },
  {
   "cell_type": "code",
   "execution_count": 7,
   "id": "8bb4b6bb",
   "metadata": {
    "execution": {
     "iopub.execute_input": "2023-04-12T15:51:46.026785Z",
     "iopub.status.busy": "2023-04-12T15:51:46.026216Z",
     "iopub.status.idle": "2023-04-12T15:51:46.062303Z",
     "shell.execute_reply": "2023-04-12T15:51:46.061226Z"
    },
    "papermill": {
     "duration": 0.049232,
     "end_time": "2023-04-12T15:51:46.065557",
     "exception": false,
     "start_time": "2023-04-12T15:51:46.016325",
     "status": "completed"
    },
    "tags": []
   },
   "outputs": [
    {
     "data": {
      "text/html": [
       "<div>\n",
       "<style scoped>\n",
       "    .dataframe tbody tr th:only-of-type {\n",
       "        vertical-align: middle;\n",
       "    }\n",
       "\n",
       "    .dataframe tbody tr th {\n",
       "        vertical-align: top;\n",
       "    }\n",
       "\n",
       "    .dataframe thead th {\n",
       "        text-align: right;\n",
       "    }\n",
       "</style>\n",
       "<table border=\"1\" class=\"dataframe\">\n",
       "  <thead>\n",
       "    <tr style=\"text-align: right;\">\n",
       "      <th></th>\n",
       "      <th>Year</th>\n",
       "      <th>Month</th>\n",
       "      <th>Day</th>\n",
       "      <th>Hour</th>\n",
       "      <th>Minute</th>\n",
       "      <th>Cloud Type</th>\n",
       "      <th>Dew Point</th>\n",
       "      <th>Temperature</th>\n",
       "      <th>Pressure</th>\n",
       "      <th>Relative Humidity</th>\n",
       "      <th>Solar Zenith Angle</th>\n",
       "      <th>Precipitable Water</th>\n",
       "      <th>Wind Direction</th>\n",
       "      <th>Wind Speed</th>\n",
       "      <th>Fill Flag</th>\n",
       "      <th>Clearsky DHI</th>\n",
       "    </tr>\n",
       "  </thead>\n",
       "  <tbody>\n",
       "    <tr>\n",
       "      <th>0</th>\n",
       "      <td>2009</td>\n",
       "      <td>1</td>\n",
       "      <td>1</td>\n",
       "      <td>0</td>\n",
       "      <td>0</td>\n",
       "      <td>0</td>\n",
       "      <td>0.0</td>\n",
       "      <td>5.0</td>\n",
       "      <td>1010</td>\n",
       "      <td>75.34</td>\n",
       "      <td>106.15</td>\n",
       "      <td>0.499</td>\n",
       "      <td>346.1</td>\n",
       "      <td>3.1</td>\n",
       "      <td>0</td>\n",
       "      <td>0.0</td>\n",
       "    </tr>\n",
       "    <tr>\n",
       "      <th>1</th>\n",
       "      <td>2009</td>\n",
       "      <td>1</td>\n",
       "      <td>1</td>\n",
       "      <td>0</td>\n",
       "      <td>30</td>\n",
       "      <td>0</td>\n",
       "      <td>1.0</td>\n",
       "      <td>5.0</td>\n",
       "      <td>1010</td>\n",
       "      <td>80.81</td>\n",
       "      <td>112.28</td>\n",
       "      <td>0.490</td>\n",
       "      <td>346.1</td>\n",
       "      <td>3.1</td>\n",
       "      <td>0</td>\n",
       "      <td>0.0</td>\n",
       "    </tr>\n",
       "    <tr>\n",
       "      <th>2</th>\n",
       "      <td>2009</td>\n",
       "      <td>1</td>\n",
       "      <td>1</td>\n",
       "      <td>1</td>\n",
       "      <td>0</td>\n",
       "      <td>4</td>\n",
       "      <td>0.0</td>\n",
       "      <td>5.0</td>\n",
       "      <td>1010</td>\n",
       "      <td>78.27</td>\n",
       "      <td>118.50</td>\n",
       "      <td>0.482</td>\n",
       "      <td>347.9</td>\n",
       "      <td>3.2</td>\n",
       "      <td>0</td>\n",
       "      <td>0.0</td>\n",
       "    </tr>\n",
       "    <tr>\n",
       "      <th>3</th>\n",
       "      <td>2009</td>\n",
       "      <td>1</td>\n",
       "      <td>1</td>\n",
       "      <td>1</td>\n",
       "      <td>30</td>\n",
       "      <td>4</td>\n",
       "      <td>0.0</td>\n",
       "      <td>4.0</td>\n",
       "      <td>1010</td>\n",
       "      <td>78.27</td>\n",
       "      <td>124.78</td>\n",
       "      <td>0.478</td>\n",
       "      <td>347.9</td>\n",
       "      <td>3.1</td>\n",
       "      <td>0</td>\n",
       "      <td>0.0</td>\n",
       "    </tr>\n",
       "    <tr>\n",
       "      <th>4</th>\n",
       "      <td>2009</td>\n",
       "      <td>1</td>\n",
       "      <td>1</td>\n",
       "      <td>2</td>\n",
       "      <td>0</td>\n",
       "      <td>4</td>\n",
       "      <td>0.0</td>\n",
       "      <td>4.0</td>\n",
       "      <td>1010</td>\n",
       "      <td>76.45</td>\n",
       "      <td>131.12</td>\n",
       "      <td>0.475</td>\n",
       "      <td>350.0</td>\n",
       "      <td>3.0</td>\n",
       "      <td>0</td>\n",
       "      <td>0.0</td>\n",
       "    </tr>\n",
       "  </tbody>\n",
       "</table>\n",
       "</div>"
      ],
      "text/plain": [
       "   Year  Month  Day  Hour  Minute  Cloud Type  Dew Point  Temperature  \\\n",
       "0  2009      1    1     0       0           0        0.0          5.0   \n",
       "1  2009      1    1     0      30           0        1.0          5.0   \n",
       "2  2009      1    1     1       0           4        0.0          5.0   \n",
       "3  2009      1    1     1      30           4        0.0          4.0   \n",
       "4  2009      1    1     2       0           4        0.0          4.0   \n",
       "\n",
       "   Pressure  Relative Humidity  Solar Zenith Angle  Precipitable Water  \\\n",
       "0      1010              75.34              106.15               0.499   \n",
       "1      1010              80.81              112.28               0.490   \n",
       "2      1010              78.27              118.50               0.482   \n",
       "3      1010              78.27              124.78               0.478   \n",
       "4      1010              76.45              131.12               0.475   \n",
       "\n",
       "   Wind Direction  Wind Speed  Fill Flag  Clearsky DHI  \n",
       "0           346.1         3.1          0           0.0  \n",
       "1           346.1         3.1          0           0.0  \n",
       "2           347.9         3.2          0           0.0  \n",
       "3           347.9         3.1          0           0.0  \n",
       "4           350.0         3.0          0           0.0  "
      ]
     },
     "execution_count": 7,
     "metadata": {},
     "output_type": "execute_result"
    }
   ],
   "source": [
    "trainset.head()"
   ]
  },
  {
   "cell_type": "code",
   "execution_count": 8,
   "id": "60a98e0c",
   "metadata": {
    "execution": {
     "iopub.execute_input": "2023-04-12T15:51:46.083743Z",
     "iopub.status.busy": "2023-04-12T15:51:46.083373Z",
     "iopub.status.idle": "2023-04-12T15:51:46.113985Z",
     "shell.execute_reply": "2023-04-12T15:51:46.112972Z"
    },
    "papermill": {
     "duration": 0.041837,
     "end_time": "2023-04-12T15:51:46.116660",
     "exception": false,
     "start_time": "2023-04-12T15:51:46.074823",
     "status": "completed"
    },
    "tags": []
   },
   "outputs": [
    {
     "name": "stdout",
     "output_type": "stream",
     "text": [
      "<class 'pandas.core.frame.DataFrame'>\n",
      "RangeIndex: 175296 entries, 0 to 175295\n",
      "Data columns (total 16 columns):\n",
      " #   Column              Non-Null Count   Dtype  \n",
      "---  ------              --------------   -----  \n",
      " 0   Year                175296 non-null  int64  \n",
      " 1   Month               175296 non-null  int64  \n",
      " 2   Day                 175296 non-null  int64  \n",
      " 3   Hour                175296 non-null  int64  \n",
      " 4   Minute              175296 non-null  int64  \n",
      " 5   Cloud Type          175296 non-null  int64  \n",
      " 6   Dew Point           175296 non-null  float64\n",
      " 7   Temperature         175296 non-null  float64\n",
      " 8   Pressure            175296 non-null  int64  \n",
      " 9   Relative Humidity   175296 non-null  float64\n",
      " 10  Solar Zenith Angle  175296 non-null  float64\n",
      " 11  Precipitable Water  175296 non-null  float64\n",
      " 12  Wind Direction      175296 non-null  float64\n",
      " 13  Wind Speed          175296 non-null  float64\n",
      " 14  Fill Flag           175296 non-null  int64  \n",
      " 15  Clearsky DHI        175296 non-null  float64\n",
      "dtypes: float64(8), int64(8)\n",
      "memory usage: 21.4 MB\n"
     ]
    }
   ],
   "source": [
    "trainset.info()"
   ]
  },
  {
   "cell_type": "code",
   "execution_count": 9,
   "id": "d03efe51",
   "metadata": {
    "execution": {
     "iopub.execute_input": "2023-04-12T15:51:46.133679Z",
     "iopub.status.busy": "2023-04-12T15:51:46.133341Z",
     "iopub.status.idle": "2023-04-12T15:58:14.061413Z",
     "shell.execute_reply": "2023-04-12T15:58:14.057059Z"
    },
    "papermill": {
     "duration": 387.941356,
     "end_time": "2023-04-12T15:58:14.066224",
     "exception": false,
     "start_time": "2023-04-12T15:51:46.124868",
     "status": "completed"
    },
    "tags": []
   },
   "outputs": [
    {
     "name": "stdout",
     "output_type": "stream",
     "text": [
      "Training starts...\n",
      "fold_ 0  done !\n",
      "fold_ 1  done !\n",
      "fold_ 2  done !\n",
      "fold_ 3  done !\n",
      "fold_ 4  done !\n"
     ]
    }
   ],
   "source": [
    "### trainset -> R+DHI\n",
    "train = Train(trainset, train_ghi, 'model_GHI_1')\n",
    "pred_df = train.train_loop()\n",
    "\n",
    "trainset['Clearsky GHI']  = pred_df['tar']\n",
    "convert_dict = {\"Clearsky GHI\":float}\n",
    "trainset = trainset.astype(convert_dict)\n",
    "\n",
    "pred_df.to_csv(\"oof_pred_GHI_1.csv\",index=False)"
   ]
  },
  {
   "cell_type": "code",
   "execution_count": 10,
   "id": "54a24574",
   "metadata": {
    "execution": {
     "iopub.execute_input": "2023-04-12T15:58:14.078567Z",
     "iopub.status.busy": "2023-04-12T15:58:14.078219Z",
     "iopub.status.idle": "2023-04-12T15:58:14.100413Z",
     "shell.execute_reply": "2023-04-12T15:58:14.099387Z"
    },
    "papermill": {
     "duration": 0.031146,
     "end_time": "2023-04-12T15:58:14.102913",
     "exception": false,
     "start_time": "2023-04-12T15:58:14.071767",
     "status": "completed"
    },
    "tags": []
   },
   "outputs": [
    {
     "data": {
      "text/html": [
       "<div>\n",
       "<style scoped>\n",
       "    .dataframe tbody tr th:only-of-type {\n",
       "        vertical-align: middle;\n",
       "    }\n",
       "\n",
       "    .dataframe tbody tr th {\n",
       "        vertical-align: top;\n",
       "    }\n",
       "\n",
       "    .dataframe thead th {\n",
       "        text-align: right;\n",
       "    }\n",
       "</style>\n",
       "<table border=\"1\" class=\"dataframe\">\n",
       "  <thead>\n",
       "    <tr style=\"text-align: right;\">\n",
       "      <th></th>\n",
       "      <th>Year</th>\n",
       "      <th>Month</th>\n",
       "      <th>Day</th>\n",
       "      <th>Hour</th>\n",
       "      <th>Minute</th>\n",
       "      <th>Cloud Type</th>\n",
       "      <th>Dew Point</th>\n",
       "      <th>Temperature</th>\n",
       "      <th>Pressure</th>\n",
       "      <th>Relative Humidity</th>\n",
       "      <th>Solar Zenith Angle</th>\n",
       "      <th>Precipitable Water</th>\n",
       "      <th>Wind Direction</th>\n",
       "      <th>Wind Speed</th>\n",
       "      <th>Fill Flag</th>\n",
       "      <th>Clearsky DHI</th>\n",
       "      <th>Clearsky GHI</th>\n",
       "    </tr>\n",
       "  </thead>\n",
       "  <tbody>\n",
       "    <tr>\n",
       "      <th>0</th>\n",
       "      <td>2009</td>\n",
       "      <td>1</td>\n",
       "      <td>1</td>\n",
       "      <td>0</td>\n",
       "      <td>0</td>\n",
       "      <td>0</td>\n",
       "      <td>0.0</td>\n",
       "      <td>5.0</td>\n",
       "      <td>1010</td>\n",
       "      <td>75.34</td>\n",
       "      <td>106.15</td>\n",
       "      <td>0.499</td>\n",
       "      <td>346.1</td>\n",
       "      <td>3.1</td>\n",
       "      <td>0</td>\n",
       "      <td>0.0</td>\n",
       "      <td>0.0</td>\n",
       "    </tr>\n",
       "    <tr>\n",
       "      <th>1</th>\n",
       "      <td>2009</td>\n",
       "      <td>1</td>\n",
       "      <td>1</td>\n",
       "      <td>0</td>\n",
       "      <td>30</td>\n",
       "      <td>0</td>\n",
       "      <td>1.0</td>\n",
       "      <td>5.0</td>\n",
       "      <td>1010</td>\n",
       "      <td>80.81</td>\n",
       "      <td>112.28</td>\n",
       "      <td>0.490</td>\n",
       "      <td>346.1</td>\n",
       "      <td>3.1</td>\n",
       "      <td>0</td>\n",
       "      <td>0.0</td>\n",
       "      <td>0.0</td>\n",
       "    </tr>\n",
       "    <tr>\n",
       "      <th>2</th>\n",
       "      <td>2009</td>\n",
       "      <td>1</td>\n",
       "      <td>1</td>\n",
       "      <td>1</td>\n",
       "      <td>0</td>\n",
       "      <td>4</td>\n",
       "      <td>0.0</td>\n",
       "      <td>5.0</td>\n",
       "      <td>1010</td>\n",
       "      <td>78.27</td>\n",
       "      <td>118.50</td>\n",
       "      <td>0.482</td>\n",
       "      <td>347.9</td>\n",
       "      <td>3.2</td>\n",
       "      <td>0</td>\n",
       "      <td>0.0</td>\n",
       "      <td>0.0</td>\n",
       "    </tr>\n",
       "    <tr>\n",
       "      <th>3</th>\n",
       "      <td>2009</td>\n",
       "      <td>1</td>\n",
       "      <td>1</td>\n",
       "      <td>1</td>\n",
       "      <td>30</td>\n",
       "      <td>4</td>\n",
       "      <td>0.0</td>\n",
       "      <td>4.0</td>\n",
       "      <td>1010</td>\n",
       "      <td>78.27</td>\n",
       "      <td>124.78</td>\n",
       "      <td>0.478</td>\n",
       "      <td>347.9</td>\n",
       "      <td>3.1</td>\n",
       "      <td>0</td>\n",
       "      <td>0.0</td>\n",
       "      <td>0.0</td>\n",
       "    </tr>\n",
       "    <tr>\n",
       "      <th>4</th>\n",
       "      <td>2009</td>\n",
       "      <td>1</td>\n",
       "      <td>1</td>\n",
       "      <td>2</td>\n",
       "      <td>0</td>\n",
       "      <td>4</td>\n",
       "      <td>0.0</td>\n",
       "      <td>4.0</td>\n",
       "      <td>1010</td>\n",
       "      <td>76.45</td>\n",
       "      <td>131.12</td>\n",
       "      <td>0.475</td>\n",
       "      <td>350.0</td>\n",
       "      <td>3.0</td>\n",
       "      <td>0</td>\n",
       "      <td>0.0</td>\n",
       "      <td>0.0</td>\n",
       "    </tr>\n",
       "  </tbody>\n",
       "</table>\n",
       "</div>"
      ],
      "text/plain": [
       "   Year  Month  Day  Hour  Minute  Cloud Type  Dew Point  Temperature  \\\n",
       "0  2009      1    1     0       0           0        0.0          5.0   \n",
       "1  2009      1    1     0      30           0        1.0          5.0   \n",
       "2  2009      1    1     1       0           4        0.0          5.0   \n",
       "3  2009      1    1     1      30           4        0.0          4.0   \n",
       "4  2009      1    1     2       0           4        0.0          4.0   \n",
       "\n",
       "   Pressure  Relative Humidity  Solar Zenith Angle  Precipitable Water  \\\n",
       "0      1010              75.34              106.15               0.499   \n",
       "1      1010              80.81              112.28               0.490   \n",
       "2      1010              78.27              118.50               0.482   \n",
       "3      1010              78.27              124.78               0.478   \n",
       "4      1010              76.45              131.12               0.475   \n",
       "\n",
       "   Wind Direction  Wind Speed  Fill Flag  Clearsky DHI  Clearsky GHI  \n",
       "0           346.1         3.1          0           0.0           0.0  \n",
       "1           346.1         3.1          0           0.0           0.0  \n",
       "2           347.9         3.2          0           0.0           0.0  \n",
       "3           347.9         3.1          0           0.0           0.0  \n",
       "4           350.0         3.0          0           0.0           0.0  "
      ]
     },
     "execution_count": 10,
     "metadata": {},
     "output_type": "execute_result"
    }
   ],
   "source": [
    "trainset.head()"
   ]
  },
  {
   "cell_type": "code",
   "execution_count": 11,
   "id": "5d5d1c2b",
   "metadata": {
    "execution": {
     "iopub.execute_input": "2023-04-12T15:58:14.116365Z",
     "iopub.status.busy": "2023-04-12T15:58:14.115667Z",
     "iopub.status.idle": "2023-04-12T16:05:32.988997Z",
     "shell.execute_reply": "2023-04-12T16:05:32.987903Z"
    },
    "papermill": {
     "duration": 438.88878,
     "end_time": "2023-04-12T16:05:32.997541",
     "exception": false,
     "start_time": "2023-04-12T15:58:14.108761",
     "status": "completed"
    },
    "tags": []
   },
   "outputs": [
    {
     "name": "stdout",
     "output_type": "stream",
     "text": [
      "Training starts...\n",
      "fold_ 0  done !\n",
      "fold_ 1  done !\n",
      "fold_ 2  done !\n",
      "fold_ 3  done !\n",
      "fold_ 4  done !\n"
     ]
    }
   ],
   "source": [
    "### trainset -> R+DHI+GHI\n",
    "train = Train(trainset, train_dni, 'model_DNI_1')\n",
    "pred_df = train.train_loop()\n",
    "\n",
    "trainset['Clearsky DNI']  = pred_df['tar']\n",
    "convert_dict = {\"Clearsky DNI\":float}\n",
    "trainset = trainset.astype(convert_dict)\n",
    "\n",
    "pred_df.to_csv(\"oof_pred_DNI_1.csv\",index=False)"
   ]
  },
  {
   "cell_type": "code",
   "execution_count": 12,
   "id": "538e9733",
   "metadata": {
    "execution": {
     "iopub.execute_input": "2023-04-12T16:05:33.011223Z",
     "iopub.status.busy": "2023-04-12T16:05:33.010899Z",
     "iopub.status.idle": "2023-04-12T16:13:05.125115Z",
     "shell.execute_reply": "2023-04-12T16:13:05.123956Z"
    },
    "papermill": {
     "duration": 452.129415,
     "end_time": "2023-04-12T16:13:05.133267",
     "exception": false,
     "start_time": "2023-04-12T16:05:33.003852",
     "status": "completed"
    },
    "tags": []
   },
   "outputs": [
    {
     "name": "stdout",
     "output_type": "stream",
     "text": [
      "Training starts...\n",
      "fold_ 0  done !\n",
      "fold_ 1  done !\n",
      "fold_ 2  done !\n",
      "fold_ 3  done !\n",
      "fold_ 4  done !\n"
     ]
    }
   ],
   "source": [
    "trainset = trainset.drop(['Clearsky DHI'], axis = 1)\n",
    "### trainset -> R+GHI+DNI\n",
    "train = Train(trainset, train_dhi, 'model_DHI_2')\n",
    "pred_df = train.train_loop()\n",
    "\n",
    "trainset['Clearsky DHI']  = pred_df['tar']\n",
    "convert_dict = {\"Clearsky DHI\":float}\n",
    "trainset = trainset.astype(convert_dict)\n",
    "\n",
    "pred_df.to_csv(\"oof_pred_DHI_2.csv\",index=False)"
   ]
  },
  {
   "cell_type": "code",
   "execution_count": 13,
   "id": "04f765bc",
   "metadata": {
    "execution": {
     "iopub.execute_input": "2023-04-12T16:13:05.147228Z",
     "iopub.status.busy": "2023-04-12T16:13:05.146919Z",
     "iopub.status.idle": "2023-04-12T16:20:40.283877Z",
     "shell.execute_reply": "2023-04-12T16:20:40.282747Z"
    },
    "papermill": {
     "duration": 455.153139,
     "end_time": "2023-04-12T16:20:40.292637",
     "exception": false,
     "start_time": "2023-04-12T16:13:05.139498",
     "status": "completed"
    },
    "tags": []
   },
   "outputs": [
    {
     "name": "stdout",
     "output_type": "stream",
     "text": [
      "Training starts...\n",
      "fold_ 0  done !\n",
      "fold_ 1  done !\n",
      "fold_ 2  done !\n",
      "fold_ 3  done !\n",
      "fold_ 4  done !\n"
     ]
    }
   ],
   "source": [
    "trainset = trainset.drop(['Clearsky GHI'], axis = 1)\n",
    "### trainset -> R+DHI+DNI\n",
    "train = Train(trainset, train_ghi, 'model_GHI_2')\n",
    "pred_df = train.train_loop()\n",
    "\n",
    "trainset['Clearsky GHI']  = pred_df['tar']\n",
    "convert_dict = {\"Clearsky GHI\":float}\n",
    "trainset = trainset.astype(convert_dict)\n",
    "\n",
    "pred_df.to_csv(\"oof_pred_GHI_2.csv\",index=False)"
   ]
  },
  {
   "cell_type": "code",
   "execution_count": 14,
   "id": "385121e8",
   "metadata": {
    "execution": {
     "iopub.execute_input": "2023-04-12T16:20:40.308045Z",
     "iopub.status.busy": "2023-04-12T16:20:40.307193Z",
     "iopub.status.idle": "2023-04-12T16:28:07.216125Z",
     "shell.execute_reply": "2023-04-12T16:28:07.211951Z"
    },
    "papermill": {
     "duration": 446.923865,
     "end_time": "2023-04-12T16:28:07.223109",
     "exception": false,
     "start_time": "2023-04-12T16:20:40.299244",
     "status": "completed"
    },
    "tags": []
   },
   "outputs": [
    {
     "name": "stdout",
     "output_type": "stream",
     "text": [
      "Training starts...\n",
      "fold_ 0  done !\n",
      "fold_ 1  done !\n",
      "fold_ 2  done !\n",
      "fold_ 3  done !\n",
      "fold_ 4  done !\n"
     ]
    }
   ],
   "source": [
    "trainset = trainset.drop(['Clearsky DNI'], axis = 1)\n",
    "### trainset -> R+DHI+GHI\n",
    "train = Train(trainset, train_dni, 'model_DNI_2')\n",
    "pred_df = train.train_loop()\n",
    "\n",
    "trainset['Clearsky DNI']  = pred_df['tar']\n",
    "convert_dict = {\"Clearsky DNI\":float}\n",
    "trainset = trainset.astype(convert_dict)\n",
    "\n",
    "pred_df.to_csv(\"oof_pred_DNI_2.csv\",index=False)"
   ]
  },
  {
   "cell_type": "code",
   "execution_count": 15,
   "id": "1e828599",
   "metadata": {
    "execution": {
     "iopub.execute_input": "2023-04-12T16:28:07.238423Z",
     "iopub.status.busy": "2023-04-12T16:28:07.238108Z",
     "iopub.status.idle": "2023-04-12T16:35:32.712302Z",
     "shell.execute_reply": "2023-04-12T16:35:32.711185Z"
    },
    "papermill": {
     "duration": 445.491249,
     "end_time": "2023-04-12T16:35:32.721476",
     "exception": false,
     "start_time": "2023-04-12T16:28:07.230227",
     "status": "completed"
    },
    "tags": []
   },
   "outputs": [
    {
     "name": "stdout",
     "output_type": "stream",
     "text": [
      "Training starts...\n",
      "fold_ 0  done !\n",
      "fold_ 1  done !\n",
      "fold_ 2  done !\n",
      "fold_ 3  done !\n",
      "fold_ 4  done !\n"
     ]
    }
   ],
   "source": [
    "trainset = trainset.drop(['Clearsky DHI'], axis = 1)\n",
    "### trainset -> R+GHI+DNI\n",
    "train = Train(trainset, train_dhi, 'model_DHI_3')\n",
    "pred_df = train.train_loop()\n",
    "\n",
    "trainset['Clearsky DHI']  = pred_df['tar']\n",
    "convert_dict = {\"Clearsky DHI\":float}\n",
    "trainset = trainset.astype(convert_dict)\n",
    "\n",
    "pred_df.to_csv(\"oof_pred_DHI_3.csv\",index=False)"
   ]
  },
  {
   "cell_type": "code",
   "execution_count": 16,
   "id": "9da464e7",
   "metadata": {
    "execution": {
     "iopub.execute_input": "2023-04-12T16:35:32.738013Z",
     "iopub.status.busy": "2023-04-12T16:35:32.737072Z",
     "iopub.status.idle": "2023-04-12T16:43:00.671633Z",
     "shell.execute_reply": "2023-04-12T16:43:00.670535Z"
    },
    "papermill": {
     "duration": 447.952806,
     "end_time": "2023-04-12T16:43:00.681411",
     "exception": false,
     "start_time": "2023-04-12T16:35:32.728605",
     "status": "completed"
    },
    "tags": []
   },
   "outputs": [
    {
     "name": "stdout",
     "output_type": "stream",
     "text": [
      "Training starts...\n",
      "fold_ 0  done !\n",
      "fold_ 1  done !\n",
      "fold_ 2  done !\n",
      "fold_ 3  done !\n",
      "fold_ 4  done !\n"
     ]
    }
   ],
   "source": [
    "trainset = trainset.drop(['Clearsky GHI'], axis = 1)\n",
    "### trainset -> R+DHI+DNI\n",
    "train = Train(trainset, train_ghi, 'model_GHI_3')\n",
    "pred_df = train.train_loop()\n",
    "\n",
    "trainset['Clearsky GHI']  = pred_df['tar']\n",
    "convert_dict = {\"Clearsky GHI\":float}\n",
    "trainset = trainset.astype(convert_dict)\n",
    "\n",
    "pred_df.to_csv(\"oof_pred_GHI_3.csv\",index=False)"
   ]
  },
  {
   "cell_type": "code",
   "execution_count": 17,
   "id": "326958c5",
   "metadata": {
    "execution": {
     "iopub.execute_input": "2023-04-12T16:43:00.697662Z",
     "iopub.status.busy": "2023-04-12T16:43:00.697353Z",
     "iopub.status.idle": "2023-04-12T16:50:34.097864Z",
     "shell.execute_reply": "2023-04-12T16:50:34.096725Z"
    },
    "papermill": {
     "duration": 453.418851,
     "end_time": "2023-04-12T16:50:34.107807",
     "exception": false,
     "start_time": "2023-04-12T16:43:00.688956",
     "status": "completed"
    },
    "tags": []
   },
   "outputs": [
    {
     "name": "stdout",
     "output_type": "stream",
     "text": [
      "Training starts...\n",
      "fold_ 0  done !\n",
      "fold_ 1  done !\n",
      "fold_ 2  done !\n",
      "fold_ 3  done !\n",
      "fold_ 4  done !\n"
     ]
    }
   ],
   "source": [
    "trainset = trainset.drop(['Clearsky DNI'], axis = 1)\n",
    "### trainset -> R+DHI+GHI\n",
    "train = Train(trainset, train_dni, 'model_DNI_3')\n",
    "pred_df = train.train_loop()\n",
    "\n",
    "trainset['Clearsky DNI']  = pred_df['tar']\n",
    "convert_dict = {\"Clearsky DNI\":float}\n",
    "trainset = trainset.astype(convert_dict)\n",
    "\n",
    "pred_df.to_csv(\"oof_pred_DNI_3.csv\",index=False)"
   ]
  },
  {
   "cell_type": "code",
   "execution_count": null,
   "id": "d9c3c909",
   "metadata": {
    "papermill": {
     "duration": 0.008247,
     "end_time": "2023-04-12T16:50:34.123887",
     "exception": false,
     "start_time": "2023-04-12T16:50:34.115640",
     "status": "completed"
    },
    "tags": []
   },
   "outputs": [],
   "source": []
  },
  {
   "cell_type": "code",
   "execution_count": null,
   "id": "c315f3ac",
   "metadata": {
    "papermill": {
     "duration": 0.007507,
     "end_time": "2023-04-12T16:50:34.139256",
     "exception": false,
     "start_time": "2023-04-12T16:50:34.131749",
     "status": "completed"
    },
    "tags": []
   },
   "outputs": [],
   "source": []
  },
  {
   "cell_type": "code",
   "execution_count": null,
   "id": "1184ae5a",
   "metadata": {
    "papermill": {
     "duration": 0.007442,
     "end_time": "2023-04-12T16:50:34.154385",
     "exception": false,
     "start_time": "2023-04-12T16:50:34.146943",
     "status": "completed"
    },
    "tags": []
   },
   "outputs": [],
   "source": []
  }
 ],
 "metadata": {
  "kernelspec": {
   "display_name": "Python 3",
   "language": "python",
   "name": "python3"
  },
  "language_info": {
   "codemirror_mode": {
    "name": "ipython",
    "version": 3
   },
   "file_extension": ".py",
   "mimetype": "text/x-python",
   "name": "python",
   "nbconvert_exporter": "python",
   "pygments_lexer": "ipython3",
   "version": "3.7.12"
  },
  "papermill": {
   "default_parameters": {},
   "duration": 3873.727964,
   "end_time": "2023-04-12T16:50:36.355996",
   "environment_variables": {},
   "exception": null,
   "input_path": "__notebook__.ipynb",
   "output_path": "__notebook__.ipynb",
   "parameters": {},
   "start_time": "2023-04-12T15:46:02.628032",
   "version": "2.4.0"
  }
 },
 "nbformat": 4,
 "nbformat_minor": 5
}
